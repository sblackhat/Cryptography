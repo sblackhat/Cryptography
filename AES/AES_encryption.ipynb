{
 "cells": [
  {
   "cell_type": "markdown",
   "metadata": {},
   "source": [
    "# AES (Advanced Encryption Standard) description\n",
    "\n",
    "This file is designed as a high level and conceptual introduction to AES encryption/decryption algorithm. I emphasize the role of the use of finite fields in the conceptual design. The motivation for the choices of functions is not discussed in this version of the file."
   ]
  },
  {
   "cell_type": "markdown",
   "metadata": {},
   "source": [
    "## Finite field $\\mathbb{F}_{2^8}$ setup"
   ]
  },
  {
   "cell_type": "code",
   "execution_count": 266,
   "metadata": {},
   "outputs": [],
   "source": [
    "R.<x> = PolynomialRing(GF(2))\n",
    "F256.<a> = GF(2**8, name='a', modulus=x^8+x^4+x^3+x+1)"
   ]
  },
  {
   "cell_type": "markdown",
   "metadata": {},
   "source": [
    "### Hexadecimal representation of elements in $\\mathbb{F}_{2^8}$"
   ]
  },
  {
   "cell_type": "code",
   "execution_count": 439,
   "metadata": {},
   "outputs": [],
   "source": [
    "def HexToF256(n):\n",
    "    xl=list(map(int,bin(int(n,16))[2:]))\n",
    "    xl.reverse()\n",
    "    return F256(R(xl))\n",
    "def F256ToHex(el):\n",
    "    al=R(el).list()\n",
    "    if len(al)==0:\n",
    "        return '00'\n",
    "    al.reverse()\n",
    "    return hex(int(\"\".join(map(str,al)),2))[2:].upper()\n",
    "\n",
    "def h(x):\n",
    "    return HexToF256(x)\n",
    "def g(x):\n",
    "    return F256ToHex(x)\n",
    "\n",
    "\n",
    "def HexToBits(h):\n",
    "    return leftpadding(list(map(int,bin(int(h,16))[2:])),8)\n",
    "def b(h):\n",
    "    return HexToBits(h)"
   ]
  },
  {
   "cell_type": "markdown",
   "metadata": {},
   "source": [
    "### AES specification"
   ]
  },
  {
   "cell_type": "code",
   "execution_count": 401,
   "metadata": {},
   "outputs": [],
   "source": [
    "#AES specification\n",
    "Nb=4\n",
    "AEStype='128' #choose '128','192' or '256'\n",
    "\n",
    "if AEStype=='128':\n",
    "    Nk=4\n",
    "    Nr=10\n",
    "if AEStype=='192':\n",
    "    Nk=6\n",
    "    Nr=12\n",
    "if AEStype=='256':\n",
    "    Nk=8\n",
    "    Nr=14\n",
    "    \n",
    "#state is a 4 by 4 array of F256 elements, e.g.\n",
    "state=[[F256(0) for i in range(0,4)] for j in range(0,4)]\n",
    "state     "
   ]
  },
  {
   "cell_type": "markdown",
   "metadata": {},
   "source": [
    "### S-Box setup and SubBytes routine"
   ]
  },
  {
   "cell_type": "code",
   "execution_count": 237,
   "metadata": {},
   "outputs": [],
   "source": [
    "#cyclic shifts of lists\n",
    "def CyclicRot(li,n):\n",
    "    l=len(li)\n",
    "    return li[n%l:]+li[:-((l-n)%l)]"
   ]
  },
  {
   "cell_type": "code",
   "execution_count": 294,
   "metadata": {},
   "outputs": [],
   "source": [
    "#(right)padding of the list\n",
    "def padding(li,n):\n",
    "    return li+[0]*(n-len(li))\n",
    "\n",
    "#left padding of the list\n",
    "def leftpadding(li,n):\n",
    "    return [0]*(n-len(li))+li\n",
    "\n",
    "#x is meant to be an element of F256, we lift it to R ring representation and turn into coefficients list\n",
    "def l(x,p):\n",
    "    li=R(x).list()\n",
    "    return padding(li,p)"
   ]
  },
  {
   "cell_type": "code",
   "execution_count": 400,
   "metadata": {},
   "outputs": [],
   "source": [
    "#important matrix used in the SBox design\n",
    "m=matrix([CyclicRot([1,0,0,0,1,1,1,1],-k) for k in range(0,8)])\n",
    "def SBox(el):\n",
    "    if not(el==0):\n",
    "        inv=el**(-1)\n",
    "    else:\n",
    "        inv=F256(el)\n",
    "    return F256(list(m*vector(l(inv,8))))+h('63')\n",
    "\n",
    "def SubBytes(state):\n",
    "    out=[]\n",
    "    for row in state:\n",
    "        li=map(SBox,row)\n",
    "        out.append(li)\n",
    "    return out"
   ]
  },
  {
   "cell_type": "markdown",
   "metadata": {},
   "source": [
    "### MixColumns"
   ]
  },
  {
   "cell_type": "code",
   "execution_count": 551,
   "metadata": {},
   "outputs": [],
   "source": [
    "#MixColumns setup\n",
    "R2.<T>=PolynomialRing(F256)\n",
    "cpol=h('03')*T^3+h('01')*T^2+h('01')*T+h('02')\n",
    "cpolinv=(h('0B')*T^3+h('0D')*T^2+h('09')*T+h('0E'))"
   ]
  },
  {
   "cell_type": "code",
   "execution_count": 553,
   "metadata": {},
   "outputs": [
    {
     "data": {
      "text/plain": [
       "1"
      ]
     },
     "execution_count": 553,
     "metadata": {},
     "output_type": "execute_result"
    }
   ],
   "source": [
    "#inverse check\n",
    "(cpol*cpolinv)%(T^4+1)"
   ]
  },
  {
   "cell_type": "code",
   "execution_count": 564,
   "metadata": {},
   "outputs": [],
   "source": [
    "def MixColumns(state):\n",
    "    m=matrix(state)\n",
    "    mt=transpose(m)\n",
    "    c0,c1,c2,c3=list(mt)\n",
    "    vpol=vector([T^3,T^2,T,1])\n",
    "    newstate=[]\n",
    "    for c in [c0,c1,c2,c3]:\n",
    "        p=((vector(R2,padding(list(reversed((c).list())),4-len(c.list())))*vpol)*cpol)%(T^4+1)\n",
    "        newstate+=[padding(p.list(),4)]\n",
    "    return list(transpose(matrix(newstate)))"
   ]
  },
  {
   "cell_type": "markdown",
   "metadata": {},
   "source": [
    "### ShiftRows routine"
   ]
  },
  {
   "cell_type": "code",
   "execution_count": 114,
   "metadata": {},
   "outputs": [],
   "source": [
    "#shifts initialization designed in AES\n",
    "if Nb==4:\n",
    "    C0=0\n",
    "    C1=1\n",
    "    C2=2\n",
    "    C3=3"
   ]
  },
  {
   "cell_type": "code",
   "execution_count": 395,
   "metadata": {},
   "outputs": [],
   "source": [
    "def ShiftRows(state):\n",
    "    row0,row1,row2,row3=state\n",
    "    return [CyclicRot(row0,C0),CyclicRot(row1,C1),CyclicRot(row2,C2),CyclicRot(row3,C3)]"
   ]
  },
  {
   "cell_type": "markdown",
   "metadata": {},
   "source": [
    "### KeyExpansion routine"
   ]
  },
  {
   "cell_type": "code",
   "execution_count": 383,
   "metadata": {},
   "outputs": [],
   "source": [
    "def KeyExpansion(Key):\n",
    "    W=[0]*(Nb*(Nr+1))\n",
    "    if Nk<=6:\n",
    "        for i in range(0,Nk):\n",
    "            W[i]=[F256(Key[4*i+j]) for j in range(0,4)]\n",
    "        for i in range(Nk,Nb*(Nr+1)):\n",
    "            temp=W[i-1]\n",
    "            if i%Nk==0:\n",
    "                temp=list(map(SBox,CyclicRot(temp,1)))\n",
    "                temp[0]=temp[0]+a**(i//Nk-1)\n",
    "            W[i]=list(vector(F256,W[i-Nk])+vector(F256,temp))\n",
    "        return W\n",
    "    \n",
    "    #TODO: write the case Nk>6"
   ]
  },
  {
   "cell_type": "markdown",
   "metadata": {},
   "source": [
    "### RoundKey generation"
   ]
  },
  {
   "cell_type": "code",
   "execution_count": 384,
   "metadata": {},
   "outputs": [],
   "source": [
    "def RoundKey(expkey,i):\n",
    "    return expkey[Nb*i:Nb*(i+1)]"
   ]
  },
  {
   "cell_type": "markdown",
   "metadata": {},
   "source": [
    "### AddRoundKey routine"
   ]
  },
  {
   "cell_type": "code",
   "execution_count": 350,
   "metadata": {},
   "outputs": [],
   "source": [
    "def AddRoundKey(state,roundkey):\n",
    "    return list(matrix(state)+transpose(matrix(roundkey)))"
   ]
  },
  {
   "cell_type": "markdown",
   "metadata": {},
   "source": [
    "### PrintState (this is used in the verification of AES workings)"
   ]
  },
  {
   "cell_type": "code",
   "execution_count": 568,
   "metadata": {},
   "outputs": [],
   "source": [
    "def PrintState(state):\n",
    "    return [[g(x) for x in r] for r in state]"
   ]
  },
  {
   "cell_type": "markdown",
   "metadata": {},
   "source": [
    "### AES encryption (Rijndael with 128 bit key)"
   ]
  },
  {
   "cell_type": "code",
   "execution_count": 654,
   "metadata": {},
   "outputs": [],
   "source": [
    "def AESEncryptionVerbose(inp,key):\n",
    "    expkey=KeyExpansion(key)\n",
    "    state=inp\n",
    "    \n",
    "    print(\"Input\")\n",
    "    print(PrintState(state))\n",
    "    \n",
    "    state=AddRoundKey(state,RoundKey(expkey,0))\n",
    "    print(\"Round Key Value\")\n",
    "    print(PrintState(RoundKey(expkey,0)))\n",
    "    \n",
    "    for rnd in range(1,Nr):\n",
    "        print(\"\\n Start Of Round {}\".format(rnd))\n",
    "        print(PrintState(state))\n",
    "        \n",
    "        state=SubBytes(state)\n",
    "        print(\"After SubBytes\")\n",
    "        print(PrintState(state))\n",
    "        \n",
    "        state=ShiftRows(state)\n",
    "        \n",
    "        print(\"After ShiftRows\")\n",
    "        print(PrintState(state))\n",
    "\n",
    "\n",
    "        state=MixColumns(state)\n",
    "        print(\"After MixColumns\")\n",
    "        print(PrintState(state))\n",
    "\n",
    "\n",
    "        state=AddRoundKey(state,RoundKey(expkey,rnd))\n",
    "        print(\"Round Key Value\")\n",
    "        print(PrintState(RoundKey(expkey,rnd)))\n",
    "        \n",
    "    print(\"\\n Start Of the Final Round {}\".format(10))\n",
    "    print(PrintState(state))\n",
    "        \n",
    "    state=SubBytes(state)\n",
    "    print(\"After SubBytes\")\n",
    "    print(PrintState(state))\n",
    "    \n",
    "    state=ShiftRows(state)\n",
    "    print(\"After ShiftRows\")\n",
    "    print(PrintState(state))\n",
    "    \n",
    "    state=AddRoundKey(state,RoundKey(expkey,Nr))\n",
    "    print(\"\\n Output\")\n",
    "    print(PrintState(state))\n",
    "    \n",
    "    return [list(x) for x in state]"
   ]
  },
  {
   "cell_type": "code",
   "execution_count": 655,
   "metadata": {},
   "outputs": [],
   "source": [
    "def AESEncryption(inp,key):\n",
    "    expkey=KeyExpansion(key)\n",
    "    state=inp\n",
    "    state=AddRoundKey(state,RoundKey(expkey,0))\n",
    "    \n",
    "    for rnd in range(1,Nr):\n",
    "        \n",
    "        state=SubBytes(state)\n",
    "        state=ShiftRows(state)\n",
    "        state=MixColumns(state)\n",
    "        state=AddRoundKey(state,RoundKey(expkey,rnd))\n",
    "        \n",
    "        \n",
    "    state=SubBytes(state)\n",
    "    state=ShiftRows(state)\n",
    "    state=AddRoundKey(state,RoundKey(expkey,Nr))    \n",
    "    return [list(x) for x in state]\n",
    "\n",
    "\n",
    "##Remarks\n",
    "\n",
    "#key is a list of 16 element from F256, e.g.\n",
    "#key=[F256(0)]*16\n",
    "\n",
    "#state is a 4 by 4 array of F256 elements, e.g.\n",
    "#state=[[F256(0) for i in range(0,4)] for j in range(0,4)]\n",
    "#AESEncryption(state,key)"
   ]
  },
  {
   "cell_type": "markdown",
   "metadata": {},
   "source": [
    "### NIST example"
   ]
  },
  {
   "cell_type": "code",
   "execution_count": 656,
   "metadata": {},
   "outputs": [
    {
     "name": "stdout",
     "output_type": "stream",
     "text": [
      "Input\n",
      "[['32', '88', '31', 'E0'], ['43', '5A', '31', '37'], ['F6', '30', '98', '7'], ['A8', '8D', 'A2', '34']]\n",
      "Round Key Value\n",
      "[['2B', '7E', '15', '16'], ['28', 'AE', 'D2', 'A6'], ['AB', 'F7', '15', '88'], ['9', 'CF', '4F', '3C']]\n",
      "\n",
      " Start Of Round 1\n",
      "[['19', 'A0', '9A', 'E9'], ['3D', 'F4', 'C6', 'F8'], ['E3', 'E2', '8D', '48'], ['BE', '2B', '2A', '8']]\n",
      "After SubBytes\n",
      "[['D4', 'E0', 'B8', '1E'], ['27', 'BF', 'B4', '41'], ['11', '98', '5D', '52'], ['AE', 'F1', 'E5', '30']]\n",
      "After ShiftRows\n",
      "[['D4', 'E0', 'B8', '1E'], ['BF', 'B4', '41', '27'], ['5D', '52', '11', '98'], ['30', 'AE', 'F1', 'E5']]\n",
      "After MixColumns\n",
      "[['4', 'E0', '48', '28'], ['66', 'CB', 'F8', '6'], ['81', '19', 'D3', '26'], ['E5', '9A', '7A', '4C']]\n",
      "Round Key Value\n",
      "[['A0', 'FA', 'FE', '17'], ['88', '54', '2C', 'B1'], ['23', 'A3', '39', '39'], ['2A', '6C', '76', '5']]\n",
      "\n",
      " Start Of Round 2\n",
      "[['A4', '68', '6B', '2'], ['9C', '9F', '5B', '6A'], ['7F', '35', 'EA', '50'], ['F2', '2B', '43', '49']]\n",
      "After SubBytes\n",
      "[['49', '45', '7F', '77'], ['DE', 'DB', '39', '2'], ['D2', '96', '87', '53'], ['89', 'F1', '1A', '3B']]\n",
      "After ShiftRows\n",
      "[['49', '45', '7F', '77'], ['DB', '39', '2', 'DE'], ['87', '53', 'D2', '96'], ['3B', '89', 'F1', '1A']]\n",
      "After MixColumns\n",
      "[['58', '1B', 'DB', '1B'], ['4D', '4B', 'E7', '6B'], ['CA', '5A', 'CA', 'B0'], ['F1', 'AC', 'A8', 'E5']]\n",
      "Round Key Value\n",
      "[['F2', 'C2', '95', 'F2'], ['7A', '96', 'B9', '43'], ['59', '35', '80', '7A'], ['73', '59', 'F6', '7F']]\n",
      "\n",
      " Start Of Round 3\n",
      "[['AA', '61', '82', '68'], ['8F', 'DD', 'D2', '32'], ['5F', 'E3', '4A', '46'], ['3', 'EF', 'D2', '9A']]\n",
      "After SubBytes\n",
      "[['AC', 'EF', '13', '45'], ['73', 'C1', 'B5', '23'], ['CF', '11', 'D6', '5A'], ['7B', 'DF', 'B5', 'B8']]\n",
      "After ShiftRows\n",
      "[['AC', 'EF', '13', '45'], ['C1', 'B5', '23', '73'], ['D6', '5A', 'CF', '11'], ['B8', '7B', 'DF', 'B5']]\n",
      "After MixColumns\n",
      "[['75', '20', '53', 'BB'], ['EC', 'B', 'C0', '25'], ['9', '63', 'CF', 'D0'], ['93', '33', '7C', 'DC']]\n",
      "Round Key Value\n",
      "[['3D', '80', '47', '7D'], ['47', '16', 'FE', '3E'], ['1E', '23', '7E', '44'], ['6D', '7A', '88', '3B']]\n",
      "\n",
      " Start Of Round 4\n",
      "[['48', '67', '4D', 'D6'], ['6C', '1D', 'E3', '5F'], ['4E', '9D', 'B1', '58'], ['EE', 'D', '38', 'E7']]\n",
      "After SubBytes\n",
      "[['52', '85', 'E3', 'F6'], ['50', 'A4', '11', 'CF'], ['2F', '5E', 'C8', '6A'], ['28', 'D7', '7', '94']]\n",
      "After ShiftRows\n",
      "[['52', '85', 'E3', 'F6'], ['A4', '11', 'CF', '50'], ['C8', '6A', '2F', '5E'], ['94', '28', 'D7', '7']]\n",
      "After MixColumns\n",
      "[['F', '60', '6F', '5E'], ['D6', '31', 'C0', 'B3'], ['DA', '38', '10', '13'], ['A9', 'BF', '6B', '1']]\n",
      "Round Key Value\n",
      "[['EF', '44', 'A5', '41'], ['A8', '52', '5B', '7F'], ['B6', '71', '25', '3B'], ['DB', 'B', 'AD', '00']]\n",
      "\n",
      " Start Of Round 5\n",
      "[['E0', 'C8', 'D9', '85'], ['92', '63', 'B1', 'B8'], ['7F', '63', '35', 'BE'], ['E8', 'C0', '50', '1']]\n",
      "After SubBytes\n",
      "[['E1', 'E8', '35', '97'], ['4F', 'FB', 'C8', '6C'], ['D2', 'FB', '96', 'AE'], ['9B', 'BA', '53', '7C']]\n",
      "After ShiftRows\n",
      "[['E1', 'E8', '35', '97'], ['FB', 'C8', '6C', '4F'], ['96', 'AE', 'D2', 'FB'], ['7C', '9B', 'BA', '53']]\n",
      "After MixColumns\n",
      "[['25', 'BD', 'B6', '4C'], ['D1', '11', '3A', '4C'], ['A9', 'D1', '33', 'C0'], ['AD', '68', '8E', 'B0']]\n",
      "Round Key Value\n",
      "[['D4', 'D1', 'C6', 'F8'], ['7C', '83', '9D', '87'], ['CA', 'F2', 'B8', 'BC'], ['11', 'F9', '15', 'BC']]\n",
      "\n",
      " Start Of Round 6\n",
      "[['F1', 'C1', '7C', '5D'], ['00', '92', 'C8', 'B5'], ['6F', '4C', '8B', 'D5'], ['55', 'EF', '32', 'C']]\n",
      "After SubBytes\n",
      "[['A1', '78', '10', '4C'], ['63', '4F', 'E8', 'D5'], ['A8', '29', '3D', '3'], ['FC', 'DF', '23', 'FE']]\n",
      "After ShiftRows\n",
      "[['A1', '78', '10', '4C'], ['4F', 'E8', 'D5', '63'], ['3D', '3', 'A8', '29'], ['FE', 'FC', 'DF', '23']]\n",
      "After MixColumns\n",
      "[['4B', '2C', '33', '37'], ['86', '4A', '9D', 'D2'], ['8D', '89', 'F4', '18'], ['6D', '80', 'E8', 'D8']]\n",
      "Round Key Value\n",
      "[['6D', '88', 'A3', '7A'], ['11', 'B', '3E', 'FD'], ['DB', 'F9', '86', '41'], ['CA', '00', '93', 'FD']]\n",
      "\n",
      " Start Of Round 7\n",
      "[['26', '3D', 'E8', 'FD'], ['E', '41', '64', 'D2'], ['2E', 'B7', '72', '8B'], ['17', '7D', 'A9', '25']]\n",
      "After SubBytes\n",
      "[['F7', '27', '9B', '54'], ['AB', '83', '43', 'B5'], ['31', 'A9', '40', '3D'], ['F0', 'FF', 'D3', '3F']]\n",
      "After ShiftRows\n",
      "[['F7', '27', '9B', '54'], ['83', '43', 'B5', 'AB'], ['40', '3D', '31', 'A9'], ['3F', 'F0', 'FF', 'D3']]\n",
      "After MixColumns\n",
      "[['14', '46', '27', '34'], ['15', '16', '46', '2A'], ['B5', '15', '56', 'D8'], ['BF', 'EC', 'D7', '43']]\n",
      "Round Key Value\n",
      "[['4E', '54', 'F7', 'E'], ['5F', '5F', 'C9', 'F3'], ['84', 'A6', '4F', 'B2'], ['4E', 'A6', 'DC', '4F']]\n",
      "\n",
      " Start Of Round 8\n",
      "[['5A', '19', 'A3', '7A'], ['41', '49', 'E0', '8C'], ['42', 'DC', '19', '4'], ['B1', '1F', '65', 'C']]\n",
      "After SubBytes\n",
      "[['BE', 'D4', 'A', 'DA'], ['83', '3B', 'E1', '64'], ['2C', '86', 'D4', 'F2'], ['C8', 'C0', '4D', 'FE']]\n",
      "After ShiftRows\n",
      "[['BE', 'D4', 'A', 'DA'], ['3B', 'E1', '64', '83'], ['D4', 'F2', '2C', '86'], ['FE', 'C8', 'C0', '4D']]\n",
      "After MixColumns\n",
      "[['00', 'B1', '54', 'FA'], ['51', 'C8', '76', '1B'], ['2F', '89', '6D', '99'], ['D1', 'FF', 'CD', 'EA']]\n",
      "Round Key Value\n",
      "[['EA', 'D2', '73', '21'], ['B5', '8D', 'BA', 'D2'], ['31', '2B', 'F5', '60'], ['7F', '8D', '29', '2F']]\n",
      "\n",
      " Start Of Round 9\n",
      "[['EA', '4', '65', '85'], ['83', '45', '5D', '96'], ['5C', '33', '98', 'B0'], ['F0', '2D', 'AD', 'C5']]\n",
      "After SubBytes\n",
      "[['87', 'F2', '4D', '97'], ['EC', '6E', '4C', '90'], ['4A', 'C3', '46', 'E7'], ['8C', 'D8', '95', 'A6']]\n",
      "After ShiftRows\n",
      "[['87', 'F2', '4D', '97'], ['6E', '4C', '90', 'EC'], ['46', 'E7', '4A', 'C3'], ['A6', '8C', 'D8', '95']]\n",
      "After MixColumns\n",
      "[['47', '40', 'A3', '4C'], ['37', 'D4', '70', '9F'], ['94', 'E4', '3A', '42'], ['ED', 'A5', 'A6', 'BC']]\n",
      "Round Key Value\n",
      "[['AC', '77', '66', 'F3'], ['19', 'FA', 'DC', '21'], ['28', 'D1', '29', '41'], ['57', '5C', '00', '6E']]\n",
      "\n",
      " Start Of the Final Round 10\n",
      "[['EB', '59', '8B', '1B'], ['40', '2E', 'A1', 'C3'], ['F2', '38', '13', '42'], ['1E', '84', 'E7', 'D2']]\n",
      "After SubBytes\n",
      "[['E9', 'CB', '3D', 'AF'], ['9', '31', '32', '2E'], ['89', '7', '7D', '2C'], ['72', '5F', '94', 'B5']]\n",
      "After ShiftRows\n",
      "[['E9', 'CB', '3D', 'AF'], ['31', '32', '2E', '9'], ['7D', '2C', '89', '7'], ['B5', '72', '5F', '94']]\n",
      "\n",
      " Output\n",
      "[['39', '2', 'DC', '19'], ['25', 'DC', '11', '6A'], ['84', '9', '85', 'B'], ['1D', 'FB', '97', '32']]\n"
     ]
    }
   ],
   "source": [
    "inp=matrix(4,4,[h(x) for x in ['32','43','f6','a8','88','5a','30','8d','31','31','98','a2','e0','37','07','34']])\n",
    "inp=list(transpose(inp))\n",
    "key=[h(x) for x in ['2b','7e','15','16','28','ae','d2','a6','ab','f7','15','88','09','cf','4f','3c']]\n",
    "\n",
    "\n",
    "cipher=AESEncryptionVerbose(inp,key)"
   ]
  },
  {
   "cell_type": "markdown",
   "metadata": {},
   "source": [
    "### AES decryption (Rijndael with 128 bit key)"
   ]
  },
  {
   "cell_type": "markdown",
   "metadata": {},
   "source": [
    "#### InvSubBytes"
   ]
  },
  {
   "cell_type": "code",
   "execution_count": 644,
   "metadata": {},
   "outputs": [],
   "source": [
    "#important matrix used in the SBox design\n",
    "m=matrix(GF(2),[CyclicRot([1,0,0,0,1,1,1,1],-k) for k in range(0,8)])\n",
    "minv=m**(-1)\n",
    "def SBoxinv(el):\n",
    "    val=F256((list(minv*vector(l(el-h('63'),8)))))\n",
    "    if not(val==F256(0)):\n",
    "        return val**(-1)\n",
    "    else:\n",
    "        return val\n",
    "\n",
    "def InvSubBytes(state):\n",
    "    out=[]\n",
    "    for row in state:\n",
    "        li=map(SBoxinv,row)\n",
    "        out.append(li)\n",
    "    return out"
   ]
  },
  {
   "cell_type": "markdown",
   "metadata": {},
   "source": [
    "#### InvMixColumns"
   ]
  },
  {
   "cell_type": "code",
   "execution_count": 684,
   "metadata": {},
   "outputs": [],
   "source": [
    "def InvMixColumns(state):\n",
    "    m=matrix(state)\n",
    "    mt=transpose(m)\n",
    "    c0,c1,c2,c3=list(mt)\n",
    "    vpol=vector([T^3,T^2,T,1])\n",
    "    newstate=[]\n",
    "    for c in [c0,c1,c2,c3]:\n",
    "        p=((vector(R2,padding(list(reversed((c).list())),4-len(c.list())))*vpol)*cpolinv)%(T^4+1)\n",
    "        newstate+=[padding(p.list(),4)]\n",
    "    return list(transpose(matrix(newstate)))"
   ]
  },
  {
   "cell_type": "markdown",
   "metadata": {},
   "source": [
    "#### InvShiftRows"
   ]
  },
  {
   "cell_type": "code",
   "execution_count": 685,
   "metadata": {},
   "outputs": [],
   "source": [
    "def InvShiftRows(state):\n",
    "    row0,row1,row2,row3=[list(x) for x in state]\n",
    "    return [CyclicRot(row0,4-C0),CyclicRot(row1,4-C1),CyclicRot(row2,4-C2),CyclicRot(row3,4-C3)]"
   ]
  },
  {
   "cell_type": "code",
   "execution_count": 688,
   "metadata": {},
   "outputs": [],
   "source": [
    "def AESDecryption(inp,key):\n",
    "    expkey=KeyExpansion(key)\n",
    "    state=inp\n",
    "    state=AddRoundKey(state,RoundKey(expkey,Nr))\n",
    "    \n",
    "    for rnd in range(Nr-1,0,-1):\n",
    "        state=InvShiftRows(state)\n",
    "        state=InvSubBytes(state)\n",
    "        state=AddRoundKey(state,RoundKey(expkey,rnd))\n",
    "        state=InvMixColumns(state)\n",
    "        \n",
    "    state=InvShiftRows(state)\n",
    "    state=InvSubBytes(state)\n",
    "    state=AddRoundKey(state,RoundKey(expkey,0))\n",
    "    return [list(x) for x in state]"
   ]
  },
  {
   "cell_type": "markdown",
   "metadata": {},
   "source": [
    "## NIST example continued"
   ]
  },
  {
   "cell_type": "code",
   "execution_count": 690,
   "metadata": {},
   "outputs": [
    {
     "data": {
      "text/plain": [
       "[['32', '88', '31', 'E0'],\n",
       " ['43', '5A', '31', '37'],\n",
       " ['F6', '30', '98', '7'],\n",
       " ['A8', '8D', 'A2', '34']]"
      ]
     },
     "execution_count": 690,
     "metadata": {},
     "output_type": "execute_result"
    }
   ],
   "source": [
    "inp=matrix(4,4,[h(x) for x in ['32','43','f6','a8','88','5a','30','8d','31','31','98','a2','e0','37','07','34']])\n",
    "inp=transpose(inp)\n",
    "key=[h(x) for x in ['2b','7e','15','16','28','ae','d2','a6','ab','f7','15','88','09','cf','4f','3c']]\n",
    "\n",
    "\n",
    "cipher=AESEncryption(inp,key)\n",
    "plain=AESDecryption(matrix(cipher),key)\n",
    "[[g(x) for x in row] for row in plain]"
   ]
  },
  {
   "cell_type": "code",
   "execution_count": null,
   "metadata": {},
   "outputs": [],
   "source": []
  }
 ],
 "metadata": {
  "kernelspec": {
   "display_name": "SageMath 9.2",
   "language": "sage",
   "name": "sagemath"
  },
  "language_info": {
   "codemirror_mode": {
    "name": "ipython",
    "version": 3
   },
   "file_extension": ".py",
   "mimetype": "text/x-python",
   "name": "python",
   "nbconvert_exporter": "python",
   "pygments_lexer": "ipython3",
   "version": "3.7.7"
  }
 },
 "nbformat": 4,
 "nbformat_minor": 2
}
