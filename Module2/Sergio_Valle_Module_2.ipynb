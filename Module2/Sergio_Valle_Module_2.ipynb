{
 "cells": [
  {
   "cell_type": "markdown",
   "metadata": {},
   "source": [
    "# Module 2:\n",
    "\n",
    "Score rules. Please solve exercises worth at most 10 pts. For each correct execution you will receive an assigned number of points. Its sum will determine the final score.\n",
    "\n",
    "1. Algorithm which generates a random elliptic curve (missing: 0 pts, implmentation up to 2 pts)\n",
    "2. Algorithm which finds a random point on an elliptic curve (missing: 0 pts, implmentation up to 1 pts)\n",
    "3. Algorithm checking whether a point belongs to the curve (missing: 0 pts, implmentation up to 1 pts)\n",
    "4. Algoritm generating the opposite of a point (missing: 0 pts, implmentation up to 1 pts)\n",
    "5. Algorithm which adds two points on the curve (missing: 0 pts, implmentation up to 5 pts)\n",
    "\n",
    "In addition, you can obtain a full score on the test no 2 (worth 10pts) if the implementation of the functions in 1-5 will use your own arithmetic implementation on large integers (which was prepared for Module 1). If you have not done such an implementation for Module 1, you can still do it in this task."
   ]
  },
  {
   "cell_type": "markdown",
   "metadata": {},
   "source": [
    "# 1. Algorithm which generates a random elliptic curve\n",
    "Input: natural number $k>2$ which denotes the number of bits.\n",
    "\n",
    "Output: \n",
    "1. Randomly chosen prime number $p$, which has $k$ bits and satisfies the condition $p\\equiv 3(\\textrm{mod }4)$.\n",
    "2. Natural numbers $A,B$ in the range $0\\leq A,B\\leq p-1$ such that $Y^2=X^3+AX+B$ is an elliptic curve.\n",
    "\n",
    "<b>Hint:</b> you need to check the condition $4A^3+27B^2\\equiv 0(\\textrm{mod }p)$. If it is true, then choose another pair, until you find $A,B for which the congruence is false.\n",
    "\n",
    "For the prime number generation use the Fermat primality test discussed in Module 1."
   ]
  },
  {
   "cell_type": "code",
   "execution_count": 339,
   "metadata": {},
   "outputs": [],
   "source": [
    "#Import the necesary libs\n",
    "import random\n",
    "import sympy as sp"
   ]
  },
  {
   "cell_type": "code",
   "execution_count": 419,
   "metadata": {},
   "outputs": [],
   "source": [
    "#Random k-bit number generator\n",
    "def gennum(size):\n",
    "    li=[random.choice([0,1]) for k in range(0,size-2)]\n",
    "    li.append(1)\n",
    "    num=li[0]\n",
    "    for el in li[1:]:\n",
    "        num<<=1\n",
    "        num^=el\n",
    "    return num\n",
    "\n",
    "def gcd(a,b):\n",
    "    while b:\n",
    "        a,b = b,a % b;\n",
    "    return abs(a);\n",
    "\n",
    "def get_coprime(n):\n",
    "    while True:\n",
    "        coprime = random.randrange(2,n)\n",
    "        if gcd(coprime, n) == 1:\n",
    "            return coprime\n",
    "        else:\n",
    "            return -1\n",
    "        \n",
    "#Returns true if prime after count rounds \n",
    "def FermatTest(n,count=100000):\n",
    "    if n == 1 or n == 2: return True;\n",
    "    for i in range(count):\n",
    "        a = get_coprime(n)\n",
    "        if(a < 0 or pow(a,n-1,n) != 1):\n",
    "            return False\n",
    "    return True;\n",
    "\n",
    "def PrimeGen(size):\n",
    "    num=gennum(size)\n",
    "    while not FermatTest(num,size):\n",
    "        num=gennum(size)\n",
    "    return num\n",
    "\n",
    "def PrimeGenMod4(size):\n",
    "    if(size < 4): raise Exception(\"Size should be >= 4\");\n",
    "    num = PrimeGen(size);\n",
    "    while (num <= 3) or (num%4 != 3):\n",
    "        num = PrimeGen(size);\n",
    "    return num"
   ]
  },
  {
   "cell_type": "markdown",
   "metadata": {},
   "source": [
    "<b> Test the generators<b>"
   ]
  },
  {
   "cell_type": "code",
   "execution_count": 420,
   "metadata": {},
   "outputs": [],
   "source": [
    "def TestFermatFun(n):\n",
    "    return FermatTest(n,10000) == sp.isprime(n)\n",
    "\n",
    "def TestPrimeGenMod4(size):\n",
    "    num = PrimeGenMod4(size);\n",
    "    return num,sp.isprime(num) and (num%4 == 3)\n",
    "\n",
    "def TestPrime2GenMod4(size):\n",
    "    num = PrimeGenMod4(size);\n",
    "    return sp.isprime(num) and (num%4 == 3)\n",
    "\n",
    "def primeMod4(size):\n",
    "    prime = sp.randprime(3,2**size-1);\n",
    "    while not(prime%4 == 3):\n",
    "        prime = sp.randprime(3,2**size-1);\n",
    "    return prime;\n",
    "    "
   ]
  },
  {
   "cell_type": "code",
   "execution_count": 421,
   "metadata": {},
   "outputs": [],
   "source": [
    "#Check FermatTest\n",
    "#all([TestFermatFun(k) for k in range(2,1000)])\n",
    "#[TestFermatFun(k) for k in range(2,1000)]\n",
    "#Check PrimeGen \n",
    "#[TestPrimeGenMod4(k) for k in range(4,100)]\n",
    "#all([TestPrime2GenMod4(k) for k in range(4,100)])\n"
   ]
  },
  {
   "cell_type": "code",
   "execution_count": 430,
   "metadata": {},
   "outputs": [],
   "source": [
    "#assert 0 < a and a < p and 0 < b and b < p and p > 2\n",
    "def RandEllCurve(k):\n",
    "    p = PrimeGenMod4(k);\n",
    "    A=random.randrange(0,p-1)\n",
    "    B=random.randrange(0,p-1)\n",
    "    while (((4*(A**3) + 27*(B**2))%p) == 0):\n",
    "        A=random.randrange(0,p-1)\n",
    "        B=random.randrange(0,p-1)\n",
    "    return [A , B , p]"
   ]
  },
  {
   "cell_type": "code",
   "execution_count": 431,
   "metadata": {},
   "outputs": [
    {
     "data": {
      "text/plain": [
       "[4, 1, 7]"
      ]
     },
     "execution_count": 431,
     "metadata": {},
     "output_type": "execute_result"
    }
   ],
   "source": [
    "RandEllCurve(4)"
   ]
  },
  {
   "cell_type": "markdown",
   "metadata": {},
   "source": [
    "<b> Test the implementation <b>"
   ]
  },
  {
   "cell_type": "code",
   "execution_count": 405,
   "metadata": {},
   "outputs": [
    {
     "data": {
      "text/plain": [
       "True"
      ]
     },
     "execution_count": 405,
     "metadata": {},
     "output_type": "execute_result"
    }
   ],
   "source": [
    "def is_valid(a,b, q):\n",
    "    return (4 * (a ** 3) + 27 * (b ** 2))  % q != 0\n",
    "\n",
    "def validate(r):\n",
    "    for i in range(4,r):\n",
    "        valid = True;\n",
    "        E = RandEllCurve(i);\n",
    "        valid = valid and is_valid(E[0],E[1],E[2]);\n",
    "    return valid;\n",
    "\n",
    "all([validate(k) for k in range(5,30)])"
   ]
  },
  {
   "cell_type": "markdown",
   "metadata": {},
   "source": [
    "Test cases in the format `<line>` = A B p"
   ]
  },
  {
   "cell_type": "code",
   "execution_count": 286,
   "metadata": {},
   "outputs": [],
   "source": [
    "def RandABp(size):\n",
    "    p=primeMod4(size);\n",
    "    A=random.randrange(0,p-1)\n",
    "    B=random.randrange(0,p-1)\n",
    "    try:\n",
    "        assert (p%4)==3\n",
    "        E=EllipticCurve([GF(p)(A),B])\n",
    "        return \"{} {} {}\".format(A,B,p)\n",
    "    except:\n",
    "        pass\n",
    "    "
   ]
  },
  {
   "cell_type": "code",
   "execution_count": 287,
   "metadata": {},
   "outputs": [],
   "source": [
    "for _ in range(0,30):\n",
    "    s=RandABp(random.choice([10,100,300]))\n",
    "    if not(s==None):\n",
    "        print(s)\n",
    "        print(\"\")"
   ]
  },
  {
   "cell_type": "markdown",
   "metadata": {},
   "source": [
    "# 2. Algorithm which finds a random point on an elliptic curve\n",
    "Input: \n",
    "1. Natural number $p$ which is prime and satisfies the condition $p\\equiv 3(\\textrm{mod }4)$.\n",
    "2. Natural numbers $A,B$ in the range $0\\leq A,B\\leq p-1$.\n",
    "\n",
    "Output: Randomly chosen integers $x,y$ in the range $0\\leq x,y\\leq p-1$ such that $(x,y)$ is a point on the elliptic curve $y^2=x^3+Ax+B$."
   ]
  },
  {
   "cell_type": "code",
   "execution_count": 393,
   "metadata": {},
   "outputs": [],
   "source": [
    "#Square root modulo\n",
    "def sqrt(n, p):\n",
    "    assert n < p\n",
    "    for i in range(1, p):\n",
    "        if i * i % p == n:\n",
    "            return (i, p - i)\n",
    "        pass\n",
    "    return -1,-1\n",
    "\n",
    "def RandomPoint(A,B,p):\n",
    "    cond = A < p-1 and B < p-1 and A > 0 and B > 0;\n",
    "    #Natural number p which is prime and satisfies the condition p mod 4 = 3.\n",
    "    if(cond and (p%4!=3) and not FermatTest(p)):\n",
    "        raise Exception(\"Conditions are not met\")\n",
    "    x = random.randrange(0,p-1)\n",
    "    sq = (x ** 3 + A * x + B) % p\n",
    "    y1, y2 = sqrt(sq, p)\n",
    "    while y1 == -1:\n",
    "        x = random.randrange(0,p-1)\n",
    "        sq = (x ** 3 + A * x + B) % p\n",
    "        y1, y2 = sqrt(sq, p)\n",
    "    y = random.choice([y1,y2]);\n",
    "    return x,y\n",
    "        "
   ]
  },
  {
   "cell_type": "code",
   "execution_count": 396,
   "metadata": {},
   "outputs": [
    {
     "data": {
      "text/plain": [
       "(152577, 53238)"
      ]
     },
     "execution_count": 396,
     "metadata": {},
     "output_type": "execute_result"
    }
   ],
   "source": [
    "RandomPoint(50286, 150346, 373063)"
   ]
  },
  {
   "cell_type": "markdown",
   "metadata": {},
   "source": [
    "Test cases in the format `<line>` = A B p x y"
   ]
  },
  {
   "cell_type": "code",
   "execution_count": 67,
   "metadata": {},
   "outputs": [
    {
     "name": "stdout",
     "output_type": "stream",
     "text": [
      "1434112494807723936524319688609049072164026556039974859065107568731414784546940028439132931 1481686873921439379636899186856138234527444513775756371595609373308968307818047961809453364 1745706133297157103232557154401880371786864460274252691337050076433004578240824196335660951 1386918633895860931591137845615529354631709643031882889571029429667777957113279755764699269 464225234233530531358589976732922613622040558891777832789154277460408905606758020907342468\n",
      "\n",
      "1 0 23 1 5\n",
      "\n",
      "1031112470526720770662979783754665170668146208147219200328801894596670707638568550236611702 1235808770880972752247209438601316460643169920004262915603645387522154099033247446177428658 1878636467019340773807018381648929732478417733021915799000131898491557939069521873609710639 1100836804285235987616399058508081937350243512631531880782621535401190773781848574686826564 172923511494884166396497795395841496706681431802146434039245596628989524271812511763362556\n",
      "\n",
      "567997610561637522631356787565 730410579709836618255829041076 1012600609435806387152778731563 127664544225909465236544976069 835394643885831777978156684205\n",
      "\n",
      "154297575936097569997145928843921322936261808589830877678778036058252452561967081775655495 59167926282556777866404784525570712905491782836691051193225833486340931149818082987453640 158749020908983040901884514621209210299656976254708801177826340047770963591871559378821111 26278231670885074669691054188768762041339705701691671682072348333539317621718508771004715 99640714158753249571260070320776391568272504315330675347010990211212474935720734192842808\n",
      "\n",
      "449 391 479 282 435\n",
      "\n",
      "135584880389569132339458560412 729923367078075684716328951249 929859122521185184036684472267 109649936809095522515413136637 629252701540734736783820123300\n",
      "\n",
      "674 66 967 484 198\n",
      "\n",
      "645603894270168994748209022363158162734726468607714246842440643195875089905686054258062583 675010219399585684162241866937568224114323824870905328340172082363262470366877324004026143 1426588221497700075503010740326985270464749130490936413855520497455757591483901288429739611 1208578563713998303700038517282282167613128074216373727473261925651769291951927491218914317 589788055396507289032795911250714519981560350532503911216417345852220860031801985983363628\n",
      "\n",
      "294090492936841575369485196168 241346250986610727403663712416 474352636805177324391553443727 419375171565341959496937649117 407335789302861051706785102740\n",
      "\n",
      "856202223043611592812878117109429835559796063904119602082941326720157289626996538192983015 740544126746251070023401867562949709709100961504739385134185406531271309408207030450176482 1459645213634713697722278082609743545780444146203948928877324666150760040061086181297421667 349441929091553282928938891567081541026541269758613756955852344416685266440991936337379163 639037094333246934522377438973450689594666902851991062820596433892034788780038111504832870\n",
      "\n",
      "74676717198555884129166041508 36149425399981173339406862471 92229197580369575654788385447 59139275432493954096803087249 6989118372970261509746991647\n",
      "\n",
      "28326513196642055253043084645 55518154709357254152787850638 217287286977992187832448390563 56052629126271439795396012389 143899882102246639288199573558\n",
      "\n",
      "178 123 239 160 186\n",
      "\n"
     ]
    }
   ],
   "source": [
    "def RandABpxy(size):\n",
    "    p=random_prime(2**size-1,proof=True,lbound=5)\n",
    "    A=randint(0,p-1)\n",
    "    B=randint(0,p-1)\n",
    "    try:\n",
    "        assert (p%4)==3\n",
    "        E=EllipticCurve([GF(p)(A),B])\n",
    "        P=E.random_point()\n",
    "        return \"{} {} {} {} {}\".format(A,B,p,P[0],P[1])\n",
    "    except:\n",
    "        pass\n",
    "    \n",
    "for _ in range(0,30):\n",
    "    s=RandABpxy(random.choice([10,100,300]))\n",
    "    if not(s==None):\n",
    "        print(s)\n",
    "        print(\"\")"
   ]
  },
  {
   "cell_type": "markdown",
   "metadata": {},
   "source": [
    "# 3. Algorithm checking whether a point belongs to the curve\n",
    "Input: \n",
    "1. Natural number $p$ which is prime and satisfies the condition $p\\equiv 3(\\textrm{mod }4)$.\n",
    "2. Natural numbers $A,B$ in the range $0\\leq A,B\\leq p-1$.\n",
    "3. Natural numbers $x,y$ in the range $0\\leq x,y\\leq p-1$.\n",
    "\n",
    "Output: TRUE, if $(x,y)$ is a point on the elliptic curve $y^2=x^3+Ax+B$.\n",
    "FALSE, otherwise."
   ]
  },
  {
   "cell_type": "code",
   "execution_count": 444,
   "metadata": {},
   "outputs": [],
   "source": [
    "def IsPtOnEll(A,B,p,x,y):\n",
    "    cond = A < p-1 and B < p-1 and A > 0 and B > 0;\n",
    "    if (cond and (p%4!=3) and not FermatTest(p) ):\n",
    "        raise Exception(\"Conditions are not met\")\n",
    "    return ((y**2)%p == (x**3 + A*x + B)%p)"
   ]
  },
  {
   "cell_type": "markdown",
   "metadata": {},
   "source": [
    "<b> Test all the functions together <b>"
   ]
  },
  {
   "cell_type": "code",
   "execution_count": 447,
   "metadata": {},
   "outputs": [
    {
     "data": {
      "text/plain": [
       "[True,\n",
       " True,\n",
       " True,\n",
       " True,\n",
       " True,\n",
       " True,\n",
       " True,\n",
       " True,\n",
       " True,\n",
       " True,\n",
       " True,\n",
       " True,\n",
       " True,\n",
       " True,\n",
       " True,\n",
       " True,\n",
       " True,\n",
       " True,\n",
       " True,\n",
       " True,\n",
       " True,\n",
       " True,\n",
       " True,\n",
       " True,\n",
       " True,\n",
       " True]"
      ]
     },
     "execution_count": 447,
     "metadata": {},
     "output_type": "execute_result"
    }
   ],
   "source": [
    "def TestFunctions(r):\n",
    "    res = []\n",
    "    for i in range(4,r):\n",
    "        EC = RandEllCurve(i);\n",
    "        x,y = RandomPoint(EC[0],EC[1],EC[2])\n",
    "        value = IsPtOnEll(EC[0],EC[1],EC[2],x,y)\n",
    "        res.append(value)\n",
    "    return res\n",
    "\n",
    "TestFunctions(30)"
   ]
  },
  {
   "cell_type": "markdown",
   "metadata": {},
   "source": [
    "Test cases in the format `<line>` = A B p x y TRUE/FALSE"
   ]
  },
  {
   "cell_type": "code",
   "execution_count": 88,
   "metadata": {},
   "outputs": [
    {
     "name": "stdout",
     "output_type": "stream",
     "text": [
      "254 327 367 259 95 FALSE\n",
      "\n",
      "259 133 307 48 87 FALSE\n",
      "\n",
      "129 69 131 47 66 FALSE\n",
      "\n",
      "583260596778553772609680828130842508706042926272218432939940791137922764391947916412127911 92680907747795587216336031340147106572991241342006514648681898210696808306606382724206623 886692929836342024514926844746054557946089458952309123335715364085612042742609176924584279 37612711050053069870146926638480178203311359276741789917155609638233522313300662023380541 530815220506081345130288175622227233944917202636625239283808536138546357623249654464346388 FALSE\n",
      "\n",
      "171 117 223 145 196 FALSE\n",
      "\n",
      "136 305 503 84 471 FALSE\n",
      "\n",
      "276263025612786502995776390596 240709423454760407757799347439 334497703041562891401838362863 290337738382792032366193601480 232908491591795785295851729277 FALSE\n",
      "\n",
      "91 26 127 17 6 FALSE\n",
      "\n",
      "553722717121147301525857342700 303350546609226398757781394613 656823792723418169507825312203 148512673824187702028838329846 341036282360603079902662877360 FALSE\n",
      "\n",
      "537737851494604045899045991589 109559269917244624876347541925 582011234629077246112699675471 395613910714496965202403959331 473094019470481858583869739205 FALSE\n",
      "\n",
      "138 154 271 250 124 FALSE\n",
      "\n",
      "418 819 971 798 809 FALSE\n",
      "\n",
      "588050606785797615809889775063799710674600235850564139018428793362543357355175623677808537 194744708834815765275775168173711061600471476286145492840843489891095979609568035914199207 1208985420340363891774366987631180160706140563274789690027832389750146140894629208586710751 1016111085244648616439789939272507777302253240297514878028201984556945307234851163432193898 833918857507873883490839252212244083784264697087577840646266193077485150094148129987124901 FALSE\n",
      "\n",
      "38764385031468032988109112883 228800471472093188246413686891 801711450923275025061514229591 365558856160251254886443154191 179410880847213198222876445610 FALSE\n",
      "\n",
      "409631937597871367172503453730466173357861061794503162956508615198954469067990946910907325 1040679007260699105955946924543597494004220293888683159263699123511232565969005669613343940 1180327926202722763283486358081044347296492198271386537722539283614810909050422772559445983 1099655320672271857764192468282599782578724135087809643089065206485994789101470329500402961 728919562702531223300251728484585541526410841558945806081716245582714496676232340433081677 FALSE\n",
      "\n"
     ]
    }
   ],
   "source": [
    "def RandABpxyYN(size):\n",
    "    p=random_prime(2**size-1,proof=True,lbound=5)\n",
    "    A=randint(0,p-1)\n",
    "    B=randint(0,p-1)\n",
    "    x=randint(0,p-1)\n",
    "    y=randint(0,p-1)\n",
    "    try:\n",
    "        assert (p%4)==3\n",
    "        E=EllipticCurve([GF(p)(A),B])\n",
    "        if E.is_on_curve(x,y):\n",
    "            return \"{} {} {} {} {} {}\".format(A,B,p,x,y,\"TRUE\")\n",
    "        else:\n",
    "            return \"{} {} {} {} {} {}\".format(A,B,p,x,y,\"FALSE\")\n",
    "    except:\n",
    "        pass\n",
    "    \n",
    "for _ in range(0,30):\n",
    "    s=RandABpxyYN(random.choice([10,100,300]))\n",
    "    if not(s==None):\n",
    "        print(s)\n",
    "        print(\"\")"
   ]
  },
  {
   "cell_type": "markdown",
   "metadata": {},
   "source": [
    "# 4. Algoritm generating the opposite of a point\n",
    "Input: \n",
    "1. Natural number $p$ which is prime and satisfies the condition $p\\equiv 3(\\textrm{mod }4)$.\n",
    "2. Natural numbers $x,y$ in the range $0\\leq x,y\\leq p-1$.\n",
    "\n",
    "Output: Pair of integers $(x_1,y_1) = (x,-y)$ such that $x\\equiv x_1(\\textrm{mod }p)$ and $y\\equiv -y_1(\\textrm{mod }p)$. "
   ]
  },
  {
   "cell_type": "code",
   "execution_count": 49,
   "metadata": {},
   "outputs": [],
   "source": [
    "def OppPt(x,y,p):\n",
    "    res = (x-p);\n",
    "    return [(x,y),(y,res)]"
   ]
  },
  {
   "cell_type": "code",
   "execution_count": 56,
   "metadata": {},
   "outputs": [
    {
     "name": "stdout",
     "output_type": "stream",
     "text": [
      "True\n",
      "True\n",
      "True\n",
      "True\n",
      "True\n",
      "True\n",
      "True\n",
      "True\n",
      "True\n",
      "True\n"
     ]
    }
   ],
   "source": [
    "lines = [];\n",
    "with open('4.txt','r') as f:\n",
    "    lines = f.readlines()\n",
    "\n",
    "for line in lines:\n",
    "    l = line.split();\n",
    "    _,y = OppPt(int(l[0]),int(l[1]),int(l[2]));\n",
    "    print(int(l[3])==y[0] and int(l[4]) == y[1])\n",
    "    #print(int(l[2]),y[0],y[1],l[3],l[4])"
   ]
  },
  {
   "cell_type": "markdown",
   "metadata": {},
   "source": [
    "Test cases in the format `<line>` = p x y x1 y1"
   ]
  },
  {
   "cell_type": "code",
   "execution_count": 92,
   "metadata": {},
   "outputs": [
    {
     "name": "stdout",
     "output_type": "stream",
     "text": [
      "643 81 565 81 78\n",
      "\n",
      "599174764613304888484331430692269378108148039453903854725518417708415078918610354758415993 215111376797482991789592246896347616848098395788194164213898901493113267196726118352181048 351331805163042283623384263547957787267012063224163789015037575486359343425088270368080935 215111376797482991789592246896347616848098395788194164213898901493113267196726118352181048 247842959450262604860947167144311590841135976229740065710480842222055735493522084390335058\n",
      "\n",
      "271 95 50 95 221\n",
      "\n",
      "1698437759248042954913974499433422242892347166802100199224886197343944634692420897612293337 1208083739108370352946724350733099496650036462492991743679556777726127434415727851231888909 821395898314983510127107986994965970003030777032273196709159183359027060645578271083206159 1208083739108370352946724350733099496650036462492991743679556777726127434415727851231888909 877041860933059444786866512438456272889316389769827002515727013984917574046842626529087178\n",
      "\n",
      "163 37 57 37 106\n",
      "\n",
      "716722605482686000778188744699 465627633505807507880623150939 334514800611771745347821827259 465627633505807507880623150939 382207804870914255430366917440\n",
      "\n",
      "31 20 1 20 30\n",
      "\n",
      "1257950483977527423458858469830395189025288487362595967339921508084929222546270287718929781 947865367129498723749942949567567498238655819315851995291557499416384538396536817579936527 1089618122653204352102360538546344589825019725014880275098085899909093285888302973758129219 947865367129498723749942949567567498238655819315851995291557499416384538396536817579936527 168332361324323071356497931284050599200268762347715692241835608175835936657967313960800562\n",
      "\n",
      "1471495126139357697389488377491854564983688734022850899934901751512216978523973584515548447 555965138384292917196779682597743102974810542142606982687058004214856234530089993560348394 142085166464207851335515501248887109404817105169391702510401448134983397313784014808916781 555965138384292917196779682597743102974810542142606982687058004214856234530089993560348394 1329409959675149846053972876242967455578871628853459197424500303377233581210189569706631666\n",
      "\n",
      "881 401 353 401 528\n",
      "\n"
     ]
    }
   ],
   "source": [
    "def Randpxyx1y1(size):\n",
    "    p=random_prime(2**size-1,proof=True,lbound=5)\n",
    "    x=randint(0,p-1)\n",
    "    y=randint(0,p-1)\n",
    "    return \"{} {} {} {} {}\".format(p,x,y,Integers(p)(x),Integers(p)(-y))\n",
    "    \n",
    "for _ in range(0,10):\n",
    "    s=Randpxyx1y1(random.choice([10,100,300]))\n",
    "    print(s)\n",
    "    print(\"\")"
   ]
  },
  {
   "cell_type": "markdown",
   "metadata": {},
   "source": [
    "# 5. Algorithm which adds two points on the curve\n",
    "Input: \n",
    "1. Natural number $p$ which is prime and satisfies the condition $p\\equiv 3(\\textrm{mod }4)$.\n",
    "2. Natural numbers $A,B$ in the range $0\\leq A,B\\leq p-1$.\n",
    "3. Natural numbers $x_1,y_1$ in the range $0\\leq x_1,y_1\\leq p-1$.\n",
    "4. Natural numbers $x_2,y_2$ in the range $0\\leq x_2,y_2\\leq p-1$.\n",
    "\n",
    "Pairs $P=(x_1,y_1)$ and $Q=(x_2,y_2)$ determine two points on the elliptic curve $E:y^2=x^3+Ax+B$ over the finite field $\\mathbb{F}_{p}$.\n",
    "\n",
    "Output: Coordinates $(x_3,y_3)$ which satisfy the condition $(x_3,y_3) = P\\oplus Q$, where $\\oplus$ denotes the addition on the elliptic curve $E$.\n",
    "\n",
    "Hint: implement all cases, including $P=Q$ and $P=-Q$."
   ]
  },
  {
   "cell_type": "code",
   "execution_count": 13,
   "metadata": {},
   "outputs": [],
   "source": [
    "def ExtendedGCD(a,b):\n",
    "    r,r1=a,b\n",
    "    s,s1=1,0 #s*a+t*b == a\n",
    "    t,t1=0,1 #s1*a+t1*b == b\n",
    "    while not(r1==0):\n",
    "        q,r2=r//r1,r % r1\n",
    "        r,s,t,r1,s1,t1=r1,s1,t1,r2,s-s1*q,t-t1*q\n",
    "    d=r\n",
    "    return d,s,t #s*a+t*b=d, d=GCD(a,b)\n",
    "\n",
    "def inv(a,p):\n",
    "    d,i,_ = ExtendedGCD(a,p);\n",
    "    if(d!=1):\n",
    "        raise Exception(\"The number a and p are not coprime\")\n",
    "    return i%p;\n",
    "\n",
    "def zero(x,y):\n",
    "    return x == 0  and y == 0;\n",
    "\n",
    "#Dividing is the same as multiplying by the inv\n",
    "def PtSum(A,B,p,x1,y1,x2,y2):\n",
    "    if(zero(x1,y1) or zero(x2,y2)):\n",
    "        return (0,0)\n",
    "    if x1 == x2 and (y1 != y2 or y1 == 0):\n",
    "        return (\"inf\",\"inf\") #p1 + (-p1) \n",
    "    if(x1 == x2 and y1 == y2):\n",
    "        resX = ((3*x1**2 + A) * inv(2*y1,p))%p\n",
    "        x3 = ((resX * resX) - 2 * x1) % p\n",
    "        y3 = (resX * (x1-x3) - y1) %p\n",
    "        return x3,y3\n",
    "    else:\n",
    "        resX = ((y2-y1) * inv(x2-x1,p))%p\n",
    "        x3 =  (resX * resX - x1 -x2)%p\n",
    "        y3 = ((y2 -y1) * inv(x2-x1,p)*(x1-x3)-y1)%p\n",
    "        return x3,y3"
   ]
  },
  {
   "cell_type": "markdown",
   "metadata": {},
   "source": [
    "<b> Test sum function <b>"
   ]
  },
  {
   "cell_type": "code",
   "execution_count": 55,
   "metadata": {},
   "outputs": [
    {
     "name": "stdout",
     "output_type": "stream",
     "text": [
      "True\n",
      "True\n",
      "True\n",
      "True\n",
      "True\n",
      "True\n",
      "True\n",
      "True\n",
      "True\n",
      "True\n",
      "True\n",
      "True\n",
      "True\n",
      "True\n",
      "True\n"
     ]
    }
   ],
   "source": [
    "lines = [];\n",
    "with open('5.txt','r') as f:\n",
    "    lines = f.readlines()\n",
    "\n",
    "for line in lines:\n",
    "    l = line.split();\n",
    "    x,y = PtSum(int(l[0]),int(l[1]),int(l[2]),int(l[3]),int(l[4]),int(l[5]),int(l[6]));\n",
    "    if(l[7] == \"inf\"):\n",
    "        print(l[7]==x and l[8] == y)\n",
    "    else:\n",
    "        print(int(l[7])==x and int(l[8]) == y)"
   ]
  },
  {
   "cell_type": "markdown",
   "metadata": {},
   "source": [
    "Test cases in the format `<line>` = A B p x1 y1 x2 y2 x3 y3\n",
    "\n",
    "Remark: x3 = inf, y3=inf denotes that the sum of points P and Q equals zero (i.e. x1=x2 mod p and x2=-y2 mod p)"
   ]
  },
  {
   "cell_type": "code",
   "execution_count": 103,
   "metadata": {},
   "outputs": [
    {
     "name": "stdout",
     "output_type": "stream",
     "text": [
      "584521 658255 871439 653849 90142 33277 672642 869539 245416\n",
      "\n",
      "584521 658255 871439 29177 381490 29177 381490 454601 440170\n",
      "\n",
      "584521 658255 871439 729163 480677 729163 390762 inf inf\n",
      "\n",
      "102282 396991 415427 107682 260767 228236 287955 187030 154181\n",
      "\n",
      "102282 396991 415427 42083 86492 42083 86492 23154 282297\n",
      "\n",
      "102282 396991 415427 14384 408501 14384 6926 inf inf\n",
      "\n",
      "319 193 811 754 329 761 324 753 713\n",
      "\n",
      "319 193 811 128 347 128 347 555 464\n",
      "\n",
      "319 193 811 762 538 762 273 inf inf\n",
      "\n",
      "100672532609755334827886064296 258443610396859685295484180373 444059484791246976684436077799 84970579476080381434331628028 64440878664245551811521922214 162695284929555127693204260437 24803443383680551776848443282 235611971937719363547125891660 71887867304919252319140554271\n",
      "\n",
      "100672532609755334827886064296 258443610396859685295484180373 444059484791246976684436077799 12768217800727444434786724935 285602744921641638367301587258 12768217800727444434786724935 285602744921641638367301587258 210541636218396103539853996457 5016678565017116089911182266\n",
      "\n",
      "100672532609755334827886064296 258443610396859685295484180373 444059484791246976684436077799 61641233626440347684520444214 236726486827291818180869677435 61641233626440347684520444214 207332997963955158503566400364 inf inf\n",
      "\n",
      "24228132557543955900339808886 98237994141855234937070105151 205906577209381278936655141631 90633347871907635273648380822 156835191641242037254467564934 193878832713325398050465888882 164245571403382872255136704058 179887468835922545458449578616 16176041377536315629073386958\n",
      "\n",
      "24228132557543955900339808886 98237994141855234937070105151 205906577209381278936655141631 78117798762134655337116740346 191505432935229319066579660305 78117798762134655337116740346 191505432935229319066579660305 168715883268705088792482823580 168615795135939861995172842943\n",
      "\n",
      "24228132557543955900339808886 98237994141855234937070105151 205906577209381278936655141631 146648371539276515350644112476 60296645715966125409073068185 146648371539276515350644112476 145609931493415153527582073446 inf inf\n",
      "\n"
     ]
    }
   ],
   "source": [
    "def SumPtABpx1y1x2y2x3y3(size):\n",
    "    p=random_prime(2**size-1,proof=True,lbound=5)\n",
    "    A=randint(0,p-1)\n",
    "    B=randint(0,p-1)\n",
    "    try:\n",
    "        assert (p%4)==3\n",
    "        E=EllipticCurve([GF(p)(A),B])\n",
    "        P=E.random_point()\n",
    "        Q=E.random_point()\n",
    "        R=P+Q\n",
    "        print(\"{} {} {} {} {} {} {} {} {}\".format(A,B,p,P[0],P[1],Q[0],Q[1],R[0],R[1]))\n",
    "        print(\"\")\n",
    "        P=E.random_point()\n",
    "        R=P+P\n",
    "        print(\"{} {} {} {} {} {} {} {} {}\".format(A,B,p,P[0],P[1],P[0],P[1],R[0],R[1]))\n",
    "        print(\"\")\n",
    "        P=E.random_point()\n",
    "        Q=-P\n",
    "        print(\"{} {} {} {} {} {} {} {} {}\".format(A,B,p,P[0],P[1],Q[0],Q[1],\"inf\",\"inf\"))\n",
    "        print(\"\")    \n",
    "    except:\n",
    "        pass\n",
    "    \n",
    "for _ in range(0,20):\n",
    "    SumPtABpx1y1x2y2x3y3(random.choice([10,20,100]))"
   ]
  }
 ],
 "metadata": {
  "kernelspec": {
   "display_name": "Python 3",
   "language": "python",
   "name": "python3"
  },
  "language_info": {
   "codemirror_mode": {
    "name": "ipython",
    "version": 3
   },
   "file_extension": ".py",
   "mimetype": "text/x-python",
   "name": "python",
   "nbconvert_exporter": "python",
   "pygments_lexer": "ipython3",
   "version": "3.7.7"
  }
 },
 "nbformat": 4,
 "nbformat_minor": 2
}
