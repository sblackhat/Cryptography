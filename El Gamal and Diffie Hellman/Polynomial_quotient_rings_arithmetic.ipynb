{
 "cells": [
  {
   "cell_type": "markdown",
   "metadata": {},
   "source": [
    "# Ciała skończone"
   ]
  },
  {
   "cell_type": "code",
   "execution_count": 47,
   "metadata": {},
   "outputs": [],
   "source": [
    "def ExtendedGCD(a,b):\n",
    "    r,r1=a,b\n",
    "    s,s1=1,0 #s*a+t*b == a\n",
    "    t,t1=0,1 #s1*a+t1*b == b\n",
    "    while not(r1==0):\n",
    "        q,r2=r//r1,r % r1\n",
    "        r,s,t,r1,s1,t1=r1,s1,t1,r2,-q*s1+s,-q*t1+t\n",
    "    d=r\n",
    "    return d,s,t #s*a+t*b=d, d=GCD(a,b)\n",
    "\n",
    "def MultInverse(a,n):\n",
    "    d,inv,_=ExtendedGCD(a,n)\n",
    "    if d==1:\n",
    "        if n==1:\n",
    "            return 1 #for compatibility\n",
    "        return inv%n\n",
    "    else:\n",
    "        raise NameError('Numbers '+str(a)+' and '+str(n)+' are not coprime.')\n",
    "        \n",
    "def power_fast(x, n):\n",
    "    if n < 0:\n",
    "        x = x**(-1)\n",
    "        n = -n\n",
    "    if n == 0:\n",
    "        return x*(x**(-1))\n",
    "    y = Fin(1,x.p)\n",
    "    while n > 1:\n",
    "        if n % 2 == 0:\n",
    "            x = x * x\n",
    "            n = n // 2;\n",
    "        else:\n",
    "            y = x * y;\n",
    "            x = x * x;\n",
    "            n = (n - 1) // 2\n",
    "    return x * y\n",
    "        \n",
    "class Fin():\n",
    "    def __init__(self,a,modulus):\n",
    "        self.x=a%modulus\n",
    "        self.p=modulus #to musi być liczba pierwsza\n",
    "        self.parent=FiniteField(self.p)\n",
    "    \n",
    "    def __add__(self,b):\n",
    "        if type(b)==Fin:\n",
    "            return Fin(((self.x)+b.x)%self.p,self.p)\n",
    "        if type(b)==int:\n",
    "            return Fin(((self.x)+b)%self.p,self.p)\n",
    "        if type(b)==polynomial:\n",
    "            return b+self\n",
    "    def __sub__(self,b):\n",
    "        if type(b)==Fin:\n",
    "            return Fin(((self.x)-b.x)%self.p,self.p)\n",
    "        if type(b)==int:\n",
    "            return Fin(((self.x)-b)%self.p,self.p)\n",
    "        if type(b)==polynomial:\n",
    "            return -b+self\n",
    "    def __mul__(self,b):\n",
    "        if type(b)==Fin:\n",
    "            return Fin(((self.x)*b.x)%self.p,self.p)\n",
    "        if type(b)==int:\n",
    "            return Fin(((self.x)*b)%self.p,self.p)\n",
    "        if type(b)==polynomial:\n",
    "            return b*self\n",
    "\n",
    "    def __pow__(self,k):\n",
    "        if self.x==0:\n",
    "            return Fin(0,self.p)\n",
    "        if k==1:\n",
    "            return self\n",
    "        if k==-1:\n",
    "            return Fin(MultInverse(self.x,self.p),self.p)\n",
    "        if k<=-2:\n",
    "            inv=Fin(MultInverse(self.x,self.p),self.p)\n",
    "            return power_fast(inv,k)\n",
    "        if k>=2:\n",
    "            return power_fast(self,k)\n",
    "    def __str__(self):\n",
    "        return str(self.x)\n",
    "    def __repr__(self):\n",
    "        return str(self.x)\n",
    "    def __print__(self):\n",
    "        print(str(self.x))\n",
    "    \n",
    "    def __eq__(self,b):\n",
    "        if (self.p==b.p) and (self.x==b.x):\n",
    "            return True\n",
    "        else:\n",
    "            return False\n",
    "        \n",
    "    def __div__(self,b):\n",
    "        if not(b.x==0):\n",
    "            return self*(b**(-1))\n",
    "        else:\n",
    "            raise Exception('Dzielenie przez 0.')\n",
    "    def __floordiv__(self,b):\n",
    "        if not(b.x==0):\n",
    "            return self*(b**(-1))\n",
    "        else:\n",
    "            raise Exception('Dzielenie przez 0.')\n",
    "\n",
    "    def __neg__(self):\n",
    "        return Fin(-self.x,self.p)\n",
    "    \n",
    "class FiniteField():\n",
    "    def __init__(self,p):\n",
    "        self.p=p\n",
    "        \n",
    "    def __str__(self):\n",
    "        return \"Ciało skończone {}-elementowe\".format(self.p)\n",
    "    def __repr__(self):\n",
    "        return \"Ciało skończone {}-elementowe\".format(self.p)\n",
    "    \n",
    "    def __call__(self,a):\n",
    "        return Fin(a,self.p)\n",
    "    def __eq__(self,F):\n",
    "        if type(self)==type(F):\n",
    "            if self.p==F.p:\n",
    "                return True\n",
    "        return False"
   ]
  },
  {
   "cell_type": "code",
   "execution_count": 55,
   "metadata": {},
   "outputs": [
    {
     "data": {
      "text/plain": [
       "9"
      ]
     },
     "execution_count": 55,
     "metadata": {},
     "output_type": "execute_result"
    }
   ],
   "source": [
    "F=FiniteField(11)\n",
    "a=F(5)\n",
    "type(a)\n",
    "a**-1\n",
    "F(1)//a"
   ]
  },
  {
   "cell_type": "markdown",
   "metadata": {},
   "source": [
    "# Pierścienie wielomianów"
   ]
  },
  {
   "cell_type": "code",
   "execution_count": 49,
   "metadata": {},
   "outputs": [],
   "source": [
    "def ExtendedGCDPol(a,b):\n",
    "    r,r1=a,b\n",
    "    s,s1=polynomial([a.one],a.type),polynomial([a.zero],a.type) #s*a+t*b == a\n",
    "    t,t1=polynomial([a.zero],a.type),polynomial([a.one],a.type) #s1*a+t1*b == b\n",
    "    while not(r1==a.zero):\n",
    "        q,r2=r//r1,r % r1\n",
    "        r,s,t,r1,s1,t1=r1,s1,t1,r2,s-s1*q,t-t1*q\n",
    "    d=r\n",
    "    return d,s,t #s*a+t*b=d, d=GCD(a,b)\n",
    "\n",
    "def power_fast_pol(x, n):\n",
    "    y = polynomial([x.one],x.type)\n",
    "    if n==0:\n",
    "        return y\n",
    "    while n > 1:\n",
    "        if n % 2 == 0:\n",
    "            x = x * x\n",
    "            n = n // 2;\n",
    "        else:\n",
    "            y = x * y;\n",
    "            x = x * x;\n",
    "            n = (n - 1) // 2\n",
    "    return x * y\n",
    "\n",
    "class polynomial():\n",
    "    def __init__(self,pollist,cootype=int,var='x'):\n",
    "        \n",
    "        if all(isinstance(n, type(cootype(0))) for n in pollist):\n",
    "            #wytnij koncowe zera\n",
    "            self.zero=cootype(0)\n",
    "            self.one=cootype(1)\n",
    "            while len(pollist)>1 and pollist[-1]==self.zero:\n",
    "                pollist.pop()\n",
    "            self.coo=pollist #lista współczynników\n",
    "            self.deg=len(pollist)-1\n",
    "            self.type=cootype\n",
    "            self.ctype=type(cootype(0))\n",
    "        else:\n",
    "            self.zero=cootype(0)\n",
    "            self.one=cootype(1)\n",
    "            self.coo=[cootype(1)]\n",
    "            self.deg=0\n",
    "            self.type=cootype\n",
    "            self.ctype=type(cootype(0))\n",
    "        self.var=var\n",
    "        \n",
    "    def __str__(self):\n",
    "        i=0\n",
    "        if not(self.coo[0]==self.zero):\n",
    "            polprint=str(self.coo[0])\n",
    "            zerostarted=False\n",
    "            iszero=False\n",
    "        else:\n",
    "            polprint=''\n",
    "            zerostarted=True\n",
    "            iszero=True\n",
    "        for el in self.coo[1:]:\n",
    "            i+=1\n",
    "            if not(el==self.zero):\n",
    "                iszero=False\n",
    "                if not zerostarted:\n",
    "                    if el == self.one:\n",
    "                        polprint+=' + {}^{}'.format(self.var,str(i))\n",
    "                    else:\n",
    "                        polprint+=' + {}*{}^{}'.format(str(el),self.var,str(i))\n",
    "                else:\n",
    "                    if el == self.one:\n",
    "                        polprint+='{}^{}'.format(self.var,str(i))\n",
    "                    else:\n",
    "                        polprint+='{}*{}^{}'.format(str(el),self.var,str(i))\n",
    "                    zerostarted=False\n",
    "        if iszero:\n",
    "            return '0'\n",
    "        else:\n",
    "            return polprint\n",
    "        \n",
    "    def __repr__(self):\n",
    "        return self.__str__()\n",
    "        \n",
    "    def __add__(self,pol):\n",
    "        if type(pol)==int:\n",
    "            pol=polynomial([self.type(pol)],self.type,self.var)\n",
    "        if type(pol)==self.ctype:\n",
    "            pol=polynomial([pol],self.type,self.var)\n",
    "        \n",
    "        li1=self.coo\n",
    "        li2=pol.coo\n",
    "        if not (self.type==pol.type):\n",
    "            raise TypeError(\"Wielomiany nad różnymi pierścieniami.\")\n",
    "        m1=len(li1)\n",
    "        m2=len(li2)\n",
    "        li3=[]\n",
    "        if m2>m1:\n",
    "            li1,li2=li2,li1\n",
    "            m1,m2=m2,m1\n",
    "        for i in range(0,m2):\n",
    "            li3.append(li1[i]+li2[i])\n",
    "        for i in range(m2,m1):\n",
    "            li3.append(li1[i])\n",
    "        return polynomial(li3,self.type,self.var)\n",
    "    \n",
    "    def __sub__(self,pol):\n",
    "        if type(pol)==int:\n",
    "            pol=polynomial([self.type(pol)],self.type,self.var)\n",
    "        if type(pol)==self.ctype:\n",
    "            pol=polynomial([pol],self.type,self.var)\n",
    "        li1=self.coo\n",
    "        li2=pol.coo\n",
    "        if not (self.type==pol.type):\n",
    "            raise TypeError(\"Wielomiany nad różnymi pierścieniami.\")\n",
    "        m1=len(li1)\n",
    "        m2=len(li2)\n",
    "        li3=[]\n",
    "        if m1<m2:\n",
    "            for i in range(0,m1):\n",
    "                li3.append(li1[i]-li2[i])\n",
    "            for i in range(m1,m2):\n",
    "                li3.append(-li2[i])\n",
    "        else:\n",
    "            for i in range(0,m2):\n",
    "                li3.append(li1[i]-li2[i])\n",
    "            for i in range(m2,m1):\n",
    "                li3.append(li1[i])\n",
    "            \n",
    "        return polynomial(li3,self.type,self.var)\n",
    "    \n",
    "    def __mul__(self,pol):\n",
    "        if type(pol)==int:\n",
    "            pol=polynomial([self.type(pol)],self.type,self.var)\n",
    "        if type(pol)==self.ctype:\n",
    "            pol=polynomial([pol],self.type,self.var)\n",
    "        li1=self.coo\n",
    "        li2=pol.coo\n",
    "        if not (self.type==pol.type):\n",
    "            raise TypeError(\"Wielomiany nad różnymi pierścieniami.\")\n",
    "        if (li1==[self.zero]) or (li2==[self.zero]):\n",
    "            return polynomial([self.zero],self.type,self.var)\n",
    "        l1=self.deg+1\n",
    "        l2=pol.deg+1\n",
    "        li3=[self.zero]*(l1+l2-1)\n",
    "        for i in range(0,l1):\n",
    "            for j in range(0,l2):\n",
    "                li3[i+j]+=li1[i]*li2[j]\n",
    "        return polynomial(li3,self.type,self.var)\n",
    "    \n",
    "    def __eq__(self,pol):\n",
    "        if type(pol)==int:\n",
    "            pol=polynomial([self.type(pol)],self.type,self.var)\n",
    "        if type(pol)==self.ctype:\n",
    "            pol=polynomial([pol],self.type,self.var)\n",
    "        if self.coo==pol.coo:\n",
    "            return True\n",
    "        else:\n",
    "            return False        \n",
    "    def __neg__(self):\n",
    "        li=[]\n",
    "        for i in range(0,self.deg+1):\n",
    "            li.append(self.coo[i]*(-self.one))\n",
    "        return polynomial(li,self.type,self.var)\n",
    "    \n",
    "    def __pow__(self,k):\n",
    "        if self.deg==0 and self.coo[0]==self.zero:\n",
    "            return polynomial([self.zero],self.type,self.var)\n",
    "        if k==1:\n",
    "            return self\n",
    "        if k<=-1:\n",
    "            raise Exception('Nie ma odwrotności.')\n",
    "        if k>=2:\n",
    "            return power_fast_pol(self,k)\n",
    "        \n",
    "    def quorem(self,pol):\n",
    "        if type(pol)==int:\n",
    "            pol=polynomial([self.type(pol)],self.type,self.var)\n",
    "        if type(pol)==self.ctype:\n",
    "            pol=polynomial([pol],self.type,self.var)\n",
    "        if self.deg <pol.deg:\n",
    "            return polynomial([self.zero],self.type,self.var),self\n",
    "        t=self.one//(pol.coo[pol.deg]) #musi istnieć odwrotność\n",
    "        r=[]\n",
    "        q=[self.zero]*(self.deg-pol.deg+1)\n",
    "        for i in range(0,self.deg+1):\n",
    "            r.append(self.coo[i])\n",
    "        for i in range(self.deg-pol.deg,-1,-1):\n",
    "            q[i]=t*r[i+pol.deg]\n",
    "            for j in range(0,pol.deg+1):\n",
    "                r[i+j]-=q[i]*pol.coo[j]\n",
    "        return polynomial(q,self.type,self.var), polynomial(r,self.type,self.var)\n",
    "    def __mod__(self,pol):\n",
    "        if type(pol)==int:\n",
    "            pol=polynomial([self.type(pol)],self.type,self.var)\n",
    "        _,r=self.quorem(pol)\n",
    "        return r\n",
    "    def __floordiv__(self,pol):\n",
    "        if type(pol)==int:\n",
    "            pol=polynomial([self.type(pol)],self.type,self.var)\n",
    "        if type(pol)==self.ctype:\n",
    "            pol=polynomial([pol],self.type,self.var)\n",
    "        q,_=self.quorem(pol)\n",
    "        return q\n",
    "    \n",
    "    def ExtendedGCD(self,pol):\n",
    "        if type(pol)==int:\n",
    "            pol=polynomial([self.type(pol)],self.type,self.var)\n",
    "        if type(pol)==self.ctype:\n",
    "            pol=polynomial([pol],self.type,self.var)\n",
    "        return ExtendedGCDPol(self,pol)\n",
    "        \n",
    "    def GCD(self,pol):\n",
    "        if type(pol)==int:\n",
    "            pol=polynomial([self.type(pol)],self.type,self.var)\n",
    "        if type(pol)==self.ctype:\n",
    "            pol=polynomial([pol],self.type,self.var)\n",
    "        d,_,_=ExtendedGCDPol(self,pol)\n",
    "        return d\n",
    "    \n",
    "class PolynomialRing():\n",
    "    def __init__(self,ring,var='x'):\n",
    "        self.R=ring\n",
    "        self.x=polynomial([ring(0),ring(1)],ring,var)\n",
    "        self.var=var\n",
    "    \n",
    "    def __str__(self):\n",
    "        return \"Pierścień wielomianów nad {} zmiennej {}\".format(self.R,self.var)\n",
    "    \n",
    "    def __repr__(self):\n",
    "        return self.__str__()\n",
    "    \n",
    "    def __call__(self,li):\n",
    "        if type(li)==list:\n",
    "            return polynomial([self.R(x) for x in li],self.R,self.var)\n",
    "        if type(li)==int:\n",
    "            return polynomial([self.R(li)],self.R,self.var)\n",
    "    def __eq__(self,ring):\n",
    "        if type(self)==type(ring):\n",
    "            if self.R==ring.R:\n",
    "                return True\n",
    "        return False"
   ]
  },
  {
   "cell_type": "code",
   "execution_count": 68,
   "metadata": {},
   "outputs": [],
   "source": [
    "F=FiniteField(2)\n",
    "R=PolynomialRing(F,'x')\n",
    "x=R.x"
   ]
  },
  {
   "cell_type": "code",
   "execution_count": 78,
   "metadata": {
    "scrolled": true
   },
   "outputs": [
    {
     "name": "stdout",
     "output_type": "stream",
     "text": [
      "1 + x^1 + x^5 + x^6 + x^7 + x^11\n"
     ]
    },
    {
     "data": {
      "text/plain": [
       "(1 + x^1 + x^2 + x^3 + x^4 + x^5 + x^6 + x^7, 0)"
      ]
     },
     "execution_count": 78,
     "metadata": {},
     "output_type": "execute_result"
    }
   ],
   "source": [
    "f=x**5+x+1\n",
    "g=x**6+1\n",
    "print(f*g)\n",
    "#print(pol1+pol1)\n",
    "pol1-pol2\n",
    "pol1-R([1,2,3,4])\n",
    "pol1**100\n",
    "(pol1**5)%pol2\n",
    "(pol1**7).quorem(pol2)"
   ]
  },
  {
   "cell_type": "code",
   "execution_count": 59,
   "metadata": {},
   "outputs": [
    {
     "name": "stdout",
     "output_type": "stream",
     "text": [
      "1 + y^4\n",
      "1 + y^2\n"
     ]
    },
    {
     "data": {
      "text/plain": [
       "(1 + y^2, 1, 0)"
      ]
     },
     "execution_count": 59,
     "metadata": {},
     "output_type": "execute_result"
    }
   ],
   "source": [
    "F=FiniteField(2)\n",
    "RF=PolynomialRing(F,'y')\n",
    "y=RF.x\n",
    "pol1=RF([1,0,0,0,1])\n",
    "pol2=RF([1,2,1])\n",
    "print(pol1)\n",
    "print(pol2)\n",
    "pol2.ExtendedGCD(pol1)"
   ]
  },
  {
   "cell_type": "code",
   "execution_count": 534,
   "metadata": {},
   "outputs": [
    {
     "data": {
      "text/plain": [
       "-2 + -3*z^1 + -4*z^2"
      ]
     },
     "execution_count": 534,
     "metadata": {},
     "output_type": "execute_result"
    }
   ],
   "source": [
    "RZ=PolynomialRing(int,'z')\n",
    "z=RZ.x\n",
    "pol1=RZ([1,2,3,1])\n",
    "pol2=RZ([3,5,7,1])\n",
    "pol1.quorem(pol2)\n",
    "pol1%pol2\n",
    "#uwaga - wybrana implementacja GCD musi być poprawiona dla int - to nie jest ciało"
   ]
  },
  {
   "cell_type": "markdown",
   "metadata": {},
   "source": [
    "# Pierścienie ilorazowe"
   ]
  },
  {
   "cell_type": "code",
   "execution_count": 247,
   "metadata": {},
   "outputs": [],
   "source": [
    "def power_fast_pol_mod(x, n,modulus):\n",
    "    y = polynomial([x.one],x.type)\n",
    "    if n==0:\n",
    "        return y\n",
    "    while n > 1:\n",
    "        if n % 2 == 0:\n",
    "            x = (x * x)%(modulus)\n",
    "            n = n // 2;\n",
    "        else:\n",
    "            y = (x * y)%(modulus);\n",
    "            x = (x * x)%(modulus);\n",
    "            n = (n - 1) // 2\n",
    "    return x * y\n",
    "\n",
    "class QuoRingEl():\n",
    "    def __init__(self,pol,modulus,var='x'):\n",
    "        self.pol=pol%modulus\n",
    "        self.modulus=modulus\n",
    "        self.var=var\n",
    "        \n",
    "    def __add__(self,p):\n",
    "        if type(p)==type(self):\n",
    "            return QuoRingEl(self.pol+p.pol,self.modulus,self.var)\n",
    "        return QuoRingEl(self.pol+p,self.modulus,self.var)\n",
    "    \n",
    "    def __mul__(self,p):\n",
    "        if type(p)==type(self):\n",
    "            return QuoRingEl(self.pol*p.pol,self.modulus,self.var)\n",
    "        return QuoRingEl(self.pol*p,self.modulus,self.var)\n",
    "    \n",
    "    def __sub__(self,p):\n",
    "        if type(p)==type(self):\n",
    "            return QuoRingEl(self.pol-p.pol,self.modulus,self.var)\n",
    "        return QuoRingEl(self.pol-p,self.modulus,self.var)\n",
    "    \n",
    "    def __truediv__(self,p):\n",
    "        if type(p)==type(self):\n",
    "            d,s,t=p.pol.ExtendedGCD(self.modulus)\n",
    "            #a/b == a*s (mod n)\n",
    "            #s*b+t*n==d\n",
    "            #(s/d)*b+(t/d)*n==1\n",
    "            if d.deg>0 or d==d.zero:\n",
    "                raise NameError('Nie ma odwrotności.')\n",
    "            return QuoRingEl(self.pol*s//d.coo[0],self.modulus,self.var)\n",
    "        d,t,s=self.modulus.ExtendedGCD(p)\n",
    "        if d.deg>0 or d==d.zero:\n",
    "                raise NameError('Nie ma odwrotności.')\n",
    "        return QuoRingEl(self.pol*s//d.coo[0],self.modulus,self.var)\n",
    "        \n",
    "    \n",
    "    def __eq__(self,p):\n",
    "        if type(self)==type(p):\n",
    "            if self.pol==p.pol:\n",
    "                return True\n",
    "        return False\n",
    "    def __neg__(self):\n",
    "        return QuoRingEl(-self.pol,modulus,self.var)\n",
    "    \n",
    "    def __pow__(self,k):\n",
    "        if k<0:\n",
    "            pp=QuoRingEl(polynomial([self.pol.one],self.pol.type),self.modulus,self.var)/self\n",
    "            return QuoRingEl(power_fast_pol_mod(pp.pol,-k,self.modulus),self.modulus,self.var)\n",
    "        return QuoRingEl(power_fast_pol_mod(self.pol,k,self.modulus),self.modulus,self.var)\n",
    "    \n",
    "    def __str__(self):\n",
    "        i=0\n",
    "        if not(self.pol.coo[0]==self.pol.zero):\n",
    "            polprint=str(self.pol.coo[0])\n",
    "            zerostarted=False\n",
    "            iszero=False\n",
    "        else:\n",
    "            polprint=''\n",
    "            zerostarted=True\n",
    "            iszero=True\n",
    "        for el in self.pol.coo[1:]:\n",
    "            i+=1\n",
    "            if not(el==self.pol.zero):\n",
    "                iszero=False\n",
    "                if not zerostarted:\n",
    "                    if el == self.pol.one:\n",
    "                        polprint+=' + {}^{}'.format(self.var,str(i))\n",
    "                    else:\n",
    "                        polprint+=' + {}*{}^{}'.format(str(el),self.var,str(i))\n",
    "                else:\n",
    "                    if el == self.pol.one:\n",
    "                        polprint+='{}^{}'.format(self.var,str(i))\n",
    "                    else:\n",
    "                        polprint+='{}*{}^{}'.format(str(el),self.var,str(i))\n",
    "                    zerostarted=False\n",
    "        if iszero:\n",
    "            if SHOWMOD==True:\n",
    "                return '0 (mod {})'.format(self.modulus)\n",
    "            else:\n",
    "                return '0'\n",
    "        else:\n",
    "            if SHOWMOD==True:\n",
    "                return polprint+' (mod {})'.format(self.modulus)\n",
    "            else:\n",
    "                return polprint\n",
    "        \n",
    "    def __repr__(self):\n",
    "        return self.__str__()\n",
    "    \n",
    "class QuotientRing():\n",
    "    def __init__(self,polR,modulus,var='x'):\n",
    "        self.reprR=polR\n",
    "        self.modulus=modulus\n",
    "        self.x=QuoRingEl(polR.x,modulus,var)\n",
    "        self.var=var\n",
    "    \n",
    "    def __str__(self):\n",
    "        return \"Pierścień ilorazowy {} modulo {}\".format(self.reprR,self.modulus)\n",
    "    \n",
    "    def __repr__(self):\n",
    "        return self.__str__()\n",
    "    \n",
    "    def __call__(self,pol):\n",
    "        if type(pol)==int:\n",
    "            return QuoRingEl(polynomial([self.reprR.R(pol)],self.reprR.R),self.modulus,self.var)\n",
    "        return QuoRingEl(pol,self.modulus,self.var)\n",
    "    def __eq__(self,ring):\n",
    "        if type(self)==type(ring):\n",
    "            if (self.reprR==ring.reprR) and (self.modulus==ring.modulus):\n",
    "                return True\n",
    "        return False\n",
    "        "
   ]
  },
  {
   "cell_type": "markdown",
   "metadata": {},
   "source": [
    "# Przykłady"
   ]
  },
  {
   "cell_type": "code",
   "execution_count": 248,
   "metadata": {},
   "outputs": [],
   "source": [
    "F=FiniteField(2)\n",
    "R=PolynomialRing(F)\n",
    "x=R.x\n",
    "pol=x**2+x+1"
   ]
  },
  {
   "cell_type": "code",
   "execution_count": 249,
   "metadata": {},
   "outputs": [
    {
     "data": {
      "text/plain": [
       "(1, 0, 1)"
      ]
     },
     "execution_count": 249,
     "metadata": {},
     "output_type": "execute_result"
    }
   ],
   "source": [
    "pol.ExtendedGCD(1)"
   ]
  },
  {
   "cell_type": "code",
   "execution_count": 250,
   "metadata": {},
   "outputs": [],
   "source": [
    "SHOWMOD=False\n",
    "F4=QuotientRing(R,pol,'a')\n",
    "a=F4.x\n",
    "F4el=[F4(0),F4(1),a,a+1]"
   ]
  },
  {
   "cell_type": "code",
   "execution_count": 251,
   "metadata": {},
   "outputs": [
    {
     "data": {
      "text/plain": [
       "1 + a^1"
      ]
     },
     "execution_count": 251,
     "metadata": {},
     "output_type": "execute_result"
    }
   ],
   "source": [
    "a**(-1)"
   ]
  },
  {
   "cell_type": "code",
   "execution_count": 552,
   "metadata": {},
   "outputs": [
    {
     "data": {
      "text/plain": [
       "[['0+0=0', '0+1=1', '0+a^1=a^1', '0+1 + a^1=1 + a^1'],\n",
       " ['1+0=1', '1+1=0', '1+a^1=1 + a^1', '1+1 + a^1=a^1'],\n",
       " ['a^1+0=a^1', 'a^1+1=1 + a^1', 'a^1+a^1=0', 'a^1+1 + a^1=1'],\n",
       " ['1 + a^1+0=1 + a^1', '1 + a^1+1=a^1', '1 + a^1+a^1=1', '1 + a^1+1 + a^1=0']]"
      ]
     },
     "execution_count": 552,
     "metadata": {},
     "output_type": "execute_result"
    }
   ],
   "source": [
    "#Tabliczka dodawania\n",
    "[[\"{}+{}={}\".format(a,b,a+b) for b in F4el] for a in F4el]"
   ]
  },
  {
   "cell_type": "code",
   "execution_count": 553,
   "metadata": {},
   "outputs": [
    {
     "data": {
      "text/plain": [
       "[['(0)*(0)=0', '(0)*(1)=0', '(0)*(a^1)=0', '(0)*(1 + a^1)=0'],\n",
       " ['(1)*(0)=0', '(1)*(1)=1', '(1)*(a^1)=a^1', '(1)*(1 + a^1)=1 + a^1'],\n",
       " ['(a^1)*(0)=0', '(a^1)*(1)=a^1', '(a^1)*(a^1)=1 + a^1', '(a^1)*(1 + a^1)=1'],\n",
       " ['(1 + a^1)*(0)=0',\n",
       "  '(1 + a^1)*(1)=1 + a^1',\n",
       "  '(1 + a^1)*(a^1)=1',\n",
       "  '(1 + a^1)*(1 + a^1)=a^1']]"
      ]
     },
     "execution_count": 553,
     "metadata": {},
     "output_type": "execute_result"
    }
   ],
   "source": [
    "#Tabliczka mnożenia\n",
    "[[\"({})*({})={}\".format(a,b,a*b) for b in F4el] for a in F4el]"
   ]
  },
  {
   "cell_type": "code",
   "execution_count": 555,
   "metadata": {},
   "outputs": [],
   "source": [
    "R2=PolynomialRing(F4,var='T')"
   ]
  },
  {
   "cell_type": "code",
   "execution_count": 556,
   "metadata": {},
   "outputs": [],
   "source": [
    "T=R2.x"
   ]
  },
  {
   "cell_type": "code",
   "execution_count": 557,
   "metadata": {},
   "outputs": [
    {
     "data": {
      "text/plain": [
       "1 + T^1 + T^2"
      ]
     },
     "execution_count": 557,
     "metadata": {},
     "output_type": "execute_result"
    }
   ],
   "source": [
    "(T+a)*(T+(a+1)) #faktoryzacja wielomianu 1+T+T^2 nad ciałem 4-elementowym"
   ]
  },
  {
   "cell_type": "markdown",
   "metadata": {},
   "source": [
    "Nierozkładalne wielomiany nad ciałem $2$-elementowym"
   ]
  },
  {
   "cell_type": "code",
   "execution_count": 452,
   "metadata": {},
   "outputs": [],
   "source": [
    "F=FiniteField(2)\n",
    "R=PolynomialRing(F)\n",
    "x=R.x"
   ]
  },
  {
   "cell_type": "code",
   "execution_count": 235,
   "metadata": {},
   "outputs": [],
   "source": [
    "nst1=[x+1]\n",
    "nst2=[x**2+x+1]\n",
    "nst30=[x**3+F(a)*x**2+F(b)*x+1 for a in range(0,2) for b in range(0,2)]"
   ]
  },
  {
   "cell_type": "code",
   "execution_count": 238,
   "metadata": {},
   "outputs": [
    {
     "data": {
      "text/plain": [
       "[[0, 0, 1 + x^3],\n",
       " [x^1, 1, 1 + x^1 + x^3],\n",
       " [1 + x^1, 1, 1 + x^2 + x^3],\n",
       " [1, 0, 1 + x^1 + x^2 + x^3]]"
      ]
     },
     "execution_count": 238,
     "metadata": {},
     "output_type": "execute_result"
    }
   ],
   "source": [
    "[[p%(x**2+x+1),p%(x+1),p] for p in nst3]"
   ]
  },
  {
   "cell_type": "code",
   "execution_count": 240,
   "metadata": {},
   "outputs": [],
   "source": [
    "nst30=[x**3+x+1,x**3+x**2+1]"
   ]
  },
  {
   "cell_type": "code",
   "execution_count": 252,
   "metadata": {},
   "outputs": [],
   "source": [
    "F8=QuotientRing(R,x**3+x+1,'b')\n",
    "b=F8.x"
   ]
  },
  {
   "cell_type": "code",
   "execution_count": 253,
   "metadata": {},
   "outputs": [
    {
     "data": {
      "text/plain": [
       "[1, b^1, b^2, 1 + b^1, b^1 + b^2, 1 + b^1 + b^2, 1 + b^2]"
      ]
     },
     "execution_count": 253,
     "metadata": {},
     "output_type": "execute_result"
    }
   ],
   "source": [
    "[b**k for k in range(0,7)] #hence b is a generator of the multiplicative group"
   ]
  },
  {
   "cell_type": "code",
   "execution_count": 346,
   "metadata": {},
   "outputs": [],
   "source": [
    "F=FiniteField(2)\n",
    "R=PolynomialRing(F)\n",
    "x=R.x\n",
    "def IrredPol2(n,x):\n",
    "    if n==1:\n",
    "        return [x+1]\n",
    "    if n>1:\n",
    "        li=[]\n",
    "        for a in range(0,2**(n-1)):\n",
    "            licoo=list(map(int,list(bin(a))[2:]))\n",
    "            licoo.reverse()\n",
    "            inpol=R(licoo)*x\n",
    "            pol=x**n+inpol+1\n",
    "            #print(\"a=\",a)\n",
    "            #print(\"pol=\",pol)\n",
    "            isred=False\n",
    "            for k in range(1,n//2+1):\n",
    "                #print(\"k=\",k)\n",
    "                irrk=IrredPol2(k,x)\n",
    "                #print(\"irrk=\",irrk)\n",
    "                for el in irrk:\n",
    "                    #print(\"el=\",el)\n",
    "                    #print(\"pol%el=\",pol%el)\n",
    "                    if pol%el==F(0):\n",
    "                        #print(\"isred\")\n",
    "                        isred=True\n",
    "                        break\n",
    "                if isred:\n",
    "                    #print(\"Przerwij k petle\")\n",
    "                    break\n",
    "            if not isred:\n",
    "                li.append(pol)\n",
    "        return li\n",
    "                    \n",
    "                "
   ]
  },
  {
   "cell_type": "code",
   "execution_count": 501,
   "metadata": {},
   "outputs": [
    {
     "data": {
      "text/plain": [
       "[1 + x^1 + x^3 + x^4 + x^8,\n",
       " 1 + x^2 + x^3 + x^4 + x^8,\n",
       " 1 + x^1 + x^3 + x^5 + x^8,\n",
       " 1 + x^2 + x^3 + x^5 + x^8,\n",
       " 1 + x^3 + x^4 + x^5 + x^8,\n",
       " 1 + x^1 + x^2 + x^3 + x^4 + x^5 + x^8,\n",
       " 1 + x^2 + x^3 + x^6 + x^8,\n",
       " 1 + x^1 + x^2 + x^3 + x^4 + x^6 + x^8,\n",
       " 1 + x^1 + x^5 + x^6 + x^8,\n",
       " 1 + x^2 + x^5 + x^6 + x^8,\n",
       " 1 + x^3 + x^5 + x^6 + x^8,\n",
       " 1 + x^4 + x^5 + x^6 + x^8,\n",
       " 1 + x^1 + x^2 + x^4 + x^5 + x^6 + x^8,\n",
       " 1 + x^1 + x^3 + x^4 + x^5 + x^6 + x^8,\n",
       " 1 + x^1 + x^2 + x^7 + x^8,\n",
       " 1 + x^1 + x^3 + x^7 + x^8,\n",
       " 1 + x^2 + x^3 + x^7 + x^8,\n",
       " 1 + x^1 + x^2 + x^3 + x^4 + x^7 + x^8,\n",
       " 1 + x^1 + x^5 + x^7 + x^8,\n",
       " 1 + x^3 + x^5 + x^7 + x^8,\n",
       " 1 + x^4 + x^5 + x^7 + x^8,\n",
       " 1 + x^2 + x^3 + x^4 + x^5 + x^7 + x^8,\n",
       " 1 + x^1 + x^6 + x^7 + x^8,\n",
       " 1 + x^1 + x^2 + x^3 + x^6 + x^7 + x^8,\n",
       " 1 + x^1 + x^2 + x^4 + x^6 + x^7 + x^8,\n",
       " 1 + x^2 + x^3 + x^4 + x^6 + x^7 + x^8,\n",
       " 1 + x^1 + x^2 + x^5 + x^6 + x^7 + x^8,\n",
       " 1 + x^1 + x^4 + x^5 + x^6 + x^7 + x^8,\n",
       " 1 + x^2 + x^4 + x^5 + x^6 + x^7 + x^8,\n",
       " 1 + x^3 + x^4 + x^5 + x^6 + x^7 + x^8]"
      ]
     },
     "execution_count": 501,
     "metadata": {},
     "output_type": "execute_result"
    }
   ],
   "source": [
    "IrredPol2(8,x)"
   ]
  },
  {
   "cell_type": "code",
   "execution_count": 472,
   "metadata": {},
   "outputs": [],
   "source": [
    "#Rijnadel vel AES - wybór wielomianu jak poniżej\n",
    "F256=QuotientRing(R,x**8+x**4+x**3+x+1,'c')\n",
    "c=F256.x\n",
    "\n",
    "def HexToF256(n):\n",
    "    xl=list(map(int,bin(int(n,16))[2:]))\n",
    "    xl.reverse()\n",
    "    return F256(R(xl))\n",
    "def F256ToHex(a):\n",
    "    al=a.pol.coo.copy()\n",
    "    al.reverse()\n",
    "    return hex(int(\"\".join(map(str,al)),2))[2:].upper()"
   ]
  },
  {
   "cell_type": "code",
   "execution_count": 473,
   "metadata": {},
   "outputs": [
    {
     "data": {
      "text/plain": [
       "1 + c^6 + c^7"
      ]
     },
     "execution_count": 473,
     "metadata": {},
     "output_type": "execute_result"
    }
   ],
   "source": [
    "HexToF256('57')*HexToF256('83')"
   ]
  },
  {
   "cell_type": "code",
   "execution_count": 436,
   "metadata": {},
   "outputs": [
    {
     "data": {
      "text/plain": [
       "1 + c^6 + c^7"
      ]
     },
     "execution_count": 436,
     "metadata": {},
     "output_type": "execute_result"
    }
   ],
   "source": [
    "HexToF256('C1')"
   ]
  },
  {
   "cell_type": "code",
   "execution_count": 437,
   "metadata": {},
   "outputs": [
    {
     "data": {
      "text/plain": [
       "'C1'"
      ]
     },
     "execution_count": 437,
     "metadata": {},
     "output_type": "execute_result"
    }
   ],
   "source": [
    "F256ToHex(HexToF256('57')*HexToF256('83'))"
   ]
  },
  {
   "cell_type": "code",
   "execution_count": 438,
   "metadata": {},
   "outputs": [
    {
     "data": {
      "text/plain": [
       "1 + c^1 + c^2 + c^3 + c^6"
      ]
     },
     "execution_count": 438,
     "metadata": {},
     "output_type": "execute_result"
    }
   ],
   "source": [
    "HexToF256('09')**(-1)"
   ]
  },
  {
   "cell_type": "code",
   "execution_count": 439,
   "metadata": {},
   "outputs": [
    {
     "data": {
      "text/plain": [
       "'FF'"
      ]
     },
     "execution_count": 439,
     "metadata": {},
     "output_type": "execute_result"
    }
   ],
   "source": [
    "F256ToHex(HexToF256('FF'))"
   ]
  },
  {
   "cell_type": "code",
   "execution_count": 440,
   "metadata": {},
   "outputs": [
    {
     "data": {
      "text/plain": [
       "'FE'"
      ]
     },
     "execution_count": 440,
     "metadata": {},
     "output_type": "execute_result"
    }
   ],
   "source": [
    "F256ToHex(HexToF256('57')*HexToF256('13'))"
   ]
  },
  {
   "cell_type": "code",
   "execution_count": 441,
   "metadata": {},
   "outputs": [
    {
     "data": {
      "text/plain": [
       "'9A'"
      ]
     },
     "execution_count": 441,
     "metadata": {},
     "output_type": "execute_result"
    }
   ],
   "source": [
    "F256ToHex(HexToF256('17')*HexToF256('A3'))"
   ]
  },
  {
   "cell_type": "code",
   "execution_count": 442,
   "metadata": {},
   "outputs": [
    {
     "data": {
      "text/plain": [
       "'C3'"
      ]
     },
     "execution_count": 442,
     "metadata": {},
     "output_type": "execute_result"
    }
   ],
   "source": [
    "F256ToHex(HexToF256('F7')**6)"
   ]
  },
  {
   "cell_type": "code",
   "execution_count": 443,
   "metadata": {},
   "outputs": [
    {
     "data": {
      "text/plain": [
       "'3B'"
      ]
     },
     "execution_count": 443,
     "metadata": {},
     "output_type": "execute_result"
    }
   ],
   "source": [
    "F256ToHex(HexToF256('12')**6)"
   ]
  },
  {
   "cell_type": "code",
   "execution_count": 466,
   "metadata": {},
   "outputs": [
    {
     "data": {
      "text/plain": [
       "'1'"
      ]
     },
     "execution_count": 466,
     "metadata": {},
     "output_type": "execute_result"
    }
   ],
   "source": [
    "F256ToHex(F256(1))"
   ]
  },
  {
   "cell_type": "code",
   "execution_count": 464,
   "metadata": {},
   "outputs": [
    {
     "data": {
      "text/plain": [
       "['1',\n",
       " '2',\n",
       " '4',\n",
       " '8',\n",
       " '10',\n",
       " '20',\n",
       " '40',\n",
       " '80',\n",
       " '1B',\n",
       " '36',\n",
       " '6C',\n",
       " 'D8',\n",
       " 'AB',\n",
       " '4D',\n",
       " '9A']"
      ]
     },
     "execution_count": 464,
     "metadata": {},
     "output_type": "execute_result"
    }
   ],
   "source": [
    "[F256ToHex(c**k) for k in range(0,15)]"
   ]
  },
  {
   "cell_type": "code",
   "execution_count": 477,
   "metadata": {},
   "outputs": [
    {
     "data": {
      "text/plain": [
       "'4F'"
      ]
     },
     "execution_count": 477,
     "metadata": {},
     "output_type": "execute_result"
    }
   ],
   "source": [
    "F256ToHex(HexToF256('09')**(-1))"
   ]
  },
  {
   "cell_type": "code",
   "execution_count": null,
   "metadata": {},
   "outputs": [],
   "source": []
  }
 ],
 "metadata": {
  "kernelspec": {
   "display_name": "Python 3",
   "language": "python",
   "name": "python3"
  }
 },
 "nbformat": 4,
 "nbformat_minor": 4
}
