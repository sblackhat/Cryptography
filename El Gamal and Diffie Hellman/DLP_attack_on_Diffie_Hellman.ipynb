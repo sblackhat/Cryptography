{
 "cells": [
  {
   "cell_type": "code",
   "execution_count": 1,
   "metadata": {},
   "outputs": [],
   "source": [
    "#If you are using SageMath\n",
    "\n",
    "Z11=Integers(11) #integers modulo 11"
   ]
  },
  {
   "cell_type": "code",
   "execution_count": 4,
   "metadata": {},
   "outputs": [],
   "source": [
    "U11=Z11.unit_group() #group of invertible elements"
   ]
  },
  {
   "cell_type": "code",
   "execution_count": 5,
   "metadata": {},
   "outputs": [
    {
     "data": {
      "text/plain": [
       "Multiplicative Abelian group isomorphic to C10"
      ]
     },
     "execution_count": 5,
     "metadata": {},
     "output_type": "execute_result"
    }
   ],
   "source": [
    "U11"
   ]
  },
  {
   "cell_type": "code",
   "execution_count": 9,
   "metadata": {},
   "outputs": [],
   "source": [
    "li=[x for x in U11]"
   ]
  },
  {
   "cell_type": "code",
   "execution_count": 11,
   "metadata": {},
   "outputs": [
    {
     "data": {
      "text/plain": [
       "<class 'sage.groups.abelian_gps.values.AbelianGroupWithValues_class_with_category.element_class'>"
      ]
     },
     "execution_count": 11,
     "metadata": {},
     "output_type": "execute_result"
    }
   ],
   "source": [
    "type(li[2])"
   ]
  },
  {
   "cell_type": "code",
   "execution_count": 14,
   "metadata": {},
   "outputs": [],
   "source": [
    "a=Z11(5)"
   ]
  },
  {
   "cell_type": "code",
   "execution_count": 17,
   "metadata": {},
   "outputs": [
    {
     "data": {
      "text/plain": [
       "5"
      ]
     },
     "execution_count": 17,
     "metadata": {},
     "output_type": "execute_result"
    }
   ],
   "source": [
    "a.multiplicative_order()"
   ]
  },
  {
   "cell_type": "code",
   "execution_count": 19,
   "metadata": {},
   "outputs": [
    {
     "data": {
      "text/plain": [
       "1"
      ]
     },
     "execution_count": 19,
     "metadata": {},
     "output_type": "execute_result"
    }
   ],
   "source": [
    "(5**5)%11"
   ]
  },
  {
   "cell_type": "code",
   "execution_count": 20,
   "metadata": {},
   "outputs": [],
   "source": [
    "#From Lagrange theorem we know that the orders of elements in U11 are only 1, 2, 5 or 10."
   ]
  },
  {
   "cell_type": "code",
   "execution_count": 22,
   "metadata": {},
   "outputs": [
    {
     "data": {
      "text/plain": [
       "[3, 4, 5, 9]"
      ]
     },
     "execution_count": 22,
     "metadata": {},
     "output_type": "execute_result"
    }
   ],
   "source": [
    "[k for k in range(1,11) if Z11(k).multiplicative_order() == 5]"
   ]
  },
  {
   "cell_type": "code",
   "execution_count": 23,
   "metadata": {},
   "outputs": [
    {
     "data": {
      "text/plain": [
       "[1]"
      ]
     },
     "execution_count": 23,
     "metadata": {},
     "output_type": "execute_result"
    }
   ],
   "source": [
    "[k for k in range(1,11) if Z11(k).multiplicative_order() == 1]"
   ]
  },
  {
   "cell_type": "code",
   "execution_count": 24,
   "metadata": {},
   "outputs": [
    {
     "data": {
      "text/plain": [
       "[2, 6, 7, 8]"
      ]
     },
     "execution_count": 24,
     "metadata": {},
     "output_type": "execute_result"
    }
   ],
   "source": [
    "[k for k in range(1,11) if Z11(k).multiplicative_order() == 10]"
   ]
  },
  {
   "cell_type": "code",
   "execution_count": 25,
   "metadata": {},
   "outputs": [
    {
     "data": {
      "text/plain": [
       "[10]"
      ]
     },
     "execution_count": 25,
     "metadata": {},
     "output_type": "execute_result"
    }
   ],
   "source": [
    "[k for k in range(1,11) if Z11(k).multiplicative_order() == 2]"
   ]
  },
  {
   "cell_type": "markdown",
   "metadata": {},
   "source": [
    "In $(\\mathbb{Z}/11)^{\\times}$ we have elements of orders 1,2,5 or 10:\n",
    "\n",
    "1. Elements of order $1$: 1.\n",
    "2. Elements of order $2$: 10.\n",
    "3. Elements of order $5$: 3,4,5,9.\n",
    "4. Elements of order $10$: 2,6,7,8.\n",
    "\n",
    "In particular we have $4$ generators in this group."
   ]
  },
  {
   "cell_type": "code",
   "execution_count": 26,
   "metadata": {},
   "outputs": [],
   "source": [
    "def DiffieHellman(g,a):\n",
    "    return g**a"
   ]
  },
  {
   "cell_type": "code",
   "execution_count": 49,
   "metadata": {},
   "outputs": [
    {
     "data": {
      "text/plain": [
       "[1, 2, 3, 5, 6, 7, 10, 17, 23, 27, 30, 97, 110]"
      ]
     },
     "execution_count": 49,
     "metadata": {},
     "output_type": "execute_result"
    }
   ],
   "source": [
    "[k for k in range(1,200) if (2**(Primes()[k])-1).is_prime()]"
   ]
  },
  {
   "cell_type": "code",
   "execution_count": 50,
   "metadata": {},
   "outputs": [],
   "source": [
    "p=2**(Primes()[97])-1"
   ]
  },
  {
   "cell_type": "code",
   "execution_count": 62,
   "metadata": {},
   "outputs": [
    {
     "data": {
      "text/plain": [
       "6864797660130609714981900799081393217269435300143305409394463459185543183397656052122559640661454554977296311391480858037121987999716643812574028291115057151"
      ]
     },
     "execution_count": 62,
     "metadata": {},
     "output_type": "execute_result"
    }
   ],
   "source": [
    "p"
   ]
  },
  {
   "cell_type": "code",
   "execution_count": 63,
   "metadata": {},
   "outputs": [
    {
     "data": {
      "text/plain": [
       "2 * 3 * 5^2 * 11 * 17 * 31 * 41 * 53 * 131 * 157 * 521 * 1613 * 2731 * 8191 * 42641 * 51481 * 61681 * 409891 * 858001 * 5746001 * 7623851 * 34110701 * 308761441 * 2400573761 * 65427463921 * 108140989558681 * 145295143558111 * 173308343918874810521923841"
      ]
     },
     "execution_count": 63,
     "metadata": {},
     "output_type": "execute_result"
    }
   ],
   "source": [
    "(p-1).factor()"
   ]
  },
  {
   "cell_type": "markdown",
   "metadata": {},
   "source": [
    "## Finding a generator of a multiplicative group.\n",
    "For every prime $p$ the multiplicative group $\\Phi(p)=(\\mathbb{Z}/p)^{\\times}$ is cyclic, hence there is an element $0<g<p$ such that $\\Phi(p)=\\{1,g,g^2,...g^{p-1}\\}$.\n",
    "\n",
    "Problem: how can we produce an element $g$?\n",
    "\n",
    "Solution 1: brute force algorithm: we check with fast exponentiation which elements have order exactly $p-1$\n",
    "To do that we need to check for each $a$ whether $a^k\\equiv 1\\textrm{ mod }p$ for each $k\\mid p-1$ (we use essentially the fact that $\\Phi(p)$ is a group.\n",
    "\n",
    "Solution 2: if we know the factorization of the number $p-1$ we can run a probabilistic algorithm which will solve the task\n",
    "\n",
    "$p-1=\\prod_{i=1}^{r}q_i^{e_i}$"
   ]
  },
  {
   "cell_type": "code",
   "execution_count": 64,
   "metadata": {},
   "outputs": [],
   "source": [
    "def FindGen(p):\n",
    "    fact=(p-1).factor()\n",
    "    gammali=[]\n",
    "    for i in range(0,len(fact)):\n",
    "        b=1\n",
    "        while b==1:\n",
    "            a=randint(1,p-1)\n",
    "            b=power_mod(a,(p-1)//fact[i][0],p)\n",
    "        gammali+=[power_mod(a,(p-1)//(fact[i][0]**fact[i][1]),p)]\n",
    "    gamma=prod(gammali)%p\n",
    "    return gamma\n",
    "#analysis of the algorithm on page 328 (Shoup)\n",
    "#estimated complexity about O(len(p)^4) (excluding time spent on the factorization!)"
   ]
  },
  {
   "cell_type": "code",
   "execution_count": 65,
   "metadata": {},
   "outputs": [],
   "source": [
    "Zp=Integers(p) #integers modulo p"
   ]
  },
  {
   "cell_type": "code",
   "execution_count": 70,
   "metadata": {},
   "outputs": [
    {
     "data": {
      "text/plain": [
       "True"
      ]
     },
     "execution_count": 70,
     "metadata": {},
     "output_type": "execute_result"
    }
   ],
   "source": [
    "Zp(3).multiplicative_order()==p-1"
   ]
  },
  {
   "cell_type": "code",
   "execution_count": 76,
   "metadata": {},
   "outputs": [],
   "source": [
    "# We want to have randomized generators!\n",
    "g=Zp(FindGen(p))"
   ]
  },
  {
   "cell_type": "code",
   "execution_count": 78,
   "metadata": {},
   "outputs": [],
   "source": [
    "#Alice\n",
    "a=randint(2,p-1)\n",
    "e1=g**a"
   ]
  },
  {
   "cell_type": "code",
   "execution_count": 80,
   "metadata": {},
   "outputs": [],
   "source": [
    "#Bob\n",
    "b=randint(2,p-1)\n",
    "e2=g**b"
   ]
  },
  {
   "cell_type": "code",
   "execution_count": 82,
   "metadata": {},
   "outputs": [],
   "source": [
    "#Alice\n",
    "eA=e2**a"
   ]
  },
  {
   "cell_type": "code",
   "execution_count": 83,
   "metadata": {},
   "outputs": [],
   "source": [
    "#Bob\n",
    "eB=e1**b"
   ]
  },
  {
   "cell_type": "code",
   "execution_count": 84,
   "metadata": {},
   "outputs": [
    {
     "data": {
      "text/plain": [
       "True"
      ]
     },
     "execution_count": 84,
     "metadata": {},
     "output_type": "execute_result"
    }
   ],
   "source": [
    "eA==eB"
   ]
  },
  {
   "cell_type": "code",
   "execution_count": 85,
   "metadata": {},
   "outputs": [],
   "source": [
    "#shared secret\n",
    "e=eA #(=eB)"
   ]
  },
  {
   "cell_type": "code",
   "execution_count": 86,
   "metadata": {},
   "outputs": [],
   "source": [
    "#Eve wants to find a number e from the knowledge of g,e1 and e2 (she knows Zp as well)"
   ]
  },
  {
   "cell_type": "code",
   "execution_count": 87,
   "metadata": {},
   "outputs": [
    {
     "data": {
      "text/plain": [
       "349562490585959426777829028036965234265261567416605082896816963518129585412075843706919538826200790579503432236143344887231414002183367994463647966489186423"
      ]
     },
     "execution_count": 87,
     "metadata": {},
     "output_type": "execute_result"
    }
   ],
   "source": [
    "g"
   ]
  },
  {
   "cell_type": "code",
   "execution_count": 88,
   "metadata": {},
   "outputs": [
    {
     "data": {
      "text/plain": [
       "5629069575713336272317637809287278048068489755412570801618030884637950557863493592283244010011428452984866876957856704464977064356886001898427600684797015961"
      ]
     },
     "execution_count": 88,
     "metadata": {},
     "output_type": "execute_result"
    }
   ],
   "source": [
    "e1"
   ]
  },
  {
   "cell_type": "code",
   "execution_count": 89,
   "metadata": {},
   "outputs": [
    {
     "data": {
      "text/plain": [
       "5679846815634052100953939937378371619503648171807328183257248001693473194884830746695692694445721393017513688855651985898971338740326381269203141861027670135"
      ]
     },
     "execution_count": 89,
     "metadata": {},
     "output_type": "execute_result"
    }
   ],
   "source": [
    "e2"
   ]
  },
  {
   "cell_type": "code",
   "execution_count": 90,
   "metadata": {},
   "outputs": [
    {
     "data": {
      "text/plain": [
       "6864797660130609714981900799081393217269435300143305409394463459185543183397656052122559640661454554977296311391480858037121987999716643812574028291115057151"
      ]
     },
     "execution_count": 90,
     "metadata": {},
     "output_type": "execute_result"
    }
   ],
   "source": [
    "p"
   ]
  },
  {
   "cell_type": "code",
   "execution_count": 91,
   "metadata": {},
   "outputs": [],
   "source": [
    "#Eve needs to find the exponents a,b and compute g**(a*b) (this is e)"
   ]
  },
  {
   "cell_type": "markdown",
   "metadata": {},
   "source": [
    "# Discrete logarithm for the group $(\\mathbb{Z}/p)^{\\times}$\n",
    "\n",
    "Algorithms:\n",
    "1. Brute force\n",
    "2. Baby step, giant step"
   ]
  },
  {
   "cell_type": "code",
   "execution_count": 92,
   "metadata": {},
   "outputs": [],
   "source": [
    "#we need to assume that alpha can be obtained from gamma (i.e. there is a number x s.t. gamma**x == alpha)\n",
    "def BruteForceDLP(gamma,alpha): # we produce an element a such that gamma**a == alpha\n",
    "    beta=1\n",
    "    i=0\n",
    "    while beta!=alpha: #the loop will never stop if the assumptions are not satisfied\n",
    "        beta*=gamma\n",
    "        i+=1\n",
    "    return i"
   ]
  },
  {
   "cell_type": "code",
   "execution_count": 95,
   "metadata": {},
   "outputs": [
    {
     "data": {
      "text/plain": [
       "3"
      ]
     },
     "execution_count": 95,
     "metadata": {},
     "output_type": "execute_result"
    }
   ],
   "source": [
    "Z=Integers(19)\n",
    "BruteForceDLP(Z(2),Z(2)**3)"
   ]
  },
  {
   "cell_type": "code",
   "execution_count": 96,
   "metadata": {},
   "outputs": [
    {
     "data": {
      "text/plain": [
       "17"
      ]
     },
     "execution_count": 96,
     "metadata": {},
     "output_type": "execute_result"
    }
   ],
   "source": [
    "Z=Integers(19)\n",
    "BruteForceDLP(Z(2),Z(2)**197)"
   ]
  },
  {
   "cell_type": "code",
   "execution_count": 97,
   "metadata": {},
   "outputs": [
    {
     "data": {
      "text/plain": [
       "17"
      ]
     },
     "execution_count": 97,
     "metadata": {},
     "output_type": "execute_result"
    }
   ],
   "source": [
    "197%(19-1)"
   ]
  },
  {
   "cell_type": "code",
   "execution_count": 117,
   "metadata": {},
   "outputs": [
    {
     "name": "stdout",
     "output_type": "stream",
     "text": [
      "1 loop, best of 3: 4.31 s per loop\n"
     ]
    }
   ],
   "source": [
    "Z=Integers(Primes()[300000000])\n",
    "%timeit BruteForceDLP(Z(1919),Z(1919)**1971111)"
   ]
  },
  {
   "cell_type": "code",
   "execution_count": 108,
   "metadata": {},
   "outputs": [
    {
     "data": {
      "text/plain": [
       "Ring of integers modulo 4222234763"
      ]
     },
     "execution_count": 108,
     "metadata": {},
     "output_type": "execute_result"
    }
   ],
   "source": [
    "Z"
   ]
  },
  {
   "cell_type": "code",
   "execution_count": 115,
   "metadata": {},
   "outputs": [
    {
     "data": {
      "text/plain": [
       "156.83663"
      ]
     },
     "execution_count": 115,
     "metadata": {},
     "output_type": "execute_result"
    }
   ],
   "source": [
    "RealField(30)(log(p,10))"
   ]
  },
  {
   "cell_type": "code",
   "execution_count": 116,
   "metadata": {},
   "outputs": [
    {
     "data": {
      "text/plain": [
       "9.6255424"
      ]
     },
     "execution_count": 116,
     "metadata": {},
     "output_type": "execute_result"
    }
   ],
   "source": [
    "RealField(30)(log(4222234763,10))"
   ]
  },
  {
   "cell_type": "markdown",
   "metadata": {},
   "source": [
    "We can say that our DH scheme is safe for the DLP approach with the number p we've got (at least in the brute force attack)"
   ]
  },
  {
   "cell_type": "markdown",
   "metadata": {},
   "source": [
    "## Baby step, giant step method\n",
    "\n",
    "To solve the discrete logarithm problem one can apply the baby step-giant step method. \n",
    "\n",
    "Suppose we have a generator $g$ and a group $G$ spanned by $g$, which is of size $q$. We fix an integer $m$, roughly of the size $\\sqrt{q}$ (hence $q/m$ is also of the size $\\sqrt{q}$).\n",
    "\n",
    "In the first part we build a collection of powers $g^i$ of $g$ where $0\\leq i\\leq m-1$. \n",
    "This can be done reasonably effectively using for example the dictionary."
   ]
  },
  {
   "cell_type": "code",
   "execution_count": 125,
   "metadata": {},
   "outputs": [],
   "source": [
    "#Shoup 11.2.2\n",
    "\n",
    "#baby step - build a dictionary T\n",
    "def DictT(g,q):\n",
    "    m=floor(sqrt(q)*1.0)\n",
    "    T=dict([])\n",
    "    b=1\n",
    "    for i in range(0,m-2):\n",
    "        T[b]=i\n",
    "        b*=g\n",
    "    return T"
   ]
  },
  {
   "cell_type": "markdown",
   "metadata": {},
   "source": [
    "Next, we perform the ''giant step'' part, where we look for the appropriate exponent, using the precomputed data structure $T$ of small powers of $g$."
   ]
  },
  {
   "cell_type": "code",
   "execution_count": 126,
   "metadata": {},
   "outputs": [],
   "source": [
    "def GiantStep(g,q,e):\n",
    "    m=floor(sqrt(q)*1.0)\n",
    "    g1=g**(-m)\n",
    "    beta=e\n",
    "    j=0\n",
    "    T=DictT(g,q)\n",
    "    if not T.has_key(beta):\n",
    "        i=-1\n",
    "    else:\n",
    "        i=T[beta]\n",
    "    while i==-1:\n",
    "        beta*=g1\n",
    "        j+=1\n",
    "        if not T.has_key(beta):\n",
    "            i=-1\n",
    "        else:\n",
    "            i=T[beta]\n",
    "    x=j*m+i #this computing the exponent x such that g**x == e\n",
    "    return x"
   ]
  },
  {
   "cell_type": "code",
   "execution_count": 127,
   "metadata": {},
   "outputs": [
    {
     "name": "stdout",
     "output_type": "stream",
     "text": [
      "1 loop, best of 3: 3.85 s per loop\n"
     ]
    }
   ],
   "source": [
    "Z=Integers(Primes()[300000000])\n",
    "%timeit BruteForceDLP(Z(1919),Z(1919)**1971111)"
   ]
  },
  {
   "cell_type": "code",
   "execution_count": 129,
   "metadata": {},
   "outputs": [
    {
     "name": "stdout",
     "output_type": "stream",
     "text": [
      "1 loop, best of 3: 197 ms per loop\n"
     ]
    }
   ],
   "source": [
    "%timeit GiantStep(Z(1919),Primes()[300000000]-1,Z(1919)**1971111)"
   ]
  },
  {
   "cell_type": "code",
   "execution_count": 130,
   "metadata": {},
   "outputs": [
    {
     "data": {
      "text/plain": [
       "40.0000000000000"
      ]
     },
     "execution_count": 130,
     "metadata": {},
     "output_type": "execute_result"
    }
   ],
   "source": [
    "4/0.1"
   ]
  },
  {
   "cell_type": "code",
   "execution_count": 131,
   "metadata": {},
   "outputs": [
    {
     "data": {
      "text/plain": [
       "[1, 2, 3, 5, 6, 7, 10, 17, 23, 27, 30, 97, 110]"
      ]
     },
     "execution_count": 131,
     "metadata": {},
     "output_type": "execute_result"
    }
   ],
   "source": [
    "[k for k in range(1,200) if (2**(Primes()[k])-1).is_prime()]"
   ]
  },
  {
   "cell_type": "code",
   "execution_count": null,
   "metadata": {},
   "outputs": [],
   "source": [
    "p1=2**(Primes()[10])-1\n",
    "Z=Integers(p1)\n",
    "g=32749237492\n",
    "a=197111178433\n",
    "GiantStep(Z(g),p1-1,Z(g)**a)"
   ]
  },
  {
   "cell_type": "markdown",
   "metadata": {},
   "source": [
    "With the  prime p with $600$ digits we are pretty safe in terms of DLP attack even with baby step, giant step method."
   ]
  },
  {
   "cell_type": "code",
   "execution_count": null,
   "metadata": {},
   "outputs": [],
   "source": []
  }
 ],
 "metadata": {
  "kernelspec": {
   "display_name": "SageMath 8.9",
   "language": "sage",
   "name": "sagemath"
  },
  "language_info": {
   "codemirror_mode": {
    "name": "ipython",
    "version": 2
   },
   "file_extension": ".py",
   "mimetype": "text/x-python",
   "name": "python",
   "nbconvert_exporter": "python",
   "pygments_lexer": "ipython2",
   "version": "2.7.15"
  }
 },
 "nbformat": 4,
 "nbformat_minor": 2
}
