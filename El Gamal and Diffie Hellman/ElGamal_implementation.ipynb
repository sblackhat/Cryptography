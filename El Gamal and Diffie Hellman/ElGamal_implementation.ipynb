{
 "cells": [
  {
   "cell_type": "markdown",
   "metadata": {},
   "source": [
    "# ElGamal encryption scheme (on the multiplicative group)"
   ]
  },
  {
   "cell_type": "markdown",
   "metadata": {},
   "source": [
    "Fix a group $G$ with a generator $g$.\n",
    "\n",
    "**Key generation**\n",
    "\n",
    "The first party, Alice, generates a key pair as follows:\n",
    "\n",
    "* Generate an efficient description of a cyclic group $G\\,$ of order $q\\,$ with generator $g$.  Let $e$ represent the unit element of $G$.\n",
    "* Choose an integer $x$ randomly from $\\{1, \\ldots, q-1\\}$.\n",
    "* Compute $h := g^x$.\n",
    "* The public key consists of the values $(G,q,g,h)$. Alice publishes this public key and retains $x$ as her private key, which must be kept secret.\n",
    "* Private key: $x$"
   ]
  },
  {
   "cell_type": "code",
   "execution_count": 4,
   "metadata": {},
   "outputs": [],
   "source": [
    "#implementation of the key\n",
    "def FindGen(p):\n",
    "    fact=(p-1).factor()\n",
    "    gammali=[]\n",
    "    for i in range(0,len(fact)):\n",
    "        b=1\n",
    "        while b==1:\n",
    "            a=randint(1,p-1)\n",
    "            b=power_mod(a,(p-1)//fact[i][0],p)\n",
    "        gammali+=[power_mod(a,(p-1)//(fact[i][0]**fact[i][1]),p)]\n",
    "    gamma=prod(gammali)%p\n",
    "    return gamma\n",
    "\n",
    "def PublicPrivateKey(p): #assume here that p is a prime number\n",
    "    g=FindGen(p)\n",
    "    q=p-1\n",
    "    x=randint(1,q-1)\n",
    "    h=power_mod(g,x,p)\n",
    "    return x,(p,q,g,h)"
   ]
  },
  {
   "cell_type": "code",
   "execution_count": 8,
   "metadata": {},
   "outputs": [],
   "source": [
    "AlicePrivateKey,AlicePublicKey=PublicPrivateKey(11)\n",
    "#keep AlicePrivateKey safely\n",
    "#AlicePublicKey this is know to everyone interested"
   ]
  },
  {
   "cell_type": "markdown",
   "metadata": {},
   "source": [
    "Encoding:\n",
    "We assume that that there exists a bijection of the message space $\\mathcal{M}$ onto a subset of $G$. Hence we can identify each message $M$ with an element $m\\in G$."
   ]
  },
  {
   "cell_type": "code",
   "execution_count": 2,
   "metadata": {},
   "outputs": [],
   "source": [
    "#bijection from Mspace to a subset of G\n",
    "#we want to encode simply ASCII symbols (UTF symbols) in some particular range"
   ]
  },
  {
   "cell_type": "markdown",
   "metadata": {},
   "source": [
    "**Encryption:** (Bob sends a message to Alice)\n",
    "\n",
    "* Choose an integer $y$ randomly from $\\{1, \\ldots, q-1\\}$.\n",
    "* Compute $s := h^y$. This is called the ''shared secret''.\n",
    "* Compute $c_1 := g^y$.\n",
    "* Compute $c_2 := m \\cdot s$.\n",
    "* Bob sends the ciphertext $(c_1,c_2)$ to Alice."
   ]
  },
  {
   "cell_type": "code",
   "execution_count": 3,
   "metadata": {},
   "outputs": [],
   "source": [
    "#encryption"
   ]
  },
  {
   "cell_type": "markdown",
   "metadata": {},
   "source": [
    "**Decryption**\n",
    "\n",
    "Alice decrypts a ciphertext $(c_1,c_2)$ with her private key $x$ as follows:\n",
    "* Compute $s := c_1^x$. Since $c_1 = g^y$, $c_1^x = g^{xy} = h^y$ and thus it is the same shared secret that was used by Bob in encryption.\n",
    "* Compute $s^{-1}$, the inverse of $s$ in the group $G$. \n",
    "\n",
    "This can be computed in one of several ways. If $G$ is a subgroup of a multiplicative group of integers modulo $n$, the modular multiplicative inverse can be computed using the Extended Euclidean Algorithm. An alternative is to compute $s^{-1}$ as $c_1^{q-x}$.\n",
    "\n",
    "This is the inverse of $s$ because of Lagrange's theorem, since $s \\cdot c_1^{q-x} = g^{xy} \\cdot g^{(q-x)y} = (g^{q})^y = e^y = e$.\n",
    "* Compute $m := c_2 \\cdot s^{-1}$. This calculation produces the original message $m$, because $ c_2 = m \\cdot s$; hence $ c_2 \\cdot s^{-1} = (m \\cdot s) \\cdot s^{-1} = m \\cdot e = m$.\n",
    "* Map $m$ back to the plaintext message $M$.\n",
    "\n",
    "[Inspired by Wikipedia]\n",
    "\n",
    "\n",
    "**Exercise**\n",
    "Implement this protocol for $G=\\Phi(p)$."
   ]
  },
  {
   "cell_type": "code",
   "execution_count": 9,
   "metadata": {},
   "outputs": [],
   "source": [
    "#decryption"
   ]
  },
  {
   "cell_type": "code",
   "execution_count": 10,
   "metadata": {},
   "outputs": [],
   "source": [
    "#Safety discussion in the context of potential DLP attack on the multiplicative group."
   ]
  },
  {
   "cell_type": "code",
   "execution_count": null,
   "metadata": {},
   "outputs": [],
   "source": []
  }
 ],
 "metadata": {
  "kernelspec": {
   "display_name": "SageMath 9.2",
   "language": "sage",
   "name": "sagemath"
  },
  "language_info": {
   "codemirror_mode": {
    "name": "ipython",
    "version": 3
   },
   "file_extension": ".py",
   "mimetype": "text/x-python",
   "name": "python",
   "nbconvert_exporter": "python",
   "pygments_lexer": "ipython3",
   "version": "3.7.7"
  }
 },
 "nbformat": 4,
 "nbformat_minor": 2
}
