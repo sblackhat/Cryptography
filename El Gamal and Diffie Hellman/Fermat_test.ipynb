{
 "cells": [
  {
   "cell_type": "markdown",
   "metadata": {},
   "source": [
    "# Powers modulo n\n",
    "\n",
    "A central topic in modular arithmetic is the computation of powers modulo $n$. A fundamental fact that we use is a theorem proved by Euler.\n",
    "\n",
    "Let $\\phi(n)$ denote the cardinality of the set $\\{m: 1\\leq m < n, GCD(m,n)=1\\}$\n",
    "\n",
    "**Theorem (Euler):**\n",
    "Let $a$ be an integer and $n$ an integer such that $GCD(a,n)=1$. It follows that\n",
    "$$a^{\\phi(n)}\\equiv 1\\textrm{ mod }n.$$\n",
    "\n",
    "* The Euler function $\\phi(n)$ is multiplicative: for $GCD(a,b)=1$, we have $\\phi(ab)=\\phi(a)\\phi(b)$. \n",
    "* For a prime number $p$ and any exponent $e$ we have $\\phi(p^e)=p^{e-1}(p-1)$.\n",
    "\n",
    "These two properties completely determine the value of the function $\\phi(n)$ for any positive integer $n$."
   ]
  },
  {
   "cell_type": "code",
   "execution_count": 43,
   "metadata": {},
   "outputs": [],
   "source": [
    "#Sage function"
   ]
  },
  {
   "cell_type": "code",
   "execution_count": 42,
   "metadata": {},
   "outputs": [],
   "source": [
    "euler_phi?"
   ]
  },
  {
   "cell_type": "markdown",
   "metadata": {},
   "source": [
    "We can compute the totient function from the factorization of the integer. Here is a very compact version which works in time $O(\\sqrt(n))$ (hence subexponential in $log(n)$."
   ]
  },
  {
   "cell_type": "code",
   "execution_count": 12,
   "metadata": {},
   "outputs": [],
   "source": [
    "def Totient(n):\n",
    "    tot=n\n",
    "    i=2\n",
    "    while (i*i <= n): #this part is applicable if power p exponent in n is greater than 1\n",
    "        if (n % i == 0):#notice here that the loop will enter this part when i is a prime number\n",
    "            while (n % i ==0):\n",
    "                n/=i\n",
    "            tot-=tot/i #phi(n) = n*(1-1/p_1)*...*(1-1/p_k) where p_i are primes dividing n\n",
    "        i+=1\n",
    "    #return tot this will work for number like 2^2 or 5^3*7^3 etc.\n",
    "    if n>1: #now n is prime\n",
    "        tot-=tot/n\n",
    "    return tot        "
   ]
  },
  {
   "cell_type": "code",
   "execution_count": 21,
   "metadata": {},
   "outputs": [],
   "source": [
    "def g(n):\n",
    "    return len([i for i in range(1,n+1) if gcd(i,n)==1])==Totient(n)"
   ]
  },
  {
   "cell_type": "code",
   "execution_count": 22,
   "metadata": {},
   "outputs": [
    {
     "data": {
      "text/plain": [
       "[True,\n",
       " True,\n",
       " True,\n",
       " True,\n",
       " True,\n",
       " True,\n",
       " True,\n",
       " True,\n",
       " True,\n",
       " True,\n",
       " True,\n",
       " True,\n",
       " True,\n",
       " True,\n",
       " True,\n",
       " True,\n",
       " True,\n",
       " True,\n",
       " True,\n",
       " True]"
      ]
     },
     "execution_count": 22,
     "metadata": {},
     "output_type": "execute_result"
    }
   ],
   "source": [
    "[g(k) for k in range(1,21)]"
   ]
  },
  {
   "cell_type": "markdown",
   "metadata": {},
   "source": [
    "## Fermat primality test\n",
    "When $n=p$ is a prime the theorem of Euler becomes\n",
    "$$a^{p-1}\\equiv 1\\textrm{ mod } p$$ for any $a$ coprime with $p$. \n",
    "\n",
    "In particular, when a number $n$ satisfies $a^{n-1}\\not\\equiv 1\\textrm{ mod }n$ it is NOT a prime. Trying for several bases $a$ makes it more PROBABLE that the number $n$ is PRIME when it satisfies the congruence with $1$. We call $a$ a witness of primality for $n$. Each number which satisfies the congruenc $a^{n-1}\\equiv 1\\textrm{ mod } n$ is called a Fermat pseudoprime."
   ]
  },
  {
   "cell_type": "code",
   "execution_count": 24,
   "metadata": {},
   "outputs": [],
   "source": [
    "def Fermat_test(a,n):\n",
    "    d=gcd(a,n)\n",
    "    if (d==1):\n",
    "        a0=1\n",
    "        for i in range(1,n):\n",
    "            a0=(a0*a) % n\n",
    "        \n",
    "        if (a0 == 1):\n",
    "            return \"Not conclusive\"\n",
    "        else:\n",
    "            return \"This number is a not prime\",a0\n",
    "    else:\n",
    "        return \"Numbers a and n are not coprime\",d\n",
    "\n",
    "def power_fast(x, n):\n",
    "    if n < 0:\n",
    "        x = x^(-1)\n",
    "        n = -n\n",
    "    if n == 0:\n",
    "        return x*(x^(-1))\n",
    "    y = 1\n",
    "    while n > 1:\n",
    "        if n % 2 == 0:\n",
    "            x = x * x\n",
    "            n = n / 2;\n",
    "        else:\n",
    "            y = x * y;\n",
    "            x = x * x;\n",
    "            n = (n - 1) / 2\n",
    "    return x * y\n",
    "\n",
    "def Fermat_test2(a,n):\n",
    "    d=gcd(a,n)\n",
    "    if (d==1):\n",
    "        a0=power_fast(a,n-1) % n\n",
    "        if (a0 == 1):\n",
    "            return \"Not conclusive\"\n",
    "        else:\n",
    "            return \"This number is a not prime\",a0\n",
    "    else:\n",
    "        return \"Numbers a and n are not coprime\",d\n",
    "\n",
    "def Fermat_test3(a,n):\n",
    "    d=gcd(a,n)\n",
    "    if (d==1):\n",
    "        a0=power_mod(a,n-1,n)\n",
    "        if (a0 == 1):\n",
    "            return \"Not conclusive\"\n",
    "        else:\n",
    "            return \"This number is a not prime\",a0\n",
    "    else:\n",
    "        return \"Numbers a and n are not coprime\",d"
   ]
  },
  {
   "cell_type": "code",
   "execution_count": 46,
   "metadata": {},
   "outputs": [
    {
     "name": "stdout",
     "output_type": "stream",
     "text": [
      "The slowest run took 725.18 times longer than the fastest. This could mean that an intermediate result is being cached.\n",
      "1000 loops, best of 3: 172 µs per loop\n"
     ]
    }
   ],
   "source": [
    "#%timeit Fermat_test(2,12345671)\n",
    "#%timeit Fermat_test2(2,12345671)\n",
    "%timeit Fermat_test3(2,4195899989 * 430545494750380343)"
   ]
  },
  {
   "cell_type": "code",
   "execution_count": 25,
   "metadata": {},
   "outputs": [
    {
     "data": {
      "text/plain": [
       "('This number is a not prime', 1285590206370552371890532406)"
      ]
     },
     "execution_count": 25,
     "metadata": {},
     "output_type": "execute_result"
    }
   ],
   "source": [
    "Fermat_test3(2,4195899989 * 430545494750380343)"
   ]
  },
  {
   "cell_type": "code",
   "execution_count": 27,
   "metadata": {},
   "outputs": [
    {
     "name": "stdout",
     "output_type": "stream",
     "text": [
      "233\n",
      "('This number is a not prime', 1175559587092550006056444500045193118646012198891670544325903412276665441460)\n"
     ]
    }
   ],
   "source": [
    "print Primes()[50]\n",
    "print Fermat_test3(3,2**Primes()[53]-1)"
   ]
  },
  {
   "cell_type": "code",
   "execution_count": 28,
   "metadata": {},
   "outputs": [
    {
     "data": {
      "text/plain": [
       "3618502788666131106986593281521497120414687020801267626233049500247285301247"
      ]
     },
     "execution_count": 28,
     "metadata": {},
     "output_type": "execute_result"
    }
   ],
   "source": [
    "2**Primes()[53]-1"
   ]
  },
  {
   "cell_type": "code",
   "execution_count": 30,
   "metadata": {},
   "outputs": [
    {
     "data": {
      "text/plain": [
       "1399 * 135607 * 622577 * 116868129879077600270344856324766260085066532853492178431"
      ]
     },
     "execution_count": 30,
     "metadata": {},
     "output_type": "execute_result"
    }
   ],
   "source": [
    "(2**Primes()[50]-1).factor()"
   ]
  },
  {
   "cell_type": "code",
   "execution_count": null,
   "metadata": {},
   "outputs": [],
   "source": []
  }
 ],
 "metadata": {
  "kernelspec": {
   "display_name": "SageMath 8.9",
   "language": "sage",
   "name": "sagemath"
  },
  "language_info": {
   "codemirror_mode": {
    "name": "ipython",
    "version": 2
   },
   "file_extension": ".py",
   "mimetype": "text/x-python",
   "name": "python",
   "nbconvert_exporter": "python",
   "pygments_lexer": "ipython2",
   "version": "2.7.15"
  }
 },
 "nbformat": 4,
 "nbformat_minor": 2
}
