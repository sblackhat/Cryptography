{
 "cells": [
  {
   "cell_type": "markdown",
   "metadata": {},
   "source": [
    "# Extended Euclid algorithm and its applications\n",
    "We are going to study in this file how to solve the following problem:\n",
    "\n",
    "Given two integers $m,n$, find a triple of integers $x,y$ and $c\\neq 0$ such that\n",
    "$$xm+yn=c.$$"
   ]
  },
  {
   "cell_type": "markdown",
   "metadata": {},
   "source": [
    "**Theorem:**\n",
    "Let $m,n$ be given integers. For any pair of integers $x,y$ the number $xm+yn$ is a multiple of the greatest common divisor $GCD(m,n)$ of $m$ and $n$."
   ]
  },
  {
   "cell_type": "markdown",
   "metadata": {},
   "source": [
    "## Euclids algorithm\n",
    "\n",
    "**Theorem:**\n",
    "For any pair of integers $m,n$ it follows that\n",
    "$$GCD(m,n)=GCD(m,n-m)$$\n",
    "\n",
    "For two natural numbers we perform the integral division with remainder m=q*n+r. The last non-zero remainder (up to sign) is the greates common divisor of both initial numbers."
   ]
  },
  {
   "cell_type": "code",
   "execution_count": 3,
   "metadata": {},
   "outputs": [],
   "source": [
    "def Euclidean_Algorithm(a,b):\n",
    "    dividend = a\n",
    "    divisor = b\n",
    "    while divisor != 0:   # sign != means that the numbers are not equal\n",
    "        quotient = dividend // divisor #(integral division with no remainder)\n",
    "        remainder = dividend % divisor #(remainder of the division)\n",
    "        print \"%d = %d (%d) + %d\"%(dividend, quotient, divisor, remainder)\n",
    "        dividend = divisor  \n",
    "        divisor = remainder"
   ]
  },
  {
   "cell_type": "code",
   "execution_count": 4,
   "metadata": {},
   "outputs": [
    {
     "name": "stdout",
     "output_type": "stream",
     "text": [
      "11 = 3 (3) + 2\n",
      "3 = 1 (2) + 1\n",
      "2 = 2 (1) + 0\n"
     ]
    }
   ],
   "source": [
    "Euclidean_Algorithm(11,3)"
   ]
  },
  {
   "cell_type": "code",
   "execution_count": 5,
   "metadata": {},
   "outputs": [
    {
     "name": "stdout",
     "output_type": "stream",
     "text": [
      "-30 = 1 (-25) + -5\n",
      "-25 = 5 (-5) + 0\n"
     ]
    }
   ],
   "source": [
    "Euclidean_Algorithm(-30,-25)"
   ]
  },
  {
   "cell_type": "code",
   "execution_count": 10,
   "metadata": {},
   "outputs": [],
   "source": [
    "def GCD(a,b):\n",
    "    dividend = a\n",
    "    divisor = b\n",
    "    while divisor != 0:   # sign != means that the numbers are not equal\n",
    "        quotient = dividend // divisor #(integral division with no remainder)\n",
    "        remainder = dividend % divisor #(remainder of the division)\n",
    "        print \"%d = %d (%d) + %d\"%(dividend, quotient, divisor, remainder)\n",
    "        dividend = divisor  \n",
    "        divisor = remainder\n",
    "    return abs(dividend)"
   ]
  },
  {
   "cell_type": "code",
   "execution_count": 16,
   "metadata": {},
   "outputs": [
    {
     "name": "stdout",
     "output_type": "stream",
     "text": [
      "101 = 0 (999) + 101\n",
      "999 = 9 (101) + 90\n",
      "101 = 1 (90) + 11\n",
      "90 = 8 (11) + 2\n",
      "11 = 5 (2) + 1\n",
      "2 = 2 (1) + 0\n"
     ]
    },
    {
     "data": {
      "text/plain": [
       "1"
      ]
     },
     "execution_count": 16,
     "metadata": {},
     "output_type": "execute_result"
    }
   ],
   "source": [
    "GCD(101,999)"
   ]
  },
  {
   "cell_type": "markdown",
   "metadata": {},
   "source": [
    "$F_0=0, F_1=1$ and $F_{n}=F_{n-1}+F_{n-2}$, Fibonacci sequence\n",
    "\n",
    "In particular, $GCD(F_{n},F_{n-1}) = GCD(F_{n-2},F_{n-1})=...=GCD(1,0)=1$\n",
    "\n",
    "But $F_n\\sim 1.6^n$"
   ]
  },
  {
   "cell_type": "code",
   "execution_count": 13,
   "metadata": {},
   "outputs": [
    {
     "name": "stdout",
     "output_type": "stream",
     "text": [
      "832040 = 1 (514229) + 317811\n",
      "514229 = 1 (317811) + 196418\n",
      "317811 = 1 (196418) + 121393\n",
      "196418 = 1 (121393) + 75025\n",
      "121393 = 1 (75025) + 46368\n",
      "75025 = 1 (46368) + 28657\n",
      "46368 = 1 (28657) + 17711\n",
      "28657 = 1 (17711) + 10946\n",
      "17711 = 1 (10946) + 6765\n",
      "10946 = 1 (6765) + 4181\n",
      "6765 = 1 (4181) + 2584\n",
      "4181 = 1 (2584) + 1597\n",
      "2584 = 1 (1597) + 987\n",
      "1597 = 1 (987) + 610\n",
      "987 = 1 (610) + 377\n",
      "610 = 1 (377) + 233\n",
      "377 = 1 (233) + 144\n",
      "233 = 1 (144) + 89\n",
      "144 = 1 (89) + 55\n",
      "89 = 1 (55) + 34\n",
      "55 = 1 (34) + 21\n",
      "34 = 1 (21) + 13\n",
      "21 = 1 (13) + 8\n",
      "13 = 1 (8) + 5\n",
      "8 = 1 (5) + 3\n",
      "5 = 1 (3) + 2\n",
      "3 = 1 (2) + 1\n",
      "2 = 2 (1) + 0\n"
     ]
    },
    {
     "data": {
      "text/plain": [
       "1"
      ]
     },
     "execution_count": 13,
     "metadata": {},
     "output_type": "execute_result"
    }
   ],
   "source": [
    "GCD(fibonacci(30),fibonacci(29)) #Why it takes so many steps to perform this computation for two consecutive Fibonacci numbers?"
   ]
  },
  {
   "cell_type": "code",
   "execution_count": 14,
   "metadata": {},
   "outputs": [
    {
     "data": {
      "text/plain": [
       "514229"
      ]
     },
     "execution_count": 14,
     "metadata": {},
     "output_type": "execute_result"
    }
   ],
   "source": [
    "fibonacci(29)"
   ]
  },
  {
   "cell_type": "code",
   "execution_count": 15,
   "metadata": {},
   "outputs": [
    {
     "name": "stdout",
     "output_type": "stream",
     "text": [
      "832020 = 1 (522040) + 309980\n",
      "522040 = 1 (309980) + 212060\n",
      "309980 = 1 (212060) + 97920\n",
      "212060 = 2 (97920) + 16220\n",
      "97920 = 6 (16220) + 600\n",
      "16220 = 27 (600) + 20\n",
      "600 = 30 (20) + 0\n"
     ]
    },
    {
     "data": {
      "text/plain": [
       "20"
      ]
     },
     "execution_count": 15,
     "metadata": {},
     "output_type": "execute_result"
    }
   ],
   "source": [
    "GCD(832020,522040)"
   ]
  },
  {
   "cell_type": "code",
   "execution_count": 7,
   "metadata": {},
   "outputs": [],
   "source": [
    "def GCD(a,b): #GCD function with a multiple substitution (compare the number of lines of code!)\n",
    "    while b:   \n",
    "        a, b = b, a % b\n",
    "    return abs(a)"
   ]
  },
  {
   "cell_type": "markdown",
   "metadata": {},
   "source": [
    "## Extended Euclid algorithm"
   ]
  },
  {
   "cell_type": "markdown",
   "metadata": {},
   "source": [
    "We are going now to implement the algorithm which computes integers $x,y$ such that\n",
    "$xm+yn=GCD(m,n)$. This is enough to solve the original problem for the multiple of $GCD(m,n)$ as well."
   ]
  },
  {
   "cell_type": "code",
   "execution_count": 17,
   "metadata": {},
   "outputs": [],
   "source": [
    "def ExtendedGCD(a,b):\n",
    "    r,r1=a,b\n",
    "    s,s1=1,0 #s*a+t*b == a\n",
    "    t,t1=0,1 #s1*a+t1*b == b\n",
    "    while not(r1==0):\n",
    "        q,r2=r//r1,r % r1\n",
    "        r,s,t,r1,s1,t1=r1,s1,t1,r2,s-s1*q,t-t1*q\n",
    "    d=r\n",
    "    return d,s,t #s*a+t*b=d, d=GCD(a,b)"
   ]
  },
  {
   "cell_type": "code",
   "execution_count": 18,
   "metadata": {},
   "outputs": [
    {
     "data": {
      "text/plain": [
       "(1, 33, -32)"
      ]
     },
     "execution_count": 18,
     "metadata": {},
     "output_type": "execute_result"
    }
   ],
   "source": [
    "ExtendedGCD(129,133)"
   ]
  },
  {
   "cell_type": "code",
   "execution_count": 19,
   "metadata": {
    "scrolled": false
   },
   "outputs": [
    {
     "data": {
      "text/plain": [
       "1"
      ]
     },
     "execution_count": 19,
     "metadata": {},
     "output_type": "execute_result"
    }
   ],
   "source": [
    "129*33+133*(-32)"
   ]
  },
  {
   "cell_type": "code",
   "execution_count": 20,
   "metadata": {},
   "outputs": [
    {
     "data": {
      "text/plain": [
       "[(8, 21), (9, 34), (10, 55), (11, 89)]"
      ]
     },
     "execution_count": 20,
     "metadata": {},
     "output_type": "execute_result"
    }
   ],
   "source": [
    "[(k,fibonacci(k)) for k in [8..11]]"
   ]
  },
  {
   "cell_type": "code",
   "execution_count": 19,
   "metadata": {},
   "outputs": [
    {
     "data": {
      "text/plain": [
       "(1, 34, -21)"
      ]
     },
     "execution_count": 19,
     "metadata": {},
     "output_type": "execute_result"
    }
   ],
   "source": [
    "ExtendedGCD(fibonacci(10),fibonacci(11))"
   ]
  },
  {
   "cell_type": "code",
   "execution_count": 23,
   "metadata": {},
   "outputs": [
    {
     "data": {
      "text/plain": [
       "(1, -8, 13)"
      ]
     },
     "execution_count": 23,
     "metadata": {},
     "output_type": "execute_result"
    }
   ],
   "source": [
    "ExtendedGCD(fibonacci(9),fibonacci(8))"
   ]
  },
  {
   "cell_type": "code",
   "execution_count": 23,
   "metadata": {},
   "outputs": [
    {
     "data": {
      "text/plain": [
       "True"
      ]
     },
     "execution_count": 23,
     "metadata": {},
     "output_type": "execute_result"
    }
   ],
   "source": [
    "ExtendedGCD(fibonacci(10),fibonacci(11))==(1,fibonacci(9),-fibonacci(8)) #why is it true?? (prove it in general!)"
   ]
  },
  {
   "cell_type": "code",
   "execution_count": 21,
   "metadata": {},
   "outputs": [],
   "source": [
    "def Conjecture(n):\n",
    "    return ExtendedGCD(fibonacci(n),fibonacci(n+1))==(1,(-1)^(n)*fibonacci(n-1),(-1)^(n+1)*fibonacci(n-2))"
   ]
  },
  {
   "cell_type": "code",
   "execution_count": 23,
   "metadata": {},
   "outputs": [
    {
     "data": {
      "text/plain": [
       "[True,\n",
       " True,\n",
       " True,\n",
       " True,\n",
       " True,\n",
       " True,\n",
       " True,\n",
       " True,\n",
       " True,\n",
       " True,\n",
       " True,\n",
       " True,\n",
       " True,\n",
       " True,\n",
       " True,\n",
       " True,\n",
       " True,\n",
       " True,\n",
       " True,\n",
       " True]"
      ]
     },
     "execution_count": 23,
     "metadata": {},
     "output_type": "execute_result"
    }
   ],
   "source": [
    "[Conjecture(n) for n in [1..20]]"
   ]
  },
  {
   "cell_type": "markdown",
   "metadata": {},
   "source": [
    "$(-1)^n\\cdot F_{n-1}\\cdot F_{n}+(-1)^{n+1}\\cdot F_{n+1}\\cdot F_{n-2}=1$\n",
    "\n",
    "$F_{n-1}\\cdot F_{n}- F_{n+1}\\cdot F_{n-2}=(-1)^n$ (this is our conjecture for all $n$ !)"
   ]
  },
  {
   "cell_type": "markdown",
   "metadata": {},
   "source": [
    "To prove our conjecture:\n",
    "\n",
    "$$\\forall_{n\\in\\mathbb{N}}\\quad F_{n-1}\\cdot F_{n}- F_{n+1}\\cdot F_{n-2}=(-1)^n$$\n",
    "1. Prove first the following equality of matrices:\n",
    "$\\left(\\begin{array}{cc} 1 & 1 \\\\ 1 & 0\\end{array}\\right)^n=\\left(\\begin{array}{cc} F_{n+1} & F_{n} \\\\ F_{n}  & F_{n-1}\\end{array}\\right)$\n",
    "\n",
    "2. Apply the determinant to both sides of the equation.\n",
    "3. Use the definition of the Fibonacci sequence and point 2. to deduce the conjecture."
   ]
  },
  {
   "cell_type": "code",
   "execution_count": 24,
   "metadata": {},
   "outputs": [],
   "source": [
    "m=matrix(2,[1,1,1,0])"
   ]
  },
  {
   "cell_type": "code",
   "execution_count": 4,
   "metadata": {},
   "outputs": [
    {
     "data": {
      "text/plain": [
       "0"
      ]
     },
     "execution_count": 4,
     "metadata": {},
     "output_type": "execute_result"
    }
   ],
   "source": [
    "g=lambda n: fibonacci(n-1)*fibonacci(n)-fibonacci(n+1)*fibonacci(n-2)-(-1)^n\n",
    "g(13)"
   ]
  },
  {
   "cell_type": "markdown",
   "metadata": {},
   "source": [
    "## Multiplicative inverse mod n\n",
    "We use now the extended Euclid algorithm to find a multiplicative inverse modulo $n$.\n",
    "\n",
    "On input, assume we have two integers $a,n$ which are coprime ($GCD(a,n)=1$).\n",
    "\n",
    "Compute on output an integer $b$ such that $ab\\equiv 1\\textrm{ mod }n$. \n",
    "\n",
    "We can do it using the extended Euclid algorithm: we find $x,y$ such that $xa+yn=1$ and take $b=x$."
   ]
  },
  {
   "cell_type": "code",
   "execution_count": null,
   "metadata": {},
   "outputs": [],
   "source": [
    "#a=17,n=23, what is b (1<=b<=22) such that (a*b)%n == 1 ???? here the b is unique!"
   ]
  },
  {
   "cell_type": "code",
   "execution_count": 26,
   "metadata": {},
   "outputs": [],
   "source": [
    "def MultInverse(a,n):\n",
    "    d,inv,_=ExtendedGCD(a,n)\n",
    "    if d==1:\n",
    "        if n==1:\n",
    "            return 1 #for compatibility\n",
    "        return inv%n\n",
    "    else:\n",
    "        raise NameError('Numbers '+str(a)+' and '+str(n)+' are not coprime.')"
   ]
  },
  {
   "cell_type": "code",
   "execution_count": 28,
   "metadata": {},
   "outputs": [
    {
     "data": {
      "text/plain": [
       "19"
      ]
     },
     "execution_count": 28,
     "metadata": {},
     "output_type": "execute_result"
    }
   ],
   "source": [
    "#computation\n",
    "MultInverse(17,23)"
   ]
  },
  {
   "cell_type": "code",
   "execution_count": 29,
   "metadata": {},
   "outputs": [
    {
     "data": {
      "text/plain": [
       "1"
      ]
     },
     "execution_count": 29,
     "metadata": {},
     "output_type": "execute_result"
    }
   ],
   "source": [
    "#check\n",
    "(17*19)%23"
   ]
  },
  {
   "cell_type": "code",
   "execution_count": null,
   "metadata": {},
   "outputs": [],
   "source": []
  }
 ],
 "metadata": {
  "kernelspec": {
   "display_name": "SageMath 8.9",
   "language": "sage",
   "name": "sagemath"
  },
  "language_info": {
   "codemirror_mode": {
    "name": "ipython",
    "version": 2
   },
   "file_extension": ".py",
   "mimetype": "text/x-python",
   "name": "python",
   "nbconvert_exporter": "python",
   "pygments_lexer": "ipython2",
   "version": "2.7.15"
  }
 },
 "nbformat": 4,
 "nbformat_minor": 2
}
