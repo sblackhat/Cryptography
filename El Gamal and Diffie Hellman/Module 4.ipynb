{
 "cells": [
  {
   "cell_type": "markdown",
   "metadata": {},
   "source": [
    "# Module 4\n",
    "\n",
    "Score rules. Please solve exercises worth at most 30 pts. For each correct execution you will receive an assigned number of points. Its sum will determine the final score.\n",
    "\n",
    "\n",
    "1. Implement Diffie-Hellman key exchange on an ellptic curve (missing: 0 pts, implementation up to 10 pts)\n",
    "2. Implement a simple block cipher (missing: 0 pts, implementation up to 10 pts)\n",
    "3. Design a hybrid system (missing: 0 pts, implementation up to 10 pts)"
   ]
  },
  {
   "cell_type": "code",
   "execution_count": 5,
   "metadata": {},
   "outputs": [],
   "source": [
    "import random"
   ]
  },
  {
   "cell_type": "markdown",
   "metadata": {},
   "source": [
    "# 1. Implement Diffie-Hellman key exchange on an ellptic curve\n",
    "Input: \n",
    "1. An elliptic curve $E:y^2=x^3+Ax+B$ over a finite field $\\mathbb{F}_{p}$, $p$-prime number.\n",
    "2. A point $P$ of order $q$ in $E(\\mathbb{F}_{p})$.\n",
    "\n",
    "Output: A shared secret point $Q$ common to Alice and Bob which is $Q=kP$, $k$ is secretely generated in the followin process:\n",
    "\n",
    "Alice generates a random multiple $P_{A}=xP$ of the point $P$, $0<x<q$\n",
    "\n",
    "Bob generates a random multiple $P_{B}=yP$ of the point $P$, $0<y<q$.\n",
    "\n",
    "They exchange the points $P_{A}$ and $P_{B}$ and generate the multiple $Q=kP$, where $k=xy$.\n",
    "\n",
    "Emulate such an exchange between Alice and Bob.\n",
    "\n",
    "Generate a sequence of $128$ bits out of the point $Q$. This will be the key used in algorithm $3$."
   ]
  },
  {
   "cell_type": "code",
   "execution_count": 6,
   "metadata": {},
   "outputs": [],
   "source": [
    "def opp(px, py, P):\n",
    "    return [px, -py % P]\n",
    "\n",
    "def egcd(a, b):\n",
    "    s0, s1, t0, t1 = 1, 0, 0, 1\n",
    "    while b > 0:\n",
    "        q, r = divmod(a, b)\n",
    "        a, b = b, r\n",
    "        s0, s1, t0, t1 = s1, s0 - q * s1, t1, t0 - q * t1\n",
    "        pass\n",
    "    return [s0, t0, a]\n",
    "\n",
    "def inv(n, q):\n",
    "    return egcd(n, q)[0] % q\n",
    "\n",
    "def invPoint(EC, P):\n",
    "    ret [P[0], egcd(P[1], EC[2])[0] % EC[2]]\n",
    "\n",
    "def add(A, B, p, p1x, p1y, p2x, p2y):\n",
    "        if p1x == 0 and p1y == 0: return [p2x, p2y]\n",
    "        if p2x == 0 and p2y == 0: return [p1x, p1y]\n",
    "        if p1x == p2x and (p1y != p2y or p1y == 0):\n",
    "            return [0, 0]\n",
    "        if p1x == p2x:\n",
    "            l = (3 * p1x * p1x + A) * inv(2 * p1y, p) % p\n",
    "            pass\n",
    "        else:\n",
    "            l = (p2y - p1y) * inv(p2x - p1x, p) % p\n",
    "            pass\n",
    "        x = (l * l - p1x - p2x) % p\n",
    "        y = (l * (p1x - x) - p1y) % p\n",
    "        return [x,y]\n",
    "    \n",
    "def order(EC, P):\n",
    "    for i in range(1, EC[2] + 1):\n",
    "        if MultPoint(EC, P, i) == [0, 0]:\n",
    "            return i\n",
    "        pass\n",
    "    raise Exception(\"Invalid order\")\n",
    "\n",
    "def MultPoint(EC,P,n):\n",
    "    res = [0,0]\n",
    "    aux = P\n",
    "    count = abs(n)\n",
    "    while 0 < count:\n",
    "        if count & 1 == 1:\n",
    "            res = add(EC[0], EC[1], EC[2], res[0], res[1], aux[0], aux[1])\n",
    "            pass\n",
    "        count = count >> 1\n",
    "        aux = add(EC[0], EC[1], EC[2], aux[0], aux[1], aux[0], aux[1])\n",
    "        pass\n",
    "    if(n < 0):\n",
    "        res = opp(res[0], res[1], EC[2])\n",
    "    return res\n",
    "\n",
    "def generateRandomMultiplePoint(EC, P):\n",
    "    q = order(EC, P)\n",
    "    n = random.randint(1, q-1)\n",
    "    return MultPoint(EC, P, n), n\n",
    "\n",
    "def GetQ(EC, I):\n",
    "    return MultPoint(EC, I[2], I[1])\n",
    "    pass\n",
    "\n",
    "def DiffieHellmanExchange(EC, P):\n",
    "    #emulate this action with prints and return an actual point on the selected curve\n",
    "    # Alice structure: PA, x, PB\n",
    "    # Alice generates PA\n",
    "    Alice = [[0,0], 0, [0,0]]\n",
    "    Alice[0], Alice[1] = generateRandomMultiplePoint(EC, P)\n",
    "    # Bob structure: PB, y, PA\n",
    "    # Bob generates PB\n",
    "    Bob = [[0,0], 0, [0,0]]\n",
    "    Bob[0], Bob[1] = generateRandomMultiplePoint(EC, P)\n",
    "    # Alice send PA to Bob\n",
    "    Bob[2] = Alice[0]\n",
    "    # Bob send PB to Alice\n",
    "    Alice[2] = Bob[0]\n",
    "    # Alice and Bob get Q\n",
    "    QAlice = GetQ(EC, Alice)\n",
    "    QBob = GetQ(EC, Bob)\n",
    "    pass"
   ]
  },
  {
   "cell_type": "markdown",
   "metadata": {},
   "source": [
    "# 2. Implement a simple block cipher\n",
    "\n",
    "Design a simple block cipher which operates on a block of $32$ bits, called $B$ and in each round of the cipher performs the following actions:\n",
    "\n",
    "A) SBox(B): SBox function can be any reversible function which transforms the block $B$ into another block $B'$ with 32 blocks.\n",
    "\n",
    "B) RoundXOR(B,K): Applying XOR function to the block $B$ with the round key $K$.\n",
    "\n",
    "C) Perm(B): Apply a permutation function which swaps the bits in the block $B$ in the following way: divide the block into four blocks of $8$ bits and then label the subblocks as $(1,2,3,4)$. Produce a new block $B'$ which has the structure $(3,1,4,2)$\n",
    "\n",
    "Now your cipher should operate on the input block $B$ as follows: "
   ]
  },
  {
   "cell_type": "markdown",
   "metadata": {},
   "source": [
    "1. Produce round keys $K_1, K_2, K_3, K_4$ of size $32$ bits from the $128$ bit key generated in the algorithm"
   ]
  },
  {
   "cell_type": "code",
   "execution_count": 7,
   "metadata": {},
   "outputs": [],
   "source": [
    "def ProduceRoundKey(inpK): #inpK has 128 bits, the output should be a list of four 32 bit keys\n",
    "    ret = []\n",
    "    aux = list(str(inpK))\n",
    "    for i in aux:\n",
    "        ret.append(i)\n",
    "    return [ret[0:(int(len(aux)*0.25))], ret[(int(len(aux)*0.25)):(int(len(aux)*0.5))],\n",
    "             ret[(int(len(aux)*0.5)):(int(len(aux)*0.75))], ret[(int(len(aux)*0.75)):(int(len(aux)))]]\n",
    "    pass\n",
    "\n",
    "def SBox(B):\n",
    "    ret = []\n",
    "    aux = [int(x) for x in str(B)] \n",
    "    for i in aux:\n",
    "        ret.append((i+1)%10)\n",
    "    return ''.join(ret)\n",
    "    pass\n",
    "\n",
    "def InvSBox(state):\n",
    "    ret = []\n",
    "    aux = list(state)\n",
    "    for bit in aux:\n",
    "        ret.append((i-1)%10)\n",
    "    return ''.join(ret)\n",
    "    pass\n",
    "\n",
    "def RoundXOR(state,K):\n",
    "    K_strings = [str(integer) for integer in K]\n",
    "    K_string = \"\".join(K_strings)\n",
    "    print(state)\n",
    "    print(K_string)\n",
    "    return state^int(K_string)\n",
    "    pass\n",
    "\n",
    "def Perm(state):\n",
    "    #(3,1,4,2)\n",
    "    aux1 = list(state)\n",
    "    aux2 = [aux1[0:8], aux1[8,16], aux1[16, 24], aux1[24:32]]\n",
    "    perm = [aux2[2], aux2[0], aux2[3], aux2[1]]\n",
    "    return perm\n",
    "    pass\n",
    "\n",
    "def InvPerm(state):\n",
    "    aux1 = list(state)\n",
    "    aux2 = [aux1[0:8], aux1[8,16], aux1[16, 24], aux1[24:32]]\n",
    "    invPerm = [aux2[1], aux2[3], aux2[0], aux2[2]]\n",
    "    return invPerm\n",
    "    pass\n",
    "    "
   ]
  },
  {
   "cell_type": "markdown",
   "metadata": {},
   "source": [
    "2. Coding procedure"
   ]
  },
  {
   "cell_type": "code",
   "execution_count": 8,
   "metadata": {},
   "outputs": [],
   "source": [
    "def Encode(B,K): #K is a list of four 32 bit keys produced from the 128 bit key from alg. 1\n",
    "    state=B\n",
    "    for i in [0,1,2]:\n",
    "        state=RoundXOR(state,K[i])\n",
    "        state=SBox(state)\n",
    "        state=Perm(state)\n",
    "\n",
    "    state=RoundXOR(state,K[3])\n",
    "    return state"
   ]
  },
  {
   "cell_type": "markdown",
   "metadata": {},
   "source": [
    "2. Decoding procedure\n",
    "\n",
    "Implement `InvPerm`, `InvSBox` - inverses of the appropriate functions."
   ]
  },
  {
   "cell_type": "code",
   "execution_count": 9,
   "metadata": {},
   "outputs": [],
   "source": [
    "def Decode(C,K):\n",
    "    state=C\n",
    "    state=RoundXOR(state,K[3])\n",
    "\n",
    "    for i in [2,1,0]:\n",
    "        state=InvPerm(state)\n",
    "        state=InvSBox(state)\n",
    "        state=RoundXOR(state,K[i])\n",
    "    return state"
   ]
  },
  {
   "cell_type": "markdown",
   "metadata": {},
   "source": [
    "# 3. Design a hybrid system\n",
    "\n",
    "Design a system in which the two parties Alice and Bob generate a common $128$ bit key `inpK` using procedure 1. Next, they establish a communication protocol in which they send blocks of $32$ bit size which are encoded using the procedure `Encode(B,K)` where `K` is a list of four $32$ bit blocks produced from `inpK`. \n",
    "\n",
    "Alice is encoding a message to Bob with `C=Encode(B,K)` and Bob decrypts it using `B=Decode(C,K)`. \n",
    "\n",
    "Emulate this system with prints and show how the message is being transferred.\n",
    "\n",
    "You can allow the user to send text on the input, process this plaintext into chunks of size $32$ bits, encrypt it, send it, decode it and reconstruct the plaintext from the decoded chunks (design your own procedure for that).\n",
    "\n"
   ]
  },
  {
   "cell_type": "code",
   "execution_count": 10,
   "metadata": {},
   "outputs": [
    {
     "name": "stdout",
     "output_type": "stream",
     "text": [
      "Input: 224483935309124472368133306878661078574\n",
      "Keys: \n",
      "[['2', '2', '4', '4', '8', '3', '9', '3', '5'], ['3', '0', '9', '1', '2', '4', '4', '7', '2', '3'], ['6', '8', '1', '3', '3', '3', '0', '6', '8', '7'], ['8', '6', '6', '1', '0', '7', '8', '5', '7', '4']]\n",
      "Block before encoding: \n",
      "111768771\n",
      "Alice is encrypting the plaintext\n",
      "111768771\n",
      "224483935\n"
     ]
    },
    {
     "ename": "TypeError",
     "evalue": "sequence item 0: expected str instance, int found",
     "output_type": "error",
     "traceback": [
      "\u001b[0;31m---------------------------------------------------------------------------\u001b[0m",
      "\u001b[0;31mTypeError\u001b[0m                                 Traceback (most recent call last)",
      "\u001b[0;32m<ipython-input-10-2406c7cf6127>\u001b[0m in \u001b[0;36m<module>\u001b[0;34m\u001b[0m\n\u001b[1;32m      8\u001b[0m \u001b[0mprint\u001b[0m\u001b[0;34m(\u001b[0m\u001b[0mB\u001b[0m\u001b[0;34m)\u001b[0m\u001b[0;34m\u001b[0m\u001b[0;34m\u001b[0m\u001b[0m\n\u001b[1;32m      9\u001b[0m \u001b[0mprint\u001b[0m\u001b[0;34m(\u001b[0m\u001b[0;34m\"Alice is encrypting the plaintext\"\u001b[0m\u001b[0;34m)\u001b[0m\u001b[0;34m\u001b[0m\u001b[0;34m\u001b[0m\u001b[0m\n\u001b[0;32m---> 10\u001b[0;31m \u001b[0mC\u001b[0m \u001b[0;34m=\u001b[0m \u001b[0mEncode\u001b[0m\u001b[0;34m(\u001b[0m\u001b[0mB\u001b[0m\u001b[0;34m,\u001b[0m \u001b[0mK\u001b[0m\u001b[0;34m)\u001b[0m\u001b[0;34m\u001b[0m\u001b[0;34m\u001b[0m\u001b[0m\n\u001b[0m\u001b[1;32m     11\u001b[0m \u001b[0mprint\u001b[0m\u001b[0;34m(\u001b[0m\u001b[0;34m\"Encoded plaintext: \"\u001b[0m\u001b[0;34m)\u001b[0m\u001b[0;34m\u001b[0m\u001b[0;34m\u001b[0m\u001b[0m\n\u001b[1;32m     12\u001b[0m \u001b[0mprint\u001b[0m\u001b[0;34m(\u001b[0m\u001b[0mC\u001b[0m\u001b[0;34m)\u001b[0m\u001b[0;34m\u001b[0m\u001b[0;34m\u001b[0m\u001b[0m\n",
      "\u001b[0;32m<ipython-input-8-9894c697e497>\u001b[0m in \u001b[0;36mEncode\u001b[0;34m(B, K)\u001b[0m\n\u001b[1;32m      3\u001b[0m     \u001b[0;32mfor\u001b[0m \u001b[0mi\u001b[0m \u001b[0;32min\u001b[0m \u001b[0;34m[\u001b[0m\u001b[0;36m0\u001b[0m\u001b[0;34m,\u001b[0m\u001b[0;36m1\u001b[0m\u001b[0;34m,\u001b[0m\u001b[0;36m2\u001b[0m\u001b[0;34m]\u001b[0m\u001b[0;34m:\u001b[0m\u001b[0;34m\u001b[0m\u001b[0;34m\u001b[0m\u001b[0m\n\u001b[1;32m      4\u001b[0m         \u001b[0mstate\u001b[0m\u001b[0;34m=\u001b[0m\u001b[0mRoundXOR\u001b[0m\u001b[0;34m(\u001b[0m\u001b[0mstate\u001b[0m\u001b[0;34m,\u001b[0m\u001b[0mK\u001b[0m\u001b[0;34m[\u001b[0m\u001b[0mi\u001b[0m\u001b[0;34m]\u001b[0m\u001b[0;34m)\u001b[0m\u001b[0;34m\u001b[0m\u001b[0;34m\u001b[0m\u001b[0m\n\u001b[0;32m----> 5\u001b[0;31m         \u001b[0mstate\u001b[0m\u001b[0;34m=\u001b[0m\u001b[0mSBox\u001b[0m\u001b[0;34m(\u001b[0m\u001b[0mstate\u001b[0m\u001b[0;34m)\u001b[0m\u001b[0;34m\u001b[0m\u001b[0;34m\u001b[0m\u001b[0m\n\u001b[0m\u001b[1;32m      6\u001b[0m         \u001b[0mstate\u001b[0m\u001b[0;34m=\u001b[0m\u001b[0mPerm\u001b[0m\u001b[0;34m(\u001b[0m\u001b[0mstate\u001b[0m\u001b[0;34m)\u001b[0m\u001b[0;34m\u001b[0m\u001b[0;34m\u001b[0m\u001b[0m\n\u001b[1;32m      7\u001b[0m \u001b[0;34m\u001b[0m\u001b[0m\n",
      "\u001b[0;32m<ipython-input-7-4e01acdf57d5>\u001b[0m in \u001b[0;36mSBox\u001b[0;34m(B)\u001b[0m\n\u001b[1;32m     13\u001b[0m     \u001b[0;32mfor\u001b[0m \u001b[0mi\u001b[0m \u001b[0;32min\u001b[0m \u001b[0maux\u001b[0m\u001b[0;34m:\u001b[0m\u001b[0;34m\u001b[0m\u001b[0;34m\u001b[0m\u001b[0m\n\u001b[1;32m     14\u001b[0m         \u001b[0mret\u001b[0m\u001b[0;34m.\u001b[0m\u001b[0mappend\u001b[0m\u001b[0;34m(\u001b[0m\u001b[0;34m(\u001b[0m\u001b[0mi\u001b[0m\u001b[0;34m+\u001b[0m\u001b[0;36m1\u001b[0m\u001b[0;34m)\u001b[0m\u001b[0;34m%\u001b[0m\u001b[0;36m10\u001b[0m\u001b[0;34m)\u001b[0m\u001b[0;34m\u001b[0m\u001b[0;34m\u001b[0m\u001b[0m\n\u001b[0;32m---> 15\u001b[0;31m     \u001b[0;32mreturn\u001b[0m \u001b[0;34m''\u001b[0m\u001b[0;34m.\u001b[0m\u001b[0mjoin\u001b[0m\u001b[0;34m(\u001b[0m\u001b[0mret\u001b[0m\u001b[0;34m)\u001b[0m\u001b[0;34m\u001b[0m\u001b[0;34m\u001b[0m\u001b[0m\n\u001b[0m\u001b[1;32m     16\u001b[0m     \u001b[0;32mpass\u001b[0m\u001b[0;34m\u001b[0m\u001b[0;34m\u001b[0m\u001b[0m\n\u001b[1;32m     17\u001b[0m \u001b[0;34m\u001b[0m\u001b[0m\n",
      "\u001b[0;31mTypeError\u001b[0m: sequence item 0: expected str instance, int found"
     ]
    }
   ],
   "source": [
    "inpK = random.getrandbits(128)\n",
    "print(\"Input: \" + str(inpK))\n",
    "K = ProduceRoundKey(inpK)\n",
    "print(\"Keys: \")\n",
    "print(K)\n",
    "B = random.getrandbits(32)\n",
    "print(\"Block before encoding: \")\n",
    "print(B)\n",
    "print(\"Alice is encrypting the plaintext\")\n",
    "C = Encode(B, K)\n",
    "print(\"Encoded plaintext: \")\n",
    "print(C)\n",
    "print(\"Sending to Bob..\")\n",
    "print(\"Bob is decrypting..\")\n",
    "D = Decode(C, K)\n",
    "print(\"Decoded plaintext: \")\n",
    "print(D)"
   ]
  },
  {
   "cell_type": "code",
   "execution_count": null,
   "metadata": {},
   "outputs": [],
   "source": []
  },
  {
   "cell_type": "code",
   "execution_count": null,
   "metadata": {},
   "outputs": [],
   "source": []
  },
  {
   "cell_type": "code",
   "execution_count": null,
   "metadata": {},
   "outputs": [],
   "source": []
  },
  {
   "cell_type": "code",
   "execution_count": null,
   "metadata": {},
   "outputs": [],
   "source": []
  },
  {
   "cell_type": "code",
   "execution_count": null,
   "metadata": {},
   "outputs": [],
   "source": []
  },
  {
   "cell_type": "code",
   "execution_count": null,
   "metadata": {},
   "outputs": [],
   "source": []
  },
  {
   "cell_type": "code",
   "execution_count": null,
   "metadata": {},
   "outputs": [],
   "source": []
  }
 ],
 "metadata": {
  "kernelspec": {
   "display_name": "Python 3",
   "language": "python",
   "name": "python3"
  },
  "language_info": {
   "codemirror_mode": {
    "name": "ipython",
    "version": 3
   },
   "file_extension": ".py",
   "mimetype": "text/x-python",
   "name": "python",
   "nbconvert_exporter": "python",
   "pygments_lexer": "ipython3",
   "version": "3.7.7"
  }
 },
 "nbformat": 4,
 "nbformat_minor": 2
}
