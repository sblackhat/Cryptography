{
 "cells": [
  {
   "cell_type": "markdown",
   "metadata": {},
   "source": [
    "# Random prime number generation\n",
    "(using only a random bits generator and a probabilistic primality test)"
   ]
  },
  {
   "cell_type": "code",
   "execution_count": 1,
   "metadata": {},
   "outputs": [],
   "source": [
    "#libraries we use in this file\n",
    "import random,sys #random for random bits generator\n",
    "import sympy as sp #sympy for some arithmetic computations (can be replaced by your own implementation!)"
   ]
  },
  {
   "cell_type": "code",
   "execution_count": 25,
   "metadata": {},
   "outputs": [],
   "source": [
    "#Random k-bit number generator\n",
    "def gennum(size,even=None):\n",
    "    li=[random.choice([0,1]) for k in range(0,size-2)]\n",
    "    if even=='even':\n",
    "        li.append(0)\n",
    "    elif even=='odd':\n",
    "        li.append(1)\n",
    "    else:\n",
    "        li.append(random.choice([0,1]))\n",
    "    num=li[0]\n",
    "    for el in li[1:]:\n",
    "        num<<=1\n",
    "        num^=el\n",
    "    return num"
   ]
  },
  {
   "cell_type": "code",
   "execution_count": 6,
   "metadata": {},
   "outputs": [],
   "source": [
    "#Primality test\n",
    "def GCD(a,b):\n",
    "    while b:   \n",
    "        a, b = b, a % b\n",
    "    return abs(a)\n",
    "\n",
    "def IsComposite(a,n):\n",
    "    d=GCD(a,n)\n",
    "    if (d==1):\n",
    "        a0=pow(a,n-1,n)\n",
    "        if (a0 == 1):\n",
    "            return False #\"Not conclusive\"\n",
    "        else:\n",
    "            return True\n",
    "    else:\n",
    "        return True\n",
    "    \n",
    "def IsCompositeTest(x,N):\n",
    "    for _ in range(0,N):\n",
    "        a=random.randrange(2,x-1)\n",
    "        d=GCD(a,x)\n",
    "        if d!=1:\n",
    "            return True\n",
    "        elif IsComposite(a,x):\n",
    "            return True\n",
    "    return False"
   ]
  },
  {
   "cell_type": "code",
   "execution_count": 17,
   "metadata": {},
   "outputs": [
    {
     "data": {
      "text/plain": [
       "True"
      ]
     },
     "execution_count": 17,
     "metadata": {},
     "output_type": "execute_result"
    }
   ],
   "source": [
    "IsCompositeTest(113423432423421,100)"
   ]
  },
  {
   "cell_type": "code",
   "execution_count": 26,
   "metadata": {},
   "outputs": [],
   "source": [
    "#Pseudo-prime number generator\n",
    "def GenPseudoPrime(N,size):\n",
    "    num=gennum(size,'odd')\n",
    "    while IsCompositeTest(num,size):\n",
    "        num=gennum(size,'odd')\n",
    "    return num"
   ]
  },
  {
   "cell_type": "code",
   "execution_count": null,
   "metadata": {},
   "outputs": [],
   "source": [
    "#Example"
   ]
  },
  {
   "cell_type": "code",
   "execution_count": 24,
   "metadata": {},
   "outputs": [
    {
     "data": {
      "text/plain": [
       "1360236714310743036105081483215152151545989264597680428123055686994492364545559977608559980856774249312586631295801241096963238822448037503375062517473"
      ]
     },
     "execution_count": 24,
     "metadata": {},
     "output_type": "execute_result"
    }
   ],
   "source": [
    "GenPseudoPrime(100,500)"
   ]
  },
  {
   "cell_type": "code",
   "execution_count": 21,
   "metadata": {},
   "outputs": [
    {
     "data": {
      "text/plain": [
       "{1953615246307953479300330063308762230826441657462094743380695508775950985718611397538199693322960986150159403788563475373: 1}"
      ]
     },
     "execution_count": 21,
     "metadata": {},
     "output_type": "execute_result"
    }
   ],
   "source": [
    "sp.factorint(GenPseudoPrime(100,400))"
   ]
  },
  {
   "cell_type": "markdown",
   "metadata": {},
   "source": [
    "# RSA algorithm\n",
    "\n",
    "## Private and public key generation\n",
    "\n",
    "1. Generate two large random (and distinct) primes $p$ and $q$ of the same size."
   ]
  },
  {
   "cell_type": "code",
   "execution_count": 27,
   "metadata": {},
   "outputs": [],
   "source": [
    "def GenTwoPrimes(size,N):\n",
    "    while True:\n",
    "        p=GenPseudoPrime(N,size)\n",
    "        q=GenPseudoPrime(N,size)\n",
    "        if p!=q:\n",
    "            return p,q"
   ]
  },
  {
   "cell_type": "code",
   "execution_count": 29,
   "metadata": {},
   "outputs": [
    {
     "data": {
      "text/plain": [
       "(173, 373)"
      ]
     },
     "execution_count": 29,
     "metadata": {},
     "output_type": "execute_result"
    }
   ],
   "source": [
    "GenTwoPrimes(10,5)"
   ]
  },
  {
   "cell_type": "code",
   "execution_count": null,
   "metadata": {},
   "outputs": [],
   "source": []
  },
  {
   "cell_type": "markdown",
   "metadata": {},
   "source": [
    "2. Compute $n=pq$ and $\\phi=\\phi(n)=(p-1)*(q-1)$\n",
    "\n",
    "Remark: discuss why the number $lcm(p-1,q-1)$ can be used instead. When it differs from $\\phi$."
   ]
  },
  {
   "cell_type": "code",
   "execution_count": 30,
   "metadata": {},
   "outputs": [],
   "source": [
    "def ProdModulus(size,N):\n",
    "    p,q=GenTwoPrimes(size,N)\n",
    "    n=p*q\n",
    "    phin=(p-1)*(q-1)\n",
    "    return n,phin"
   ]
  },
  {
   "cell_type": "code",
   "execution_count": 31,
   "metadata": {},
   "outputs": [
    {
     "data": {
      "text/plain": [
       "(2684634413, 2684491740)"
      ]
     },
     "execution_count": 31,
     "metadata": {},
     "output_type": "execute_result"
    }
   ],
   "source": [
    "#example\n",
    "ProdModulus(20,10)"
   ]
  },
  {
   "cell_type": "code",
   "execution_count": null,
   "metadata": {},
   "outputs": [],
   "source": [
    "#n=p*q\n",
    "#phi-n-1=-(p+q)\n",
    "#(x-p)*(x-q) == x**2-(p+q)*x+p*q == x**2+(phi-n-1)*x+n"
   ]
  },
  {
   "cell_type": "code",
   "execution_count": 34,
   "metadata": {},
   "outputs": [
    {
     "data": {
      "text/plain": [
       "[22303, 120371]"
      ]
     },
     "execution_count": 34,
     "metadata": {},
     "output_type": "execute_result"
    }
   ],
   "source": [
    "x=sp.symbols('x')\n",
    "phi=2684491740\n",
    "n=2684634413\n",
    "sp.solve(x**2+(phi-n-1)*x+n,x)"
   ]
  },
  {
   "cell_type": "code",
   "execution_count": 35,
   "metadata": {},
   "outputs": [
    {
     "data": {
      "text/plain": [
       "2684634413"
      ]
     },
     "execution_count": 35,
     "metadata": {},
     "output_type": "execute_result"
    }
   ],
   "source": [
    "22303*120371\n",
    "#Do not reveal number phi"
   ]
  },
  {
   "cell_type": "markdown",
   "metadata": {},
   "source": [
    "3. Choose a random integer $e$ in the range $1<e<\\phi$ such that $gcd(e,\\phi)=1$."
   ]
  },
  {
   "cell_type": "code",
   "execution_count": 40,
   "metadata": {},
   "outputs": [],
   "source": [
    "def GCD(a,b):\n",
    "    while b:   \n",
    "        a, b = b, a % b\n",
    "    return abs(a)\n",
    "def RandomE(phin):\n",
    "    size=phin.bit_length()\n",
    "    sizen=random.randrange(2,size)\n",
    "    while True:\n",
    "        num=gennum(sizen)\n",
    "        if GCD(num,phin)==1 and num>1:\n",
    "            return num"
   ]
  },
  {
   "cell_type": "code",
   "execution_count": 41,
   "metadata": {},
   "outputs": [
    {
     "data": {
      "text/plain": [
       "56339"
      ]
     },
     "execution_count": 41,
     "metadata": {},
     "output_type": "execute_result"
    }
   ],
   "source": [
    "#example\n",
    "_,phin=ProdModulus(20,10)\n",
    "RandomE(phin)"
   ]
  },
  {
   "cell_type": "code",
   "execution_count": null,
   "metadata": {},
   "outputs": [],
   "source": []
  },
  {
   "cell_type": "code",
   "execution_count": null,
   "metadata": {},
   "outputs": [],
   "source": []
  },
  {
   "cell_type": "code",
   "execution_count": null,
   "metadata": {},
   "outputs": [],
   "source": []
  },
  {
   "cell_type": "markdown",
   "metadata": {},
   "source": [
    "4. Use the extended Euclidean algorithm to compute the unique integer $d$, $1<d<\\phi$, such that $ed\\equiv 1(\\textrm{mod }\\phi)$"
   ]
  },
  {
   "cell_type": "code",
   "execution_count": 43,
   "metadata": {},
   "outputs": [],
   "source": [
    "def ExtendedGCD(a,b):\n",
    "    r,r1=a,b\n",
    "    s,s1=1,0 #s*a+t*b == a\n",
    "    t,t1=0,1 #s1*a+t1*b == b\n",
    "    while not(r1==0):\n",
    "        q,r2=r//r1,r % r1\n",
    "        r,s,t,r1,s1,t1=r1,s1,t1,r2,s-s1*q,t-t1*q\n",
    "    d=r\n",
    "    return d,s,t #s*a+t*b=d, d=GCD(a,b)\n",
    "\n",
    "def ComputeD(e,phi):\n",
    "    _,inv,_=ExtendedGCD(e,phi)\n",
    "    return inv%phi"
   ]
  },
  {
   "cell_type": "code",
   "execution_count": 45,
   "metadata": {},
   "outputs": [
    {
     "name": "stdout",
     "output_type": "stream",
     "text": [
      "True\n",
      "128497686453572616304094372429668827259662801480626294717309774850736790475254664321147787129198622229502318816001144844\n",
      "546081154169387807342449270317018301968250332952159872118506035260939878011645\n",
      "14004926958874383052088759194238999709654386960074449894349322545055865971608279965706014908118503483987109354561089561\n"
     ]
    }
   ],
   "source": [
    "#example\n",
    "_,phin=ProdModulus(200,110)\n",
    "e=RandomE(phin)\n",
    "d=ComputeD(e,phin)\n",
    "print(bool((e*d-1)%phin==0)) #sanity check\n",
    "print(phin)\n",
    "print(e)\n",
    "print(d)"
   ]
  },
  {
   "cell_type": "code",
   "execution_count": null,
   "metadata": {},
   "outputs": [],
   "source": []
  },
  {
   "cell_type": "code",
   "execution_count": null,
   "metadata": {},
   "outputs": [],
   "source": []
  },
  {
   "cell_type": "code",
   "execution_count": null,
   "metadata": {},
   "outputs": [],
   "source": []
  },
  {
   "cell_type": "markdown",
   "metadata": {},
   "source": [
    "5. Alice's public key is $(n,e)$, private key is $d$."
   ]
  },
  {
   "cell_type": "code",
   "execution_count": 46,
   "metadata": {},
   "outputs": [],
   "source": [
    "def PrivatePublicKeyRSA(size,N=200):\n",
    "    n,phin=ProdModulus(size,N)\n",
    "    e=RandomE(phin)\n",
    "    d=ComputeD(e,phin)\n",
    "    return d,(n,e)"
   ]
  },
  {
   "cell_type": "code",
   "execution_count": 47,
   "metadata": {},
   "outputs": [],
   "source": [
    "#example of key generation with two primes of size 300 bits\n",
    "AlicePriv,AlicePub=PrivatePublicKeyRSA(300) #default pseudoprimality check at 200 witness choices"
   ]
  },
  {
   "cell_type": "code",
   "execution_count": 48,
   "metadata": {},
   "outputs": [
    {
     "data": {
      "text/plain": [
       "197554619374451336632417877822140819625957999871551099253742431111893570074114939710984283571151883694297146465575029721786804053289650949472537675722334463204465955731228733878273"
      ]
     },
     "execution_count": 48,
     "metadata": {},
     "output_type": "execute_result"
    }
   ],
   "source": [
    "AlicePriv"
   ]
  },
  {
   "cell_type": "code",
   "execution_count": 49,
   "metadata": {},
   "outputs": [
    {
     "data": {
      "text/plain": [
       "(280162496357024280138077426027361239815390446861476863167822579201508023332841609897508196034609598100036189660526837875734936053101632366863397944015718778712656384089945462331713,\n",
       " 33348290189216285550711884374147204951263520202492748756309044024900351337531037807759719725707304865964018333475777)"
      ]
     },
     "execution_count": 49,
     "metadata": {},
     "output_type": "execute_result"
    }
   ],
   "source": [
    "AlicePub"
   ]
  },
  {
   "cell_type": "code",
   "execution_count": null,
   "metadata": {},
   "outputs": [],
   "source": []
  },
  {
   "cell_type": "markdown",
   "metadata": {},
   "source": [
    "## RSA public-key encryption"
   ]
  },
  {
   "cell_type": "markdown",
   "metadata": {},
   "source": [
    "1. Bob encrypts a message $m$ for Alice using her public key $(n,e)$\n",
    "\n",
    "We assume that the message $m$ is an integer in the interval $0\\leq m\\leq n-1$."
   ]
  },
  {
   "cell_type": "code",
   "execution_count": 50,
   "metadata": {},
   "outputs": [],
   "source": [
    "def EncryptRSA(pub,m):\n",
    "    n,e=pub\n",
    "    c=pow(m,e,n) #fast modular exponentiation\n",
    "    return c"
   ]
  },
  {
   "cell_type": "code",
   "execution_count": 51,
   "metadata": {},
   "outputs": [
    {
     "data": {
      "text/plain": [
       "47995494908001224731212277472819204556838016550452016517503919510065505227858409332498253645928130557216039313957183880025748947396787820722823027725591137859325357797854177861616"
      ]
     },
     "execution_count": 51,
     "metadata": {},
     "output_type": "execute_result"
    }
   ],
   "source": [
    "#example\n",
    "_,AlicePub=PrivatePublicKeyRSA(300) \n",
    "m=123456789\n",
    "c=EncryptRSA(AlicePub,m)\n",
    "c"
   ]
  },
  {
   "cell_type": "code",
   "execution_count": 60,
   "metadata": {},
   "outputs": [
    {
     "data": {
      "text/plain": [
       "6"
      ]
     },
     "execution_count": 60,
     "metadata": {},
     "output_type": "execute_result"
    }
   ],
   "source": [
    "#self-encryption example\n",
    "p=5\n",
    "q=7\n",
    "n=p*q\n",
    "e=3\n",
    "m=6\n",
    "c=EncryptRSA((n,e),m)\n",
    "c"
   ]
  },
  {
   "cell_type": "code",
   "execution_count": null,
   "metadata": {},
   "outputs": [],
   "source": []
  },
  {
   "cell_type": "code",
   "execution_count": null,
   "metadata": {},
   "outputs": [],
   "source": []
  },
  {
   "cell_type": "markdown",
   "metadata": {},
   "source": [
    "2. Alice decrypts the message $c$ using her private key $d$ and part of the public key $n$"
   ]
  },
  {
   "cell_type": "code",
   "execution_count": 61,
   "metadata": {},
   "outputs": [],
   "source": [
    "def DecryptRSA(priv,pub,c):\n",
    "    d=priv\n",
    "    n,_=pub\n",
    "    m=pow(c,d,n)\n",
    "    return m"
   ]
  },
  {
   "cell_type": "code",
   "execution_count": 62,
   "metadata": {},
   "outputs": [
    {
     "data": {
      "text/plain": [
       "True"
      ]
     },
     "execution_count": 62,
     "metadata": {},
     "output_type": "execute_result"
    }
   ],
   "source": [
    "#example\n",
    "AlicePriv,AlicePub=PrivatePublicKeyRSA(300) \n",
    "m=123456789\n",
    "c=EncryptRSA(AlicePub,m)\n",
    "bool(DecryptRSA(AlicePriv,AlicePub,c)==m)"
   ]
  },
  {
   "cell_type": "code",
   "execution_count": 63,
   "metadata": {},
   "outputs": [
    {
     "name": "stdout",
     "output_type": "stream",
     "text": [
      "13 s ± 5.55 s per loop (mean ± std. dev. of 7 runs, 1 loop each)\n",
      "23.5 ms ± 6.57 ms per loop (mean ± std. dev. of 7 runs, 10 loops each)\n",
      "27.9 ms ± 9.14 ms per loop (mean ± std. dev. of 7 runs, 10 loops each)\n"
     ]
    },
    {
     "data": {
      "text/plain": [
       "True"
      ]
     },
     "execution_count": 63,
     "metadata": {},
     "output_type": "execute_result"
    }
   ],
   "source": [
    "size=500\n",
    "%timeit PrivatePublicKeyRSA(size)\n",
    "AlicePriv,AlicePub=PrivatePublicKeyRSA(size)\n",
    "m=12345678910123456789101234567891012345678910\n",
    "%timeit EncryptRSA(AlicePub,m)\n",
    "c=EncryptRSA(AlicePub,m)\n",
    "%timeit DecryptRSA(AlicePriv,AlicePub,c)\n",
    "bool(DecryptRSA(AlicePriv,AlicePub,c)==m)"
   ]
  },
  {
   "cell_type": "code",
   "execution_count": null,
   "metadata": {},
   "outputs": [],
   "source": []
  },
  {
   "cell_type": "markdown",
   "metadata": {},
   "source": [
    "Exercise: Implement RSA decryption using Chinese Remainder Theorem. Compare timings."
   ]
  },
  {
   "cell_type": "code",
   "execution_count": null,
   "metadata": {},
   "outputs": [],
   "source": []
  },
  {
   "cell_type": "code",
   "execution_count": null,
   "metadata": {},
   "outputs": [],
   "source": []
  },
  {
   "cell_type": "code",
   "execution_count": null,
   "metadata": {},
   "outputs": [],
   "source": []
  },
  {
   "cell_type": "code",
   "execution_count": null,
   "metadata": {},
   "outputs": [],
   "source": []
  },
  {
   "cell_type": "code",
   "execution_count": null,
   "metadata": {},
   "outputs": [],
   "source": []
  },
  {
   "cell_type": "code",
   "execution_count": null,
   "metadata": {},
   "outputs": [],
   "source": []
  },
  {
   "cell_type": "markdown",
   "metadata": {},
   "source": [
    "# Attacks on RSA"
   ]
  },
  {
   "cell_type": "markdown",
   "metadata": {},
   "source": [
    "1. We implement an attack which shows that once the adversary knows $d$, she can implement an attack which factors $n$ efficiently."
   ]
  },
  {
   "cell_type": "code",
   "execution_count": 64,
   "metadata": {},
   "outputs": [],
   "source": [
    "nn=14205142842144491469901035779943007321473952670460614909740188710462796861921791780746014298824348546889748863603913825380912304112461129061114480661500416910991853573649055897001583708234998530660447745535711467407798340361335928981312718926721467943464464347521000503179497153112764130114342341251457556854374337702225661788558784747007799183865452550277915792606190524979919835785502848268656744723582283945123371679980696891117277548547543492116459573915049465031893477375432302554045103150951955486083526016584926750095118984741954481489582827589374811855794969993254570253121737541317841105374871\n",
    "dd=9738454175598488918517912045396815318351885031131011603301149540233201870415928124228184903947308481461717153640402767289853198952704967449300122329014740408508653613839688094250923162490670540988214688775753190900423588412005697560323304500348114898045236656807283167901253083798426709790746938525240264995502098847606530252043043212677911465343705421183831116604350283789270965024124861992541018116786274867535581082248878546385006259988838129620903989258127062367035340066868353921340378027331177496332241490297041686454303452932424111634076797215417394272455217584601075851777273706083879476230809\n",
    "ee=2219702669760051625529760071259189046161364151701596790770763259600544290997125107128138578832480323854037838605599695123440903054424577956799678397891626783444723950147784407335462559143107157658471735164714153971357443698994082727673072343180069044835094856719244582969485137575845153825021391095268519544748057926663150576101990156077844973202826679622719216615756960610764785110408304311098865781072786879379296360025429207038042833064515876868608188436266546466015175298619766069707237580766787423687287858279125035537409323009740621048068813783768774814593993312720811077575752373741693972477513"
   ]
  },
  {
   "cell_type": "code",
   "execution_count": 65,
   "metadata": {},
   "outputs": [
    {
     "data": {
      "text/plain": [
       "1"
      ]
     },
     "execution_count": 65,
     "metadata": {},
     "output_type": "execute_result"
    }
   ],
   "source": [
    "GCD(5,ee*dd-1)"
   ]
  },
  {
   "cell_type": "code",
   "execution_count": 66,
   "metadata": {},
   "outputs": [
    {
     "data": {
      "text/plain": [
       "1"
      ]
     },
     "execution_count": 66,
     "metadata": {},
     "output_type": "execute_result"
    }
   ],
   "source": [
    "a=5\n",
    "pow(a,ee*dd-1,nn)"
   ]
  },
  {
   "cell_type": "code",
   "execution_count": 67,
   "metadata": {},
   "outputs": [],
   "source": [
    "def FactorN(a,N):\n",
    "    s=0\n",
    "    while a%N==0:\n",
    "        a//=N\n",
    "        s+=1\n",
    "    return a,s"
   ]
  },
  {
   "cell_type": "code",
   "execution_count": 68,
   "metadata": {},
   "outputs": [],
   "source": [
    "t,s=FactorN(ee*dd-1,2)"
   ]
  },
  {
   "cell_type": "code",
   "execution_count": 69,
   "metadata": {},
   "outputs": [],
   "source": [
    "def TestRes(a,i,t,n):\n",
    "    val=pow(a,2**(i-1)*t,n)\n",
    "    cond1=not(val in [n-1,1])\n",
    "    cond2=(pow(val,2,n)==1)\n",
    "    return cond1 and cond2"
   ]
  },
  {
   "cell_type": "code",
   "execution_count": 70,
   "metadata": {},
   "outputs": [
    {
     "data": {
      "text/plain": [
       "[4]"
      ]
     },
     "execution_count": 70,
     "metadata": {},
     "output_type": "execute_result"
    }
   ],
   "source": [
    "[i for i in range(1,s+1) if TestRes(5,i,t,nn)]"
   ]
  },
  {
   "cell_type": "code",
   "execution_count": 71,
   "metadata": {},
   "outputs": [
    {
     "data": {
      "text/plain": [
       "9588619046366838044801494053253481940617720553952621475995094046755114382462934062374744942467354034938065773299505136257219654734188396834557125565877492393644737116271016592052764192115682498712093244477233001835608690898970597314134231687516574207045955396893074444391250211321989449626922987925383"
      ]
     },
     "execution_count": 71,
     "metadata": {},
     "output_type": "execute_result"
    }
   ],
   "source": [
    "p=GCD(pow(a,2**(4-1)*t,nn)-1,nn)\n",
    "p"
   ]
  },
  {
   "cell_type": "code",
   "execution_count": 72,
   "metadata": {},
   "outputs": [
    {
     "data": {
      "text/plain": [
       "1481458672354583818459092744470727113302331222529818045554004506818880990463267536139772114225085488389179096710354485475436883604179235185470105001402382279412556095502878969668106727661199802579922297746837666119028151509739065244008176124005425474201446524659942015313448803439947198799383945677937"
      ]
     },
     "execution_count": 72,
     "metadata": {},
     "output_type": "execute_result"
    }
   ],
   "source": [
    "q=GCD(pow(a,2**(4-1)*t,nn)+1,nn)\n",
    "q"
   ]
  },
  {
   "cell_type": "code",
   "execution_count": 75,
   "metadata": {},
   "outputs": [
    {
     "name": "stdout",
     "output_type": "stream",
     "text": [
      "True\n",
      "True\n",
      "True\n",
      "True\n",
      "True\n"
     ]
    }
   ],
   "source": [
    "print(p*q==nn)\n",
    "print(p>1)\n",
    "print(q>1)\n",
    "print(p<nn)\n",
    "print(q<nn)\n",
    "\n"
   ]
  },
  {
   "cell_type": "markdown",
   "metadata": {},
   "source": [
    "Exercise: implement it as a general procedure to factor the modulus $n$ of RSA provided that $d$ is explicitely given."
   ]
  },
  {
   "cell_type": "markdown",
   "metadata": {},
   "source": [
    "2. For practical purposes one can choose an exponent $e$ to be very small. The smalles such choice is often $e=3$.\n",
    "\n",
    "Warning: we should assume that neither $p-1$ nor $q-1$ is divisible by $3$."
   ]
  },
  {
   "cell_type": "markdown",
   "metadata": {},
   "source": [
    "Suppose three entities generated public keys $(n_1,3)$, $(n_2,3)$ and $(n_3,3)$. Bob has generates three messages $c_i=m^3(\\textrm{ mod }n_i)$.\n",
    "\n",
    "Using a CRT theorem we can find a unique $x$ such that $0\\leq x<n_1 n_2 n_3$ and $x\\equiv c_i (\\textrm{ mod }n_i)$. \n",
    "\n",
    "Since $m^3<n_1 n_2 n_3$ then it follows from the uniqueness that $x=m^3$ !\n",
    "\n",
    "So now simply we need to compute a cubic root of $x$ to find the message $m$.\n",
    "\n",
    "(We assume that pairwise the $n_i$ are coprime)."
   ]
  },
  {
   "cell_type": "code",
   "execution_count": null,
   "metadata": {},
   "outputs": [],
   "source": [
    "def MultInverse(a,n):\n",
    "    d,inv,_=ExtendedGCD(a,n)\n",
    "    if d==1:\n",
    "        if n==1:\n",
    "            return 1 #for compatibility\n",
    "        return inv%n\n",
    "    else:\n",
    "        raise NameError('Numbers '+str(a)+' and '+str(n)+' are not coprime.')\n",
    "def GaussAlgorithm(clist,nlist):\n",
    "    n=sp.prod(nlist)\n",
    "    x=0\n",
    "    for i in range(0,len(clist)):\n",
    "        ni=n//nlist[i]\n",
    "        mi=MultInverse(ni,nlist[i])\n",
    "        x+=clist[i]*ni*mi\n",
    "    return x%n"
   ]
  },
  {
   "cell_type": "code",
   "execution_count": null,
   "metadata": {},
   "outputs": [],
   "source": [
    "def PrivatePublicKeyRSAForceE(size,e,N=200):\n",
    "    n,phin=ProdModulus(size,N)\n",
    "    d=ComputeD(e,phin)\n",
    "    return d,(n,e)"
   ]
  },
  {
   "cell_type": "code",
   "execution_count": null,
   "metadata": {},
   "outputs": [],
   "source": [
    "pr1,pub1=PrivatePublicKeyRSAForceE(300,3)\n",
    "pr2,pub2=PrivatePublicKeyRSAForceE(300,3)\n",
    "pr3,pub3=PrivatePublicKeyRSAForceE(300,3)"
   ]
  },
  {
   "cell_type": "code",
   "execution_count": null,
   "metadata": {},
   "outputs": [],
   "source": [
    "m=122333444455555666666"
   ]
  },
  {
   "cell_type": "code",
   "execution_count": null,
   "metadata": {},
   "outputs": [],
   "source": [
    "c1=EncryptRSA(pub1,m)\n",
    "c2=EncryptRSA(pub2,m)\n",
    "c3=EncryptRSA(pub3,m)"
   ]
  },
  {
   "cell_type": "code",
   "execution_count": null,
   "metadata": {},
   "outputs": [],
   "source": [
    "n1=pub1[0]\n",
    "n2=pub2[0]\n",
    "n3=pub3[0]"
   ]
  },
  {
   "cell_type": "code",
   "execution_count": null,
   "metadata": {},
   "outputs": [],
   "source": [
    "gg=(GaussAlgorithm([c1,c2,c3],[n1,n2,n3]))\n",
    "sp.root(gg,3)"
   ]
  },
  {
   "cell_type": "markdown",
   "metadata": {},
   "source": [
    "Exercise: how the n-rooth algorithm can be designed, knowing that the input is a perfect power?"
   ]
  },
  {
   "cell_type": "markdown",
   "metadata": {},
   "source": [
    "3. Suppose that $\\phi(n)$ was computed. Knowing $(n,e)$ the public key, can you find the private key $d$?"
   ]
  },
  {
   "cell_type": "code",
   "execution_count": null,
   "metadata": {},
   "outputs": [],
   "source": [
    "p,q,n,phi,x=sp.symbols('p,q,n,phi,x')\n",
    "eq1=sp.Eq(p*q,n) #p*q==n\n",
    "eq2=sp.Eq((p-1)*(q-1),phi) #(p-1)*(q-1)==phi"
   ]
  },
  {
   "cell_type": "code",
   "execution_count": null,
   "metadata": {},
   "outputs": [],
   "source": [
    "((eq1.lhs-eq2.lhs).expand(),(eq1.rhs-eq2.rhs).expand())"
   ]
  },
  {
   "cell_type": "code",
   "execution_count": null,
   "metadata": {},
   "outputs": [],
   "source": [
    "#(x-p)*(x-q)==x**2-(p+q)*x+p*q == x**2-(n-phi+1)*x+n"
   ]
  },
  {
   "cell_type": "code",
   "execution_count": null,
   "metadata": {},
   "outputs": [],
   "source": [
    "sp.solve(x**2-(n-phi+1)*x+n,x)"
   ]
  },
  {
   "cell_type": "code",
   "execution_count": null,
   "metadata": {},
   "outputs": [],
   "source": [
    "def PrivatePublicKeyRSALeak(size,N=200):\n",
    "    n,phin=ProdModulus(size,N)\n",
    "    e=RandomE(phin)\n",
    "    d=ComputeD(e,phin)\n",
    "    return d,(n,e),phin"
   ]
  },
  {
   "cell_type": "code",
   "execution_count": null,
   "metadata": {},
   "outputs": [],
   "source": [
    "priv,pub,phi=PrivatePublicKeyRSALeak(300)"
   ]
  },
  {
   "cell_type": "code",
   "execution_count": null,
   "metadata": {},
   "outputs": [],
   "source": [
    "def RevealPQ(n,phi):\n",
    "    sq=sp.root(n**2 - 2*n*phi - 2*n + phi**2 - 2*phi + 1,2)\n",
    "    p=(n - phi - sq+1)//2\n",
    "    q=(n - phi + sq+1)//2\n",
    "    return p,q"
   ]
  },
  {
   "cell_type": "code",
   "execution_count": null,
   "metadata": {},
   "outputs": [],
   "source": [
    "p,q=RevealPQ(pub[0],phi)\n",
    "p*q==pub[0]"
   ]
  },
  {
   "cell_type": "markdown",
   "metadata": {},
   "source": [
    "4. Common modulus attack:\n",
    "Suppose one generates pairs $(n,e_1)$ and $(n,e_2)$ with common modulus and coprime $e_1$ and $e_2$. Could you design an attack based on that information and two cryptograms $c_1,c_2$ which originate in the same message $m$.\n",
    "\n",
    "Hint: notice that $RSA$ is multiplicative ,i.e. $c_1 c_2\\equiv c(\\textrm{ mod }n)$ where $c=m^{e_1 e_2}(\\textrm{ mod n})$.\n",
    "\n",
    "Use the extended Euclidean algorithm to find two integers $x,y$ such that $xe_1+ye_2=1$. "
   ]
  },
  {
   "cell_type": "code",
   "execution_count": null,
   "metadata": {},
   "outputs": [],
   "source": []
  }
 ],
 "metadata": {
  "kernelspec": {
   "display_name": "Python 3",
   "language": "python",
   "name": "python3"
  },
  "language_info": {
   "codemirror_mode": {
    "name": "ipython",
    "version": 3
   },
   "file_extension": ".py",
   "mimetype": "text/x-python",
   "name": "python",
   "nbconvert_exporter": "python",
   "pygments_lexer": "ipython3",
   "version": "3.7.7"
  }
 },
 "nbformat": 4,
 "nbformat_minor": 4
}
