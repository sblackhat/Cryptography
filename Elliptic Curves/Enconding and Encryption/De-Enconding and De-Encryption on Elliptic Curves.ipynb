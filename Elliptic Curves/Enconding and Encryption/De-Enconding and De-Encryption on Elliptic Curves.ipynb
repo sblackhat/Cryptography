{
 "cells": [
  {
   "cell_type": "markdown",
   "metadata": {},
   "source": [
    "# Encoding, Decoding, Encryption and Decryption using EC:\n",
    "\n",
    "USE SAGE MATH KERNEL FOR TESTING\n",
    "\n",
    "1. Algorithm which implements fast addition on an elliptic curve\n",
    "2. Algorithm which generates generates public and private keys in the Elgamal cryptosystem\n",
    "3. Algorithm which encodes and decodes a message on an elliptic curve\n",
    "4. Algoritm which performs Elgamal encryption on an elliptic curve\n",
    "5. Algorithm which performs Elgamal decryption on an elliptic curve"
   ]
  },
  {
   "cell_type": "code",
   "execution_count": 2,
   "metadata": {},
   "outputs": [],
   "source": [
    "import random"
   ]
  },
  {
   "cell_type": "markdown",
   "metadata": {},
   "source": [
    "# 1. Algorithm which implements fast addition on an elliptic curve\n",
    "Input: \n",
    "1. Natural number $p$ which is an odd prime.\n",
    "2. Natural numbers $A,B$ in the range $0\\leq A,B\\leq p-1$ which determine an elliptic curve $E:y^2=x^3+Ax+B$.\n",
    "3. A point $P\\in E(\\mathbb{F}_{p})$\n",
    "4. An integer $n$.\n",
    "\n",
    "Output: Point $n\\cdot P$.\n",
    "\n",
    "Hint: fast addition means that this is a \"fast exponentiation for the additive group\", e.g. when computing a multiple $17P$ of a given point P, run the following steps $P_n$:\n",
    "* $P_1=P$\n",
    "* $P_2=2P$\n",
    "* $P_3=2P_2$\n",
    "* $P_4=2P_3$\n",
    "* $P_5=2P_4$\n",
    "* $P_6=P_1+P_5$\n",
    "\n",
    "In fast addition the number of actual elliptic curve additions need to compute $nP$ is equal to approximately $\\log_{2}(n)$."
   ]
  },
  {
   "cell_type": "code",
   "execution_count": 3,
   "metadata": {},
   "outputs": [],
   "source": [
    "def ExtendedGCD(a,b):\n",
    "    r,r1=a,b\n",
    "    s,s1=1,0 #s*a+t*b == a\n",
    "    t,t1=0,1 #s1*a+t1*b == b\n",
    "    while not(r1==0):\n",
    "        q,r2=r//r1,r % r1\n",
    "        r,s,t,r1,s1,t1=r1,s1,t1,r2,s-s1*q,t-t1*q\n",
    "    d=r\n",
    "    return d,s,t #s*a+t*b=d, d=GCD(a,b)\n",
    "\n",
    "def inv(a,p):\n",
    "    d,i,_ = ExtendedGCD(a,p);\n",
    "    if(d!=1):\n",
    "        raise Exception(\"The number a and p are not coprime\")\n",
    "    return i%p;\n",
    "\n",
    "#Dividing is the same as multiplying by the inv\n",
    "def PtSum(A,B,p,x1,y1,x2,y2):\n",
    "    def zero(x,y):\n",
    "        return x == 0  and y == 0;\n",
    "    if(zero(x1,y1)):\n",
    "        return [x2,y2]\n",
    "    if(zero(x2,y2)):\n",
    "        return [x1,y1]\n",
    "    if x1 == x2 and (y1 != y2 or y1 == 0):\n",
    "        return [0,0] #p1 + (-p1) \n",
    "    if(x1 == x2 and y1 == y2):\n",
    "        resX = ((3*x1**2 + A) * inv(2*y1,p))%p\n",
    "        x3 = ((resX * resX) - 2 * x1) % p\n",
    "        y3 = (resX * (x1-x3) - y1) %p\n",
    "        return [x3,y3]\n",
    "    else:\n",
    "        resX = ((y2-y1) * inv(x2-x1,p))%p\n",
    "        x3 =  (resX * resX - x1 -x2)%p\n",
    "        y3 = ((y2 -y1) * inv(x2-x1,p)*(x1-x3)-y1)%p\n",
    "        return [x3,y3]\n",
    "    \n",
    "def OppPt(x,y,p):\n",
    "    return [x, (-y % p)]"
   ]
  },
  {
   "cell_type": "code",
   "execution_count": 4,
   "metadata": {},
   "outputs": [],
   "source": [
    "def MultPoint(E,P,n):\n",
    "        result = [0,0]\n",
    "        m2 = P \n",
    "        # O(log2(n)) add\n",
    "        i = abs(n)\n",
    "        while 0 < i:\n",
    "            if i & 1 == 1:\n",
    "                result = PtSum(E[0],E[1],E[2],result[0],result[1],m2[0],m2[1])\n",
    "                pass\n",
    "            i, m2 = i >> 1, PtSum(E[0],E[1],E[2],m2[0],m2[1],m2[0],m2[1])\n",
    "            pass\n",
    "        return result if(n>0) else OppPt(result[0],result[1],E[2])\n",
    "        "
   ]
  },
  {
   "cell_type": "markdown",
   "metadata": {},
   "source": [
    "<b> Test the first function <b>"
   ]
  },
  {
   "cell_type": "code",
   "execution_count": 39,
   "metadata": {},
   "outputs": [
    {
     "data": {
      "text/plain": [
       "[True, True]"
      ]
     },
     "execution_count": 39,
     "metadata": {},
     "output_type": "execute_result"
    }
   ],
   "source": [
    "#114 22 149 96 19 94 51 -88\n",
    "[MultPoint([114,22,149],[96,19],-88) == [94,51]\n",
    "#594 434 887 507 524 337 838 772\n",
    "#33 54 71 15 44 5 42 35\n",
    ",MultPoint([33,54,71],[15,44],35) == [5,42]]\n"
   ]
  },
  {
   "cell_type": "code",
   "execution_count": 41,
   "metadata": {},
   "outputs": [
    {
     "name": "stdout",
     "output_type": "stream",
     "text": [
      "[True, True, True, True, True, True, True, True, True, True, True, True, True, True, True, True, True, True, True, True, True, True, True, True, True, True, True, True, True, True, False, True, True, True, True, True, True, True, True, True]\n"
     ]
    }
   ],
   "source": [
    "lines = [];\n",
    "with open('1.txt','r') as f:\n",
    "    lines = f.readlines()\n",
    "\n",
    "result =[]\n",
    "for line in lines:\n",
    "    l = line.split();\n",
    "    x,y = MultPoint([int(l[0]),int(l[1]),int(l[2])],[int(l[3]),int(l[4])],int(l[7]));\n",
    "    if(int(l[5]) == x and y == int(l[6])):\n",
    "        result.append(True)\n",
    "    else:\n",
    "        result.append(False)\n",
    "print(result)\n",
    "    "
   ]
  },
  {
   "cell_type": "markdown",
   "metadata": {},
   "source": [
    "Test cases in the format `<line>` = A B p xcoo(P) ycoo(P) xcoo(nP) ycoo(nP) n"
   ]
  },
  {
   "cell_type": "code",
   "execution_count": 5,
   "metadata": {},
   "outputs": [
    {
     "name": "stdout",
     "output_type": "stream",
     "text": [
      "289004904635357 351299856967464 615540225163121 398103594607352 479295455638011 389561024733952 283946903311278 -330446034564432\n",
      "161 247 347 322 42 94 72 -287\n",
      "101 151 173 111 23 62 130 25\n",
      "203 146 809 331 398 441 229 174\n",
      "157632600889736106797322015813 96939526682266317358947626815 557680003251603014396354960213 165391368174197446227422038480 264939456372013571308772366092 107579524175902783856608798930 310603610153020703798020638880 380433614173696542508874701215\n",
      "19 40 47 17 24 36 2 6\n",
      "784378393398974 7941999781818 998174263924723 689468042919778 79277713849037 855335501832938 475980592537569 -502124084004956\n",
      "295035634355442 231104492450646 316722581762621 245586673344685 735917313363 90447388788539 225477801265712 -39611628966094\n",
      "133875644719282 602623129064489 638297092378873 120170757067644 109217550184548 2767417240281 30835424843127 -471457772170531\n",
      "257059177437437979977078033919 237298567117549809554843293395 913745178264527049120853189381 348841651625899024494170021442 406110787844087346035906260390 371295687393093787539529497882 888667752650596007325498694490 -478904690850178157113022693854\n",
      "91390723077569033329264940808 180448003478780799634680437657 662798811412609647642206980559 248239671385409088780937235127 73693932630887519697361725926 532624196169293395513065442199 549155270788223881418638743233 614230300632686094907137267030\n",
      "944999667350961185976292372350 339723783966485392701678315953 1154477749690094678360565278941 409643915826243060036476855964 679449572149236969663472417661 347649038734882750991245013508 840150812119937225679435746119 389665838537589948684511626151\n",
      "37 50 53 30 32 45 14 -18\n",
      "73 47 179 74 91 74 91 77\n",
      "342354537624117467132215043685 167006105900330930315738804034 501626730615245040450954929563 155774773028830009954953708390 157916598338411997572456901306 172562790527764555239552041506 140662642304778753201248125934 62342245691835479386224153615\n",
      "143 82 337 130 137 86 180 -14\n",
      "423398017364475965379925755095 440451208670653938351443213851 529851822078731861239755574957 203252281911343222704035173310 169356048183353324076775419189 273724862472023000705495557285 322047465572812641892863798386 5076691738434712142848313407\n",
      "474776503419810 250233126557085 475543274906339 66384998860225 350888549205951 338865278756028 200392994186444 -236240937710542\n",
      "432 369 857 359 355 259 326 -65\n",
      "30627606378541501239898939300 41238846466942441851672752995 76394441311461734401885109177 62126591411870921502242909556 43857387626581042002709979839 59343761289196855311682569927 40449688175577906374824980236 13697383296487846446260496623\n"
     ]
    }
   ],
   "source": [
    "def RandABpxy(size):\n",
    "    p=random_prime(2**size-1,proof=True,lbound=5)\n",
    "    A=randint(0,p-1)\n",
    "    B=randint(0,p-1)\n",
    "    try:\n",
    "        E=EllipticCurve([GF(p)(A),B])\n",
    "        P=E.random_point()\n",
    "        n=randint(-p,p)\n",
    "        Q=n*P\n",
    "        return \"{} {} {} {} {} {} {} {}\".format(A,B,p,P[0],P[1],Q[0],Q[1],n)\n",
    "    except:\n",
    "        return None\n",
    "    \n",
    "    \n",
    "for _ in range(0,20):\n",
    "    s=RandABpxy(random.choice([10,50,100]))\n",
    "    if not(s==None):\n",
    "        print(s)"
   ]
  },
  {
   "cell_type": "markdown",
   "metadata": {},
   "source": [
    "# 2. Algorithm which generates generates public and private keys in the Elgamal cryptosystem\n",
    "Input: natural number $k>2$ which denotes the number of bits.\n",
    "\n",
    "Output: \n",
    "1. Randomly chosen prime number $p$, which has $k$ bits and satisfies the condition $p\\equiv 3(\\textrm{mod }4)$.\n",
    "2. Natural numbers $A,B$ in the range $0\\leq A,B\\leq p-1$ such that $Y^2=X^3+AX+B$ is an elliptic curve.\n",
    "3. Random element $Q\\in E(\\mathbb{F}_{p})$ such that the order $q$ of the point $Q$ is large ($q$ has at least $k/4$ bits)\n",
    "4. Random number $x$ in the range $1\\leq x\\leq q-1$.\n",
    "5. Element $P=x\\cdot Q$.\n",
    "\n",
    "Public key is $[A,B,p,Q,P]$\n",
    "\n",
    "Private key is $[A,B,p,Q,P,x]$\n",
    "\n",
    "Remark: represent an elliptic curve as a triple $[A,B,p]$."
   ]
  },
  {
   "cell_type": "code",
   "execution_count": 5,
   "metadata": {},
   "outputs": [],
   "source": [
    "#Random k-bit number generator\n",
    "def gennum(size):\n",
    "    li=[random.choice([0,1]) for k in range(0,size-2)]\n",
    "    li.append(1)\n",
    "    num=li[0]\n",
    "    for el in li[1:]:\n",
    "        num<<=1\n",
    "        num^=el\n",
    "    return num\n",
    "\n",
    "def gcd(a,b):\n",
    "    while b:\n",
    "        a,b = b,a % b;\n",
    "    return abs(a);\n",
    "\n",
    "def get_coprime(n):\n",
    "    while True:\n",
    "        coprime = random.randrange(2,n)\n",
    "        if gcd(coprime, n) == 1:\n",
    "            return coprime\n",
    "        else:\n",
    "            return -1\n",
    "        \n",
    "#Returns true if prime after count rounds \n",
    "def FermatTest(n,count=100000):\n",
    "    if n == 1 or n == 2: return True;\n",
    "    for i in range(count):\n",
    "        a = get_coprime(n)\n",
    "        if(a < 0 or pow(a,n-1,n) != 1):\n",
    "            return False\n",
    "    return True;\n",
    "\n",
    "def PrimeGen(size):\n",
    "    num=gennum(size)\n",
    "    while not FermatTest(num,size):\n",
    "        num=gennum(size)\n",
    "    return num\n",
    "\n",
    "def PrimeGenMod4(size):\n",
    "    if(size < 4): raise Exception(\"Size should be >= 4\");\n",
    "    num = PrimeGen(size);\n",
    "    while (num <= 3) or (num%4 != 3):\n",
    "        num = PrimeGen(size);\n",
    "    return num\n",
    "\n",
    "def RandEllCurve(k):\n",
    "    p = PrimeGenMod4(k);\n",
    "    A=random.randint(0,p-1)\n",
    "    B=random.randint(0,p-1)\n",
    "    while (((4*(A**3) + 27*(B**2))%p) == 0):\n",
    "        A=random.randint(0,p-1)\n",
    "        B=random.randint(0,p-1)\n",
    "    return [A , B , p]\n",
    "\n",
    "def zero(p):\n",
    "    return p[0] == 0  and p[1] == 0;\n",
    "\n",
    "def orderPoint(E,g):\n",
    "        assert not zero(g)\n",
    "        P = g;\n",
    "        for i in range(1, E[2] + 1):\n",
    "            P = MultPoint(E,g,i);\n",
    "            if zero(P):\n",
    "                return i\n",
    "        return -1\n",
    "\n",
    "\n",
    "#Square root modulo\n",
    "#We assume that p is prime since condition 1 has to be met\n",
    "def sqrt(a, p):\n",
    "\n",
    "    def legendre_symbol(a, p):\n",
    "        ls = pow(a, (p - 1) // 2, p)\n",
    "        return -1 if ls == p - 1 else ls\n",
    "\n",
    "    if legendre_symbol(a, p) != 1:\n",
    "        return -1, -1\n",
    "    elif a == 0:\n",
    "        return -1- -1\n",
    "    elif p == 2:\n",
    "        return p\n",
    "    elif p % 4 == 3:\n",
    "        result = pow(a, (p + 1) // 4, p)\n",
    "        return result, abs(p-result)\n",
    "\n",
    "    s = p - 1\n",
    "    e = 0\n",
    "    while s % 2 == 0:\n",
    "        s //= 2\n",
    "        e += 1\n",
    "    n = 2\n",
    "    while legendre_symbol(n, p) != -1:\n",
    "        n += 1\n",
    "    x = pow(a, (s + 1) // 2, p)\n",
    "    b = pow(a, s, p)\n",
    "    g = pow(n, s, p)\n",
    "    r = e\n",
    "\n",
    "    while True:\n",
    "        t = b\n",
    "        m = 0\n",
    "        for m in range(r):\n",
    "            if t == 1:\n",
    "                break\n",
    "            t = pow(t, 2, p)\n",
    "\n",
    "        if m == 0:\n",
    "            return x,abs(p-x)\n",
    "\n",
    "        gs = pow(g, 2 ** (r - m - 1), p)\n",
    "        g = (gs * gs) % p\n",
    "        x = (x * gs) % p\n",
    "        b = (b * g) % p\n",
    "        r = m\n",
    "\n",
    "def RandomPointOrder(A,B,p,k):\n",
    "    cond = A < p-1 and B < p-1 and A > 0 and B > 0;\n",
    "    #Natural number p which is prime and satisfies the condition p mod 4 = 3.\n",
    "    if(cond and (p%4!=3) and not FermatTest(p)):\n",
    "        raise Exception(\"Conditions are not met\")\n",
    "    order =  k.bit_length()//4\n",
    "    x = random.randint(1,p-1)\n",
    "    sq = (x ** 3 + A * x + B) % p\n",
    "    y1,y2 = sqrt(sq, p)\n",
    "    while y1 == -1 and orderPoint([A,B,p],[x,y1]) > order:\n",
    "        x = random.randrange(0,p-1)\n",
    "        sq = (x ** 3 + A * x + B) % p\n",
    "        y1,y2 = sqrt(sq, p)\n",
    "    y = random.choice([y1,y2])\n",
    "    return [x,y]\n",
    "        "
   ]
  },
  {
   "cell_type": "markdown",
   "metadata": {},
   "source": [
    "<b> Test the order function"
   ]
  },
  {
   "cell_type": "code",
   "execution_count": 93,
   "metadata": {},
   "outputs": [
    {
     "data": {
      "text/plain": [
       "[672505616, 342316491]"
      ]
     },
     "execution_count": 93,
     "metadata": {},
     "output_type": "execute_result"
    }
   ],
   "source": [
    "#637318695 515358174 708231451 647398183 120145790 236078193\n",
    "#orderPoint([637318695,515358174,708231451],[647398183,120145790])\n",
    "\n",
    "#MultPoint([637318695,515358174, 708231451],[343306980,95157981],236078193)\n",
    "#RandomPointOrder(637318695,515358174, 708231451,236078193)"
   ]
  },
  {
   "cell_type": "code",
   "execution_count": 14,
   "metadata": {},
   "outputs": [
    {
     "name": "stdout",
     "output_type": "stream",
     "text": [
      "226313685065664 30654869942426 292971746210249 64333809567074 24748118616095 292971727749550\n",
      "629161150 636556067 881028227 177433642 824360291 440509410\n",
      "743650209396096243250448389689 331829608808417759178551811427 784361819582123781769021163863 504745357805310352966173722944 65861256848851390845127293432 784361819582123265269352016171\n",
      "462818070657432850333557571487 418278729624991415439944560811 782928850465253429846083180669 584569087720922763647803091728 485871217610026563506476044362 260976283488417989708478426619\n",
      "39660131747418 36677685687611 39704923079573 37669801421637 21591567186035 19852457095310\n",
      "445585249565641273072861283243 93102493737511764740431527158 571326886848976441902222825941 437537440683034524459045916073 144211672017617668255523724813 51938807895361611001478981124\n",
      "412121438493683 489513811085264 588585245176531 193359103841496 550552717103028 588585219304944\n",
      "171131103 132196553 536359777 214786693 357545234 536317667\n",
      "264822618136294 177292016460130 357378927714283 187320856740017 22982502157273 89344730135972\n",
      "637318695 515358174 708231451 647398183 120145790 236078193\n"
     ]
    }
   ],
   "source": [
    "def ordGen(size):\n",
    "        p=random_prime(2**size-1,proof=True,lbound=5)\n",
    "        A=randint(0,p-1)\n",
    "        B=randint(0,p-1)\n",
    "        E=EllipticCurve([GF(p)(A),B])\n",
    "        Q=E.random_point()\n",
    "        Qord=Q.order()\n",
    "        return \"{} {} {} {} {} {}\".format(A,B,p,Q[0],Q[1],Qord)\n",
    "\n",
    "for _ in range(0,10):\n",
    "    s=ordGen(random.choice([30,50,100]))\n",
    "    if not(s==None):\n",
    "        print(s)"
   ]
  },
  {
   "cell_type": "code",
   "execution_count": 1,
   "metadata": {},
   "outputs": [],
   "source": [
    "def ElgamalPubPrivateKey(k):\n",
    "    E = RandEllCurve(k);\n",
    "    Q = RandomPointOrder(E[0],E[1],E[2],k)\n",
    "    x = randint(1,E[2]-1)\n",
    "    P = MultPoint(E,Q,x)\n",
    "    return [E[0],E[1],E[2],Q[0],Q[1],P[0],P[1]],[E[0],E[1],E[2],Q[0],Q[1],P[0],P[1],x]"
   ]
  },
  {
   "cell_type": "markdown",
   "metadata": {},
   "source": [
    "<b> Test the Public and Private key generation <b>"
   ]
  },
  {
   "cell_type": "code",
   "execution_count": null,
   "metadata": {},
   "outputs": [],
   "source": []
  },
  {
   "cell_type": "markdown",
   "metadata": {},
   "source": [
    "Test cases in the format `<line>` = A B p xcoo(Q) ycoo(Q) xcoo(P) ycoo(P) x"
   ]
  },
  {
   "cell_type": "code",
   "execution_count": 6,
   "metadata": {},
   "outputs": [],
   "source": [
    "def RandABp(size):\n",
    "    p=random_prime(2**size-1,proof=True,lbound=5)\n",
    "    A=randint(0,p-1)\n",
    "    B=randint(0,p-1)\n",
    "    try:\n",
    "        assert (p%4)==3\n",
    "        E=EllipticCurve([GF(p)(A),B])\n",
    "        return \"{} {} {}\".format(A,B,p),E,size\n",
    "    except:\n",
    "        return None, None, None"
   ]
  },
  {
   "cell_type": "code",
   "execution_count": 64,
   "metadata": {},
   "outputs": [
    {
     "name": "stdout",
     "output_type": "stream",
     "text": [
      "78640132360478618478509121 37629576139690180821785382 81643363900778761006165543 78534337898368063555747305 8523346487923531235812095 57251784422369642439057994 23077563839478207120925966 18321614611857731212818718\n",
      "103 24 163 80 91 22 86 16\n",
      "345605421182809929347408443935 826566818672874512011143121791 994626494382033821728185352451 905645751872206783527979964202 312391850542394959490843664279 376443483149603898636995458439 162256874500501874109387504087 23212887761935830168359719587\n",
      "108 31 443 99 198 42 360 66\n",
      "351267673376900915227371908269 535837551893376999890177216532 648486812457045699677219066327 620435032075466734382565298768 356405384361121148826122902670 60397110565595877837051937072 448782309334329016572796866574 270530670211085916584041829724\n",
      "164574593790739 471065663650445 537468033853691 483535611991964 227495144833061 253049409971231 126922102278943 261817801340240\n",
      "382297668395798193669445669675 644972859681377033977788039531 976774994755685248690887974123 486500205161672955871952459531 58248280927909925404459516507 678238929129762007371158414953 35500713842373183690564905729 872452914517041393940553586140\n",
      "18557636351390800587652955412 152835086986379597115852118521 189576910707365237951337853379 158332972155880606001990093929 170019260925906879466530762521 146360020681767740654769707258 101323959637806803157733994691 151380020573207028894772800610\n",
      "174875998908349617588448768687 321362262235374598828718839998 322033444645636456995588930827 207662921964248904980232953463 8444032489902313644928213901 279434349300694039913911964668 115734297377401444554749557607 19858355030526535484136129306\n",
      "36 385 947 215 624 88 183 228\n",
      "68 19 107 34 71 42 64 18\n",
      "462598282354392588422973736704 570312051920241010735349568027 876178628146442914367040776743 504701715774703094285177561808 354117986296289908464738319944 646169696577049245768132313468 800671990178776358122360020413 75352627531694745546113134670\n",
      "263913424203672299999900462947 238872772687388443084742590117 312100693492753376245316890459 280955444023143558265374438417 105996235777916688525286320663 249523639114374951584024666743 87085598384201946210597089751 215970929442646905680428246084\n",
      "7362947481309 623768604042997 642895130179999 561194026245330 256155559276074 159007191958099 161829930923124 173583696283473\n",
      "470858465058472 182647700540093 748606547515859 452302338038179 608772023656779 307139907188001 473491496596336 77142437411044\n",
      "9 120 151 116 95 12 12 106\n"
     ]
    }
   ],
   "source": [
    "for _ in range(0,30):\n",
    "    sE,E,k=RandABp(random.choice([10,50,100]))\n",
    "    if not(sE==None):\n",
    "        Q=E.random_point()\n",
    "        Qord=Q.order()\n",
    "        if log(Qord,2)>k/4:\n",
    "            x=randint(1,Qord-1)\n",
    "            P=x*Q\n",
    "            print(sE+\" {} {}\".format(str(Q[0]),str(Q[1]))+\" {} {}\".format(str(P[0]),str(P[1]))+\" \"+str(x))"
   ]
  },
  {
   "cell_type": "markdown",
   "metadata": {},
   "source": [
    "# 3. Algorithm which encodes and decodes a message on an elliptic curve\n",
    "Input: \n",
    "1. Natural number $p$ which is prime and satisfies the condition $p\\equiv 3(\\textrm{mod }4)$.\n",
    "2. Natural numbers $A,B$ in the range $0\\leq A,B\\leq p-1$ which determine an elliptic curve $y^2=x^3+Ax+B$.\n",
    "3. Message $M$ represented as an integer $0\\leq M\\leq p-1$.\n",
    "\n",
    "Output: A point $P\\in E(\\mathbb{F}_{p})$ which uniquely corresponds to the message $M$.\n",
    "\n",
    "A decoding function which extracts $M$ from the point $P$ should be implemented accordingly.\n",
    "\n",
    "Hint: Use the following Koblitz method for the encoding:\n",
    "\n",
    "We encode our message $M$ as a point on the curve. The first coordinate is going to be $\\kappa\\cdot M+j$, where our message should be $M<p/\\kappa$ and $0\\leq j\\leq \\kappa$. This guarantees we will find a suitable point in the randomized procedure (with chance of success $1-1/2^\\kappa$. Coordinate $y$ is chosen in such a way that $y^2=x^3+Ax+B$, where $A,B$ are fixed, and $x=\\kappa\\cdot M+j$ for a fixed $j$.\n",
    "\n",
    "Decoding procedure is very simple. We compute the floor of the expression $x/\\kappa$, where $x$ is the first coordinate of a point treated as an integer."
   ]
  },
  {
   "cell_type": "markdown",
   "metadata": {},
   "source": [
    "Koblitz’s Method for Encoding Plaintext:  \n",
    "<b>Step1: </b>Pick an elliptic curve Ep(a,b).  \n",
    "\n",
    "<b>Step 2:</b> Let us say that E has N points on it.  \n",
    "\n",
    "<b>Step 3:</b> Let us say that our alphabet consists of the digits 0,1,2,3,4,5,6,7,8,9 and the letters A,B,C,. . . , X,Y,Z coded as 10,11,. . . , 35.  \n",
    "\n",
    "<b>Step 4:</b> This converts our message into a series of numbers between 0 and 35.  \n",
    "\n",
    "<b>Step 5:</b> Now choose an auxiliary base parameter, for example k = 20. ( both parties should agree upon this)\n",
    "\n",
    "<b>Step 6:</b> For each number mk (say), take x=mk + 1 and try to solve for y.  \n",
    "\n",
    "<b>Step 7:</b> If you can't do it, then try x = mk +2 and then x = mk +3 until you can solve for y. \n",
    "\n",
    "<b>Step 8:</b> In practice, you will find  such a y before you hit x = mk + k - 1. Then take the point (x,y). This now converts the number m into a point on the elliptic curve. In this way, the entire message becomes a sequence of points.\n"
   ]
  },
  {
   "cell_type": "code",
   "execution_count": 42,
   "metadata": {},
   "outputs": [],
   "source": [
    "kappa = 100\n",
    "def EncodeMessage(A,B,p,M):\n",
    "    i = 0;\n",
    "    cond = A < p-1 and B < p-1 and A > 0 and B > 0;\n",
    "    #Natural number p which is prime and satisfies the condition p mod 4 = 3.\n",
    "    if(cond and (p%4!=3) and not FermatTest(p)):\n",
    "        raise Exception(\"Conditions are not met\")\n",
    "    x = M*kappa + i;\n",
    "    assert M <= p*1.0/kappa\n",
    "    sq = (x ** 3 + A * x + B) % p\n",
    "    y1,y2= sqrt(sq, p)\n",
    "    while y1 == -1:\n",
    "        i +=1;\n",
    "        x = M*kappa + i;\n",
    "        sq = (x ** 3 + A * x + B) % p\n",
    "        y1,y2 = sqrt(sq, p)\n",
    "    y = random.choice([y1,y2]);\n",
    "    return [x,y] #Randomly return the two solutions"
   ]
  },
  {
   "cell_type": "markdown",
   "metadata": {},
   "source": [
    "<b>Decoding</b>: Consider each point (x,y) and set m to be the greatest integer less than (x-1)/k. Then the point (x,y) decodes as the symbol m. "
   ]
  },
  {
   "cell_type": "code",
   "execution_count": 43,
   "metadata": {},
   "outputs": [],
   "source": [
    "def DecodeMessage(A,B,p,P):\n",
    "    return (P[0]//kappa)"
   ]
  },
  {
   "cell_type": "code",
   "execution_count": 50,
   "metadata": {},
   "outputs": [
    {
     "data": {
      "text/plain": [
       "[1043015400, 131170301]"
      ]
     },
     "execution_count": 50,
     "metadata": {},
     "output_type": "execute_result"
    }
   ],
   "source": [
    "#1423240 53550948 79956061 100 451086 45108600 27258717 True\n",
    "#226183941 153555317 1058172317 100 10430154 1043015400 131170301 True\n",
    "#A,B,p,kappa_default,M,P[0],P[1],floor(int(P[0])/kappa_default)==M\n",
    "#EncodeMessage(1423240,53550948,79956061,451086)\n",
    "EncodeMessage(226183941,153555317,1058172317,10430154)\n"
   ]
  },
  {
   "cell_type": "markdown",
   "metadata": {},
   "source": [
    "<b> Test encoding and decoding"
   ]
  },
  {
   "cell_type": "code",
   "execution_count": 161,
   "metadata": {},
   "outputs": [
    {
     "name": "stdout",
     "output_type": "stream",
     "text": [
      "Decoding True\n",
      "Encoding True\n",
      "Decoding True\n",
      "Encoding True\n",
      "Decoding True\n",
      "Encoding True\n",
      "Decoding True\n",
      "Encoding True\n",
      "Decoding True\n",
      "Encoding True\n",
      "Decoding True\n",
      "Encoding True\n",
      "Decoding True\n",
      "Encoding True\n",
      "Decoding True\n",
      "Encoding True\n",
      "Decoding True\n",
      "Encoding True\n",
      "Decoding True\n",
      "Encoding True\n",
      "Decoding True\n",
      "Encoding True\n",
      "Decoding True\n",
      "Encoding True\n",
      "Decoding True\n",
      "Encoding True\n",
      "Decoding True\n",
      "Encoding True\n",
      "Decoding True\n",
      "Encoding True\n",
      "Decoding True\n",
      "Encoding True\n",
      "Decoding True\n",
      "Encoding True\n",
      "Decoding True\n",
      "Encoding True\n",
      "Decoding True\n",
      "Encoding True\n",
      "Decoding True\n",
      "Encoding True\n",
      "Decoding True\n",
      "Encoding True\n",
      "Decoding True\n",
      "Encoding True\n",
      "Decoding True\n",
      "Encoding True\n",
      "Decoding True\n",
      "Encoding True\n",
      "Decoding True\n",
      "Encoding True\n",
      "Decoding True\n",
      "Encoding True\n",
      "Decoding True\n",
      "Encoding True\n",
      "Decoding True\n",
      "Encoding True\n",
      "Decoding True\n",
      "Encoding True\n",
      "Decoding True\n",
      "Encoding True\n",
      "Decoding True\n",
      "Encoding True\n",
      "Decoding True\n",
      "Encoding True\n",
      "Decoding True\n",
      "Encoding True\n",
      "Decoding True\n",
      "Encoding True\n",
      "Decoding True\n",
      "Encoding True\n",
      "Decoding True\n",
      "Encoding True\n",
      "Decoding True\n",
      "Encoding True\n",
      "Decoding True\n",
      "Encoding True\n",
      "Decoding True\n",
      "Encoding True\n",
      "Decoding True\n",
      "Encoding True\n",
      "Decoding True\n",
      "Encoding True\n",
      "Decoding True\n",
      "Encoding True\n",
      "Decoding True\n",
      "Encoding True\n",
      "Decoding True\n",
      "Encoding True\n",
      "Decoding True\n",
      "Encoding True\n",
      "Decoding True\n",
      "Encoding True\n",
      "Decoding True\n",
      "Encoding True\n",
      "Decoding True\n",
      "Encoding True\n",
      "Decoding True\n",
      "Encoding True\n",
      "Decoding True\n",
      "Encoding True\n"
     ]
    }
   ],
   "source": [
    "lines = [];\n",
    "with open('3.txt','r') as f:\n",
    "    lines = f.readlines()\n",
    "#Format: A,B,p,kappa_default,M,P[0],P[1],floor(int(P[0])/kappa_default\n",
    "for line in lines:\n",
    "    l = line.split();\n",
    "    P = EncodeMessage(int(l[0]),int(l[1]),int(l[2]),int(l[4]));\n",
    "    M = DecodeMessage(int(l[0]),int(l[1]),int(l[2]),P)\n",
    "    if(M == int(l[4])):\n",
    "        print(\"Decoding True\")\n",
    "    #We check if encode using the one of the square roots(both are valid)\n",
    "    if(P[0] ==int(l[5]) and (P[1] == int(l[6]) or  P[1] == (int(l[2])- int(l[6])))):\n",
    "        print(\"Encoding True\")\n",
    "    else:\n",
    "        print(False)"
   ]
  },
  {
   "cell_type": "markdown",
   "metadata": {},
   "source": [
    "Test cases in the format `<line>` = A B p kappa M xcoo(P) ycoo(P) floor(xcoo(P)/kappa)==M"
   ]
  },
  {
   "cell_type": "code",
   "execution_count": null,
   "metadata": {},
   "outputs": [],
   "source": [
    "kappa_default=100\n",
    "def EncodePoint(E,M,kappa=kappa_default): #default choice of \n",
    "    p=E.base_field().characteristic() #field characteristic\n",
    "    assert M <= p*1.0/kappa\n",
    "    pol=E.defining_polynomial()\n",
    "    for i in range(0,kappa):\n",
    "        val=-pol([kappa*M+i,0,1])\n",
    "        if val.is_square():\n",
    "            sq=sqrt(val)\n",
    "            P=E([kappa*M+i,sq,1])\n",
    "            break;\n",
    "    return P\n",
    "\n",
    "def RandABpM(size):\n",
    "    p=random_prime(2**size-1,proof=True,lbound=5)\n",
    "    A=randint(0,p-1)\n",
    "    B=randint(0,p-1)\n",
    "    M=randint(0,p//kappa_default-1)\n",
    "    try:\n",
    "        E=EllipticCurve([GF(p)(A),B])\n",
    "        P=EncodePoint(E,M)\n",
    "        #P=E.random_point()\n",
    "        return \"{} {} {} {} {} {} {} {}\".format(A,B,p,kappa_default,M,P[0],P[1],floor(int(P[0])/kappa_default)==M)\n",
    "    except:\n",
    "        return None\n",
    "    \n",
    "for _ in range(0,50):\n",
    "    s=RandABpM(random.choice([30,50,100]))\n",
    "    if not(s==None):\n",
    "        print(s)"
   ]
  },
  {
   "cell_type": "markdown",
   "metadata": {},
   "source": [
    "# 4. Algoritm which performs Elgamal encryption on an elliptic curve\n",
    "Input: \n",
    "1. Elgamal public key: [A,B,p,Q,P]\n",
    "2. Message $M$ in the range $0\\leq M< p/\\kappa$.\n",
    "\n",
    "Output: Pair of two points $[C_1,C_2]$ such that $C_1,C_2\\in E(\\mathbb{F}_{p})$, where $E:y^2=x^3+Ax+B$. Points $C_1$ and $C_2$ are generated in the Elgamal encryption:\n",
    "\n",
    "* $C_1= kQ$\n",
    "* $C_2= P_M+kP$\n",
    "where $P_M$ is the point in $E(\\mathbb{F}_{p})$ which corresponds to the message $M$ via Koblitz method. Number $k$ is a random integer in the range $1\\leq k\\leq q-1$ where $q$ is the order of the group spanned by the point $Q$."
   ]
  },
  {
   "cell_type": "code",
   "execution_count": 60,
   "metadata": {},
   "outputs": [],
   "source": [
    "#The parameter k is used for testing purpose\n",
    "def ElgamalEncryption(pubKey,M,k = None):\n",
    "    if k is None:\n",
    "        ordQ = orderPoint([pubKey[0],pubKey[1],pubKey[2]],[pubKey[3],pubKey[4]])\n",
    "        k = randint(1,ordQ-1)\n",
    "    C1 = MultPoint([pubKey[0],pubKey[1],pubKey[2]],[pubKey[3],pubKey[4]],k)\n",
    "    kP = MultPoint([pubKey[0],pubKey[1],pubKey[2]],[pubKey[5],pubKey[6]],k)\n",
    "    Pm = EncodeMessage(pubKey[0],pubKey[1],pubKey[2],M)\n",
    "    C2 = PtSum(pubKey[0],pubKey[1],pubKey[2],kP[0],kP[1],Pm[0],Pm[1])\n",
    "    return C1,C2"
   ]
  },
  {
   "cell_type": "markdown",
   "metadata": {},
   "source": [
    "<b> Test the encryption"
   ]
  },
  {
   "cell_type": "code",
   "execution_count": 67,
   "metadata": {},
   "outputs": [
    {
     "name": "stdout",
     "output_type": "stream",
     "text": [
      "1029806611001703874 641200053906280815 784621230359049493 613185836129273435\n",
      "True\n"
     ]
    }
   ],
   "source": [
    "# Format A,B,p,k,Q[0],Q[1],P[0],P[1],M,C1[0],C1[1],C2[0],C2[1]\n",
    "#72430575234 388902348160 957539244583 541519234450 702908564070 \n",
    "#285673913620 105397737825 862356557624 992924412 789931156438 753079547362 681436617015 178076914511\n",
    "\n",
    "#A 899032443106465921 B 745977192800804106 p 1051129676017180999 \n",
    "#Q 540127693309210187 Q 547626402986451839 P 474853327894596912 P 696364976948956441 \n",
    "#C1 1029806611001703874 C1 641200053906280815 C2 784621230359049493 C2 613185836129273435 \n",
    "#M 9569093767723591 x 92619739148387228 k 114545422595536685\n",
    "C1,C2 = ElgamalEncryption([899032443106465921,745977192800804106,1051129676017180999\n",
    "                           ,540127693309210187,547626402986451839,\n",
    "                           474853327894596912,696364976948956441,\n",
    "                  ],9569093767723591,114545422595536685);\n",
    "print(C1[0],C1[1],C2[0],C2[1])\n",
    "print(C1[0]==1029806611001703874 and C1[1]==641200053906280815 and C2[0]==784621230359049493 and C2[1] == 613185836129273435)"
   ]
  },
  {
   "cell_type": "code",
   "execution_count": 68,
   "metadata": {},
   "outputs": [
    {
     "name": "stdout",
     "output_type": "stream",
     "text": [
      "True\n",
      "True\n",
      "True\n",
      "True\n",
      "True\n",
      "True\n",
      "True\n"
     ]
    }
   ],
   "source": [
    "lines = [];\n",
    "with open('4.txt','r') as f:\n",
    "    lines = f.readlines()\n",
    "#Format: format(A,B,p,k,Q[0],Q[1],P[0],P[1],M,C1[0],C1[1],C2[0],C2[1])\n",
    "for line in lines:\n",
    "    l = line.split();\n",
    "    i = 0;\n",
    "    #Try more than once to find the square root modulo p that we expect\n",
    "    while True:\n",
    "        C1,C2 = ElgamalEncryption([int(l[0]),int(l[1]),int(l[2]),int(l[4]),int(l[5]),int(l[6]),int(l[7]),\n",
    "                                  ],int(l[8]),int(l[3]));\n",
    "        i +=1;\n",
    "        if(C1[0] == int(l[9]) and C1[1] == int(l[10]) and C2[0] == int(l[11]) and C2[1] == int(l[12])):\n",
    "            print(True)\n",
    "            break;\n",
    "        if(i ==20):\n",
    "            print(False)\n",
    "            break;"
   ]
  },
  {
   "cell_type": "markdown",
   "metadata": {},
   "source": [
    "Test cases in the format `<line>` = A B p xcoo(Q) ycoo(Q) xcoo(P) ycoo(P) M xcoo(C1) ycoo(C1) xcoo(C2) ycoo(C2)"
   ]
  },
  {
   "cell_type": "code",
   "execution_count": null,
   "metadata": {},
   "outputs": [],
   "source": [
    "kappa_default=100\n",
    "def EncodePoint(E,M,kappa=kappa_default): #default choice of \n",
    "    p=E.base_field().characteristic() #field characteristic\n",
    "    assert M <= p*1.0/kappa\n",
    "    pol=E.defining_polynomial()\n",
    "    for i in range(0,kappa):\n",
    "        val=-pol([kappa*M+i,0,1])\n",
    "        if val.is_square():\n",
    "            sq=sqrt(val)\n",
    "            P=E([kappa*M+i,sq,1])\n",
    "            break;\n",
    "    return P\n",
    "\n",
    "def RandABpQPMC1C2(size):\n",
    "    p=random_prime(2**size-1,proof=True,lbound=5)\n",
    "    A=randint(0,p-1)\n",
    "    B=randint(0,p-1)\n",
    "    try:\n",
    "        assert (p%4)==3\n",
    "        E=EllipticCurve([GF(p)(A),B])\n",
    "        Q=E.random_point()\n",
    "        Qord=Q.order()\n",
    "        assert log(Qord,2)>size/4\n",
    "        x=randint(1,Qord-1)\n",
    "        P=x*Q\n",
    "        M=randint(0,p//kappa_default-1)\n",
    "        PM=EncodePoint(E,M)\n",
    "        k=randint(1,Qord-1)\n",
    "        C1=k*Q\n",
    "        C2=PM+k*P\n",
    "        return \"{} {} {} {} {} {} {} {} {} {} {} {} {}\".format(A,B,p,k,Q[0],Q[1],P[0],P[1],M,C1[0],C1[1],C2[0],C2[1])\n",
    "    except:\n",
    "        return None\n",
    "for _ in range(0,30):\n",
    "    s=RandABpQPMC1C2(random.choice([40,60,100]))\n",
    "    if not(s==None):\n",
    "        print(s)"
   ]
  },
  {
   "cell_type": "markdown",
   "metadata": {},
   "source": [
    "# 5. Algorithm which performs Elgamal decryption on an elliptic curve\n",
    "Input: \n",
    "1. Elgamal private key: $[A,B,p,Q,P,x]$\n",
    "2. Elgamal encryption pair: $[C_1,C_2]$\n",
    "\n",
    "Output: Plain message $M$ represented by an integer in the range $0\\leq M\\leq p/\\kappa$.\n",
    "\n",
    "Elgamal decryption follows the steps:\n",
    "* $P_M=C_2-xC_1$\n",
    "* $M=\\textrm{floor}(x(P_M)/\\kappa)$"
   ]
  },
  {
   "cell_type": "code",
   "execution_count": 158,
   "metadata": {},
   "outputs": [],
   "source": [
    "kappa =100\n",
    "def DecryptElgamal(privKey,cryptogram):\n",
    "    xC1 = MultPoint([privKey[0],privKey[1],privKey[2]],[cryptogram[0],cryptogram[1]],privKey[7]);\n",
    "    Pm = PtSum(privKey[0],privKey[1],privKey[2],cryptogram[2],cryptogram[3],xC1[0],-xC1[1])\n",
    "    return DecodeMessage(privKey[0],privKey[1],privKey[2],\n",
    "        MultPoint([privKey[0],privKey[1],privKey[2]],Pm,privKey[7]))"
   ]
  },
  {
   "cell_type": "code",
   "execution_count": 160,
   "metadata": {},
   "outputs": [],
   "source": [
    "#A 899032443106465921 B 745977192800804106 p 1051129676017180999 \n",
    "#Q 540127693309210187 Q 547626402986451839 P 474853327894596912 P 696364976948956441 \n",
    "#C1 1029806611001703874 C1 641200053906280815 C2 784621230359049493 C2 613185836129273435 \n",
    "#M 9569093767723591 x 92619739148387228 k 114545422595536685"
   ]
  },
  {
   "cell_type": "markdown",
   "metadata": {},
   "source": [
    "Test cases in the format `<line>` = A B p xcoo(C1) ycoo(C1) xcoo(C2) ycoo(C2) M"
   ]
  },
  {
   "cell_type": "code",
   "execution_count": 5,
   "metadata": {},
   "outputs": [
    {
     "name": "stdout",
     "output_type": "stream",
     "text": [
      "A 899032443106465921 B 745977192800804106 p 1051129676017180999 Q 540127693309210187 Q 547626402986451839 P 474853327894596912 P 696364976948956441 C1 1029806611001703874 C1 641200053906280815 C2 784621230359049493 C2 613185836129273435 M 9569093767723591 x 92619739148387228 k 114545422595536685 \n",
      "\n",
      "A 752088162096187080934142976478 B 370122817042813681539761747112 p 1048502047383960672100092647723 Q 83123795597274351637914359428 Q 215874633574767146891152924606 P 323209926857909094500912048157 P 1038600871959979227333834155345 C1 669459722513693716162336460272 C1 957114785967568324961076464737 C2 826249523446153891855058705684 C2 1045577317798524813862272657409 M 10351808035934510944716913823 x 575177440943095091923184869383 k 1019873534686905699268229824154 \n",
      "\n",
      "A 812266713097 B 534677218501 p 864635753647 Q 88713923498 Q 424731338099 P 357562737327 P 547267063334 C1 103145535587 C1 185417455723 C2 852848923721 C2 634478600720 M 7931833906 x 136562387893 k 49670808327 \n",
      "\n",
      "A 8102082150438213 B 571862787718604256 p 705350482846185983 Q 539470405190106560 Q 547320043545866181 P 77947752014150812 P 502408668414627772 C1 352868109827362029 C1 326298431317089326 C2 416359719614172078 C2 483506048922986886 M 3847588385131043 x 624732714440763847 k 483290167100149122 \n",
      "\n",
      "A 207912434294692825 B 319950954432364414 p 366171949828903303 Q 321648691693453360 Q 59930356033641772 P 14442931111351490 P 294578714566945642 C1 40532630518532352 C1 183700663101537243 C2 343255297119814011 C2 81355874588369379 M 2133340136017988 x 38056824261676829 k 36004316724147405 \n",
      "\n",
      "A 49317180254 B 26302289379 p 74480111339 Q 74093929337 Q 48062922450 P 23787046302 P 44745026739 C1 58084409048 C1 57889470983 C2 58236172146 C2 35510308557 M 454922141 x 15272959968 k 8450705511 \n",
      "\n",
      "A 11251043685995849265331816395 B 11697202430744000221102470008 p 36569172221409041336018608871 Q 30879948003895535841921185417 Q 31985030292251510421031102488 P 35387268475078200040221357398 P 7204900717740273723080412873 C1 15666095235866098128217251300 C1 30034375926351405467290190459 C2 26403228704608192348127860110 C2 1812058383301122476686020035 M 39517872001617873630203893 x 19144821615788719120936301991 k 6875096127668192440381085507 \n",
      "\n",
      "A 88047879184585054605713523933 B 226482081593116819978718252766 p 644399409101011907708134825771 Q 74909452416743112714418049931 Q 151614615072741179180548454905 P 547466694875800154851319188009 P 44621564019413597183028252286 C1 329089791459796950826259693755 C1 24245800755632297496938435141 C2 503023276450898982429142433703 C2 42345657582761176606250817695 M 418793152412391382472874940 x 61646604560927330689915172606 k 64125803560793876522270323248 \n",
      "\n",
      "A 1489024966015723211845534494 B 5995718418204171955255715107 p 8185387416823975273835153263 Q 4010374762589926506461547601 Q 1425749315445399441533352981 P 7156259639869144726548846044 P 4446564200398497451174905572 C1 2004539123556149829958339869 C1 5885613358444107944777705476 C2 7419664660580628771977688395 C2 3150000570925370040891686580 M 8246186291758782522300835 x 1496906478494928453996129713 k 120396046059548357986442709 \n",
      "\n",
      "A 171738092755 B 574424417390 p 771390966943 Q 549706278577 Q 474250060732 P 584138150201 P 631920588899 C1 70461279882 C1 178775459061 C2 411736153308 C2 30477499008 M 766221002 x 310639212 k 354975420 \n",
      "\n",
      "A 341132918127576202221916488555 B 150419928413293015143351049810 p 832741513148665203957970287319 Q 757812421947907542040167921579 Q 184630329972105126183905686913 P 170915653168246105838546563203 P 679001215209687044550018289629 C1 576005025175343008159568754374 C1 269873702796505759195134437059 C2 341799338028381641255981654791 C2 246498805673610692303158830056 M 3534667434493701111714248039 x 618666411873523386244383851439 k 779551004265926254080278677534 \n",
      "\n",
      "A 361472319794527294990429114027 B 446281710675003065077052490040 p 548419452486061401120274407011 Q 313765484663498362261998868623 Q 406008126388281250610652563807 P 238131328688541335017101797247 P 155353956887221196756208563192 C1 323281147743858599212942829242 C1 32530874804042995500569810394 C2 389146214666950121106269122153 C2 119298761450606908448252202488 M 2783619948876980900342595520 x 350976587662305402648455944374 k 485339933835912918399373694939 \n",
      "\n",
      "A 179220894666518242 B 2257724762384741 p 222218324942672887 Q 108344212544738681 Q 21640607506094518 P 131940256024815764 P 98962334827364530 C1 135406357068715689 C1 81455311178535915 C2 82657063544340223 C2 23077637062291257 M 37191120577892 x 52072281087053042 k 190233080646688218 \n",
      "\n",
      "A 641904794642 B 839381641602 p 1003211228023 Q 242335865750 Q 411191498458 P 591338293751 P 18365151470 C1 970469890292 C1 509575292036 C2 940549687330 C2 960157155186 M 5929337334 x 109162952434 k 443947705692 \n",
      "\n",
      "A 256179251910 B 108406132571 p 1034061275743 Q 126599240953 Q 902293272042 P 577970310616 P 529867332543 C1 951328857877 C1 732456276071 C2 281615172375 C2 43480608726 M 8748944650 x 80505784195 k 19166302908 \n",
      "\n",
      "A 633673811398 B 164416497581 p 680159441539 Q 462454286917 Q 599673067013 P 565242994982 P 30325381234 C1 490307966302 C1 662762874376 C2 197334252952 C2 165365365021 M 2784784881 x 379753546465 k 338133629974 \n",
      "\n",
      "A 30432913335765506456287108667 B 27562897453494823814429129769 p 34466613571667290863788996483 Q 12261534031559113847790710360 Q 27499326529358009688142214218 P 3049261557347064579069499762 P 32969246860768767208696706724 C1 17838803180616897522677878483 C1 10053475744763231397822165332 C2 6746520043123407291733457115 C2 6642380877801181533856178292 M 231398324152280921591493323 x 7445167900532626871454195085 k 3719216026300050494311817577 \n",
      "\n",
      "A 307253664016532308 B 607699805185055895 p 1095637795982486591 Q 308476491732605913 Q 344253999962668920 P 737671041341590805 P 132692744269097063 C1 918377953648390107 C1 360383367164557104 C2 761935004858755395 C2 480707025309074983 M 270100463144083 x 124067012938203903 k 24445992227695976 \n",
      "\n",
      "A 404870750536130479247037343921 B 131710013679047059477498028278 p 959465226705136961151400123223 Q 899368451012955189479263712392 Q 910994670247235841407743973170 P 272923083692000381930548825328 P 353455707143513489010530634602 C1 350190627028108871499020895365 C1 389029842011034758291120754768 C2 35929511527101583187957047571 C2 849327520613774732532440679965 M 3305398806700320688683352437 x 39679348856530457488193840906 k 73930767699777213072908068763 \n",
      "\n",
      "A 926656496630 B 632798987745 p 946965469871 Q 927509842352 Q 119405027275 P 188960722592 P 765326225277 C1 201654709315 C1 390662986680 C2 501696051609 C2 813133534041 M 6118462251 x 158825776279 k 855651743905 \n",
      "\n",
      "A 204531571323569388356346065337 B 104748231453907632210743990406 p 368950544978996545974651335371 Q 321436664242673574949309145805 Q 48457869355417887118867803511 P 36709666980326041963317199499 P 188978830950739920764957846414 C1 245879796166862388108424905537 C1 340219270472423623262964334953 C2 327500151394207251536763261900 C2 163686874017809867779909009838 M 2424367413365168845492184735 x 336678662685523047364920773509 k 211356763598367812720305683629 \n",
      "\n"
     ]
    }
   ],
   "source": [
    "import random\n",
    "kappa_default=100\n",
    "def EncodePoint(E,M,kappa=kappa_default): #default choice of \n",
    "    p=E.base_field().characteristic() #field characteristic\n",
    "    assert M <= p*1.0/kappa\n",
    "    pol=E.defining_polynomial()\n",
    "    for i in range(0,kappa):\n",
    "        val=-pol([kappa*M+i,0,1])\n",
    "        if val.is_square():\n",
    "            sq=sqrt(val)\n",
    "            P=E([kappa*M+i,sq,1])\n",
    "            break;\n",
    "    return P\n",
    "\n",
    "def RandABpC1C2M(size):\n",
    "    p=random_prime(2**size-1,proof=True,lbound=5)\n",
    "    A=randint(0,p-1)\n",
    "    B=randint(0,p-1)\n",
    "    try:\n",
    "        assert (p%4)==3\n",
    "        E=EllipticCurve([GF(p)(A),B])\n",
    "        Q=E.random_point()\n",
    "        Qord=Q.order()\n",
    "        assert log(Qord,2)>size/4\n",
    "        x=randint(1,Qord-1)\n",
    "        P=x*Q\n",
    "        M=randint(0,p//kappa_default-1)\n",
    "        PM=EncodePoint(E,M)\n",
    "        k=randint(1,Qord-1)\n",
    "        C1=k*Q\n",
    "        C2=PM+k*P\n",
    "        assert floor(int((C2-x*C1)[0])/kappa_default)==M\n",
    "        return \"A {} B {} p {} Q {} Q {} P {} P {} C1 {} C1 {} C2 {} C2 {} M {} x {} k {} \\n\".format(A,B,p,Q[0],Q[1],P[0],P[1],C1[0],C1[1],C2[0],C2[1],M,x,k)\n",
    "    except:\n",
    "        return None\n",
    "for _ in range(0,40):\n",
    "    s=RandABpC1C2M(random.choice([40,60,100]))\n",
    "    if not(s==None):\n",
    "        print(s)"
   ]
  },
  {
   "cell_type": "code",
   "execution_count": null,
   "metadata": {},
   "outputs": [],
   "source": []
  }
 ],
 "metadata": {
  "kernelspec": {
   "display_name": "Python 3",
   "language": "python",
   "name": "python3"
  },
  "language_info": {
   "codemirror_mode": {
    "name": "ipython",
    "version": 3
   },
   "file_extension": ".py",
   "mimetype": "text/x-python",
   "name": "python",
   "nbconvert_exporter": "python",
   "pygments_lexer": "ipython3",
   "version": "3.7.7"
  }
 },
 "nbformat": 4,
 "nbformat_minor": 2
}
