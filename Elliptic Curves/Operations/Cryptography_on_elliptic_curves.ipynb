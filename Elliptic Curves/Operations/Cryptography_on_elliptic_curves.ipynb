{
 "cells": [
  {
   "cell_type": "markdown",
   "metadata": {},
   "source": [
    "# Demo of cryptography on elliptic curves"
   ]
  },
  {
   "cell_type": "markdown",
   "metadata": {},
   "source": [
    "Let us initialize an elliptic curve with the following equation\n",
    "\n",
    "$$y^2=x^3+x+2$$"
   ]
  },
  {
   "cell_type": "markdown",
   "metadata": {},
   "source": [
    "When $x$ and $y$ belong to the ring $\\mathbb{Z}/5=\\{0,1,2,3,4\\}$ it is easy to find all solutions to the congruence $y^2\\equiv x^3+x+2(\\textrm{mod }5)$."
   ]
  },
  {
   "cell_type": "markdown",
   "metadata": {},
   "source": [
    "We perform both addition and multiplication in $\\mathbb{Z}/5$ in the usual $\\textrm{mod }5$ way. These two operations constitute a structure of a <b>field</b> on $\\mathbb{Z}/5$. We denote this structure as $\\mathbb{F}_{5}$. "
   ]
  },
  {
   "cell_type": "markdown",
   "metadata": {},
   "source": [
    "For example: $2+3=0$ in $\\mathbb{F}_{5}$. We can write both the addition and multiplication table:"
   ]
  },
  {
   "cell_type": "code",
   "execution_count": 1,
   "metadata": {},
   "outputs": [],
   "source": [
    "F5=GF(5)"
   ]
  },
  {
   "cell_type": "code",
   "execution_count": 2,
   "metadata": {},
   "outputs": [
    {
     "data": {
      "text/html": [
       "<html><script type=\"math/tex; mode=display\">\\newcommand{\\Bold}[1]{\\mathbf{#1}}\\left(\\begin{array}{rrrrrr}\n",
       "0 & 0 & 1 & 2 & 3 & 4 \\\\\n",
       "0 & 0 & 1 & 2 & 3 & 4 \\\\\n",
       "1 & 1 & 2 & 3 & 4 & 0 \\\\\n",
       "2 & 2 & 3 & 4 & 0 & 1 \\\\\n",
       "3 & 3 & 4 & 0 & 1 & 2 \\\\\n",
       "4 & 4 & 0 & 1 & 2 & 3\n",
       "\\end{array}\\right)</script></html>"
      ],
      "text/latex": [
       "\\begin{math}\n",
       "\\newcommand{\\Bold}[1]{\\mathbf{#1}}\\left(\\begin{array}{rrrrrr}\n",
       "0 & 0 & 1 & 2 & 3 & 4 \\\\\n",
       "0 & 0 & 1 & 2 & 3 & 4 \\\\\n",
       "1 & 1 & 2 & 3 & 4 & 0 \\\\\n",
       "2 & 2 & 3 & 4 & 0 & 1 \\\\\n",
       "3 & 3 & 4 & 0 & 1 & 2 \\\\\n",
       "4 & 4 & 0 & 1 & 2 & 3\n",
       "\\end{array}\\right)\n",
       "\\end{math}"
      ],
      "text/plain": [
       "[0 0 1 2 3 4]\n",
       "[0 0 1 2 3 4]\n",
       "[1 1 2 3 4 0]\n",
       "[2 2 3 4 0 1]\n",
       "[3 3 4 0 1 2]\n",
       "[4 4 0 1 2 3]"
      ]
     },
     "metadata": {},
     "output_type": "display_data"
    }
   ],
   "source": [
    "#addition table\n",
    "add=[[0]+[F5(i) for i in range(0,5)]]+[[F5(i)]+[F5(i)+F5(j) for j in range(0,5)] for i in range(0,5)];\n",
    "pretty_print(matrix(add))"
   ]
  },
  {
   "cell_type": "code",
   "execution_count": 4,
   "metadata": {},
   "outputs": [
    {
     "data": {
      "text/html": [
       "<html><script type=\"math/tex; mode=display\">\\newcommand{\\Bold}[1]{\\mathbf{#1}}\\left(\\begin{array}{rrrrr}\n",
       "0 & 1 & 2 & 3 & 4 \\\\\n",
       "1 & 1 & 2 & 3 & 4 \\\\\n",
       "2 & 2 & 4 & 1 & 3 \\\\\n",
       "3 & 3 & 1 & 4 & 2 \\\\\n",
       "4 & 4 & 3 & 2 & 1\n",
       "\\end{array}\\right)</script></html>"
      ],
      "text/latex": [
       "\\begin{math}\n",
       "\\newcommand{\\Bold}[1]{\\mathbf{#1}}\\left(\\begin{array}{rrrrr}\n",
       "0 & 1 & 2 & 3 & 4 \\\\\n",
       "1 & 1 & 2 & 3 & 4 \\\\\n",
       "2 & 2 & 4 & 1 & 3 \\\\\n",
       "3 & 3 & 1 & 4 & 2 \\\\\n",
       "4 & 4 & 3 & 2 & 1\n",
       "\\end{array}\\right)\n",
       "\\end{math}"
      ],
      "text/plain": [
       "[0 1 2 3 4]\n",
       "[1 1 2 3 4]\n",
       "[2 2 4 1 3]\n",
       "[3 3 1 4 2]\n",
       "[4 4 3 2 1]"
      ]
     },
     "metadata": {},
     "output_type": "display_data"
    }
   ],
   "source": [
    "#multiplication table\n",
    "mul=[[0]+[F5(i) for i in range(1,5)]]+[[F5(i)]+[F5(i)*F5(j) for j in range(1,5)] for i in range(1,5)];\n",
    "pretty_print(matrix(mul))"
   ]
  },
  {
   "cell_type": "code",
   "execution_count": 58,
   "metadata": {},
   "outputs": [],
   "source": [
    "E=EllipticCurve([GF(5)(1),2]);"
   ]
  },
  {
   "cell_type": "markdown",
   "metadata": {},
   "source": [
    "We generate all points on $E$ over the finite field $\\mathbb{F}_5$. Apart from the points of the form $(x,y)$ we have one additional point 'at infinity' which is the neutral point of the group law on $E$."
   ]
  },
  {
   "cell_type": "code",
   "execution_count": 64,
   "metadata": {},
   "outputs": [
    {
     "data": {
      "text/plain": [
       "[(0 : 1 : 0), (1 : 2 : 1), (1 : 3 : 1), (4 : 0 : 1)]"
      ]
     },
     "execution_count": 64,
     "metadata": {},
     "output_type": "execute_result"
    }
   ],
   "source": [
    "E.rational_points() #(x:y:1) - projective coordinates of the point (x,y); \n",
    "                    #(0:1:0) - point at infinity"
   ]
  },
  {
   "cell_type": "markdown",
   "metadata": {},
   "source": [
    "The group under consideration is formed from the set $E(\\mathbb{F}_{5})$ which consists of $3$ points\n",
    "$(1,2), (1,3)$ i $(4,0)$\n",
    "\n",
    "and one more point at 'infinity'.\n",
    "$(0:1:0)$ (the notation is different because this point has ''zero denominator'', which makes the form $(x,y)$ impossible to write."
   ]
  },
  {
   "cell_type": "code",
   "execution_count": 11,
   "metadata": {},
   "outputs": [],
   "source": [
    "P=E([1,2]) #we pick one of these points"
   ]
  },
  {
   "cell_type": "markdown",
   "metadata": {},
   "source": [
    "We add the point $P$ several times to itself. It will turn out that the points listed above are multiples of $P$.\n",
    "That means that the group $E(\\mathbb{F}_{5})$ is cyclic and generated by $P$!"
   ]
  },
  {
   "cell_type": "code",
   "execution_count": 14,
   "metadata": {},
   "outputs": [
    {
     "name": "stdout",
     "output_type": "stream",
     "text": [
      "(1 : 2 : 1)\n",
      "(4 : 0 : 1)\n",
      "(1 : 3 : 1)\n",
      "(0 : 1 : 0)\n"
     ]
    }
   ],
   "source": [
    "print(P)\n",
    "print(2*P)\n",
    "print(3*P)\n",
    "print(4*P)"
   ]
  },
  {
   "cell_type": "markdown",
   "metadata": {},
   "source": [
    "Algebraic group law on $E$ is expressed by a complicated formula which we reveal below."
   ]
  },
  {
   "cell_type": "code",
   "execution_count": 25,
   "metadata": {},
   "outputs": [],
   "source": [
    "Fx.<x>=FunctionField(GF(5))\n",
    "RY.<Y>=Fx[]\n",
    "Fy.<y>=Fx.extension(x^3+x+3-Y^2)\n",
    "Fw.<w>=FunctionField(Fy)\n",
    "RZ.<Z>=Fw[]\n",
    "Fz.<z>=Fw.extension(w^3+w+3-Z^2)"
   ]
  },
  {
   "cell_type": "code",
   "execution_count": 37,
   "metadata": {},
   "outputs": [
    {
     "data": {
      "text/plain": [
       "True"
      ]
     },
     "execution_count": 37,
     "metadata": {},
     "output_type": "execute_result"
    }
   ],
   "source": [
    "EF=EllipticCurve([Fz(1),3])\n",
    "P1=EF([x,y])\n",
    "P2=EF([w,z])\n",
    "\n",
    "(P1+P2)[0]==(1 + w + x + w^2*x + w*x^2 + 3*y*z)/(w^2 + 3*w*x + x^2)\n",
    "(P1+P2)[1]==(2*y + 3*w*y + w^3*y + x*y + 3*w^2*x*y + 3*z + 4*w*z + 2*x*z + 2*w*x^2*z + 4*x^3*z)/(w^3 + 2*w^2*x + 3*w*x^2 + 4*x^3)"
   ]
  },
  {
   "cell_type": "code",
   "execution_count": 38,
   "metadata": {},
   "outputs": [
    {
     "data": {
      "text/html": [
       "<html><script type=\"math/tex; mode=display\">\\newcommand{\\Bold}[1]{\\mathbf{#1}}\\left(\\left(\\frac{3 y}{w^{2} + 3 x w + x^{2}}\\right) z + \\frac{x w^{2} + \\left(x^{2} + 1\\right) w + x + 1}{w^{2} + 3 x w + x^{2}} : \\left(\\frac{\\left(2 x^{2} + 4\\right) w + 4 x^{3} + 2 x + 3}{w^{3} + 2 x w^{2} + 3 x^{2} w + 4 x^{3}}\\right) z + \\frac{y w^{3} + 3 x y w^{2} + 3 y w + \\left(x + 2\\right) y}{w^{3} + 2 x w^{2} + 3 x^{2} w + 4 x^{3}} : 1\\right)</script></html>"
      ],
      "text/plain": [
       "((3*y/(w^2 + 3*x*w + x^2))*z + (x*w^2 + (x^2 + 1)*w + x + 1)/(w^2 + 3*x*w + x^2) : (((2*x^2 + 4)*w + 4*x^3 + 2*x + 3)/(w^3 + 2*x*w^2 + 3*x^2*w + 4*x^3))*z + (y*w^3 + 3*x*y*w^2 + 3*y*w + (x + 2)*y)/(w^3 + 2*x*w^2 + 3*x^2*w + 4*x^3) : 1)"
      ]
     },
     "metadata": {},
     "output_type": "display_data"
    }
   ],
   "source": [
    "pretty_print(P1+P2)"
   ]
  },
  {
   "cell_type": "markdown",
   "metadata": {},
   "source": [
    "Addition of point on $E$ is complicated algebraically but intuitive geometrically. At the same time these computations can be performed fast on the computer."
   ]
  },
  {
   "cell_type": "code",
   "execution_count": 39,
   "metadata": {},
   "outputs": [
    {
     "data": {
      "text/html": [
       "<html><script type=\"math/tex; mode=display\">\\newcommand{\\Bold}[1]{\\mathbf{#1}}\\left(\\frac{4 x^{4} + 2 x^{2} + 4 x + 4}{x^{3} + x + 3} : \\left(\\frac{2 x^{6} + x + 4}{x^{6} + 2 x^{4} + x^{3} + x^{2} + x + 4}\\right) y : 1\\right)</script></html>"
      ],
      "text/plain": [
       "((4*x^4 + 2*x^2 + 4*x + 4)/(x^3 + x + 3) : ((2*x^6 + x + 4)/(x^6 + 2*x^4 + x^3 + x^2 + x + 4))*y : 1)"
      ]
     },
     "metadata": {},
     "output_type": "display_data"
    }
   ],
   "source": [
    "pretty_print(2*P1)"
   ]
  },
  {
   "cell_type": "markdown",
   "metadata": {},
   "source": [
    "* In principle, a curv above could be used for cryptographic purposes but the group under consideration has only $4$ elements which is obviously not safe enough for any reasonable coding.\n",
    "\n",
    "* What we need to change is first of all the field of definition of our curve.\n",
    "\n",
    "* In practice, we need points of orders going into millions."
   ]
  },
  {
   "cell_type": "markdown",
   "metadata": {},
   "source": [
    "## Encoding a plain text on the curve (Koblitz method).\n",
    "\n",
    "We encode our message $m$ as a point on the curve. The first coordinate is going to be $\\kappa\\cdot m+j$, where our message should be $m<p/\\kappa$ and $1\\leq j\\leq \\kappa$. This guarantees we will find a suitable point in the radnomized procedure (with chance of success $1-1/2^\\kappa$. Coordinate $y$ is chosen in such a way that $y^2=x^3+ax+b$, where $a,b,$ are fixed, and $x=\\kappa\\cdot m+j$ for a fixed $j$.\n"
   ]
  },
  {
   "cell_type": "code",
   "execution_count": 40,
   "metadata": {},
   "outputs": [],
   "source": [
    "#letter encoding (not reasonable, why?)\n",
    "def EncodePoint(E,char,kappa=100):\n",
    "    p=E.base_field().characteristic() #field characteristic\n",
    "    m=ord(char) #ASCII code\n",
    "    assert m <= p*1.0/kappa\n",
    "    pol=E.defining_polynomial()\n",
    "    for i in range(0,kappa):\n",
    "        val=-pol([kappa*m+i,0,1])\n",
    "        if val.is_square():\n",
    "            sq=sqrt(val)\n",
    "            P=E([kappa*m+i,sq,1])\n",
    "            break;\n",
    "        \n",
    "    return P"
   ]
  },
  {
   "cell_type": "code",
   "execution_count": 41,
   "metadata": {},
   "outputs": [
    {
     "data": {
      "text/plain": [
       "(10901 : 42332909399061611549525231919913 : 1)"
      ]
     },
     "execution_count": 41,
     "metadata": {},
     "output_type": "execute_result"
    }
   ],
   "source": [
    "EE=EllipticCurve([GF(160174168162444816244821958911111)(1),3])\n",
    "EncodePoint(EE,\"m\")"
   ]
  },
  {
   "cell_type": "code",
   "execution_count": 42,
   "metadata": {},
   "outputs": [
    {
     "data": {
      "text/plain": [
       "32.205"
      ]
     },
     "execution_count": 42,
     "metadata": {},
     "output_type": "execute_result"
    }
   ],
   "source": [
    "RealField(20)(log(EE.order(),10)) #EE.order() ~= 10^32, is a large number!"
   ]
  },
  {
   "cell_type": "code",
   "execution_count": 170,
   "metadata": {},
   "outputs": [
    {
     "data": {
      "text/plain": [
       "2^3 * 5 * 41 * 59 * 269 * 1232450832397 * 4993151403869"
      ]
     },
     "execution_count": 170,
     "metadata": {},
     "output_type": "execute_result"
    }
   ],
   "source": [
    "#unfortunately the cyclic subgroups here are of rather small orde which means we\n",
    "#should choose a better curve\n",
    "EE.order().factor()"
   ]
  },
  {
   "cell_type": "markdown",
   "metadata": {},
   "source": [
    "Decoding procedure is very simple. We compute the floor of the expression $x/\\kappa$, where $x$ is the first coordinate of a point."
   ]
  },
  {
   "cell_type": "code",
   "execution_count": 43,
   "metadata": {},
   "outputs": [],
   "source": [
    "def DecodePoint(P,kappa=100):\n",
    "    x=int(P[0])\n",
    "    return chr(int(x/kappa))"
   ]
  },
  {
   "cell_type": "markdown",
   "metadata": {},
   "source": [
    "Exemplary coding and decoding of a point (points on the curve are not displayed)"
   ]
  },
  {
   "cell_type": "code",
   "execution_count": 44,
   "metadata": {},
   "outputs": [
    {
     "name": "stdout",
     "output_type": "stream",
     "text": [
      "True\n"
     ]
    }
   ],
   "source": [
    "alphabet=[ \"a\", \"b\", \"c\", \"d\", \"e\", \"f\", \"g\", \"h\", \"i\", \"j\", \"k\", \"l\", \"m\", \"n\", \"o\", \n",
    "\"p\", \"q\", \"r\", \"s\", \"t\", \"u\", \"v\", \"w\", \"x\", \"y\", \"z\" ];\n",
    "EE=EllipticCurve([GF(160174168162444816244821958911111)(1),3]);\n",
    "print([DecodePoint(EncodePoint(EE,x)) for x in alphabet])==alphabet"
   ]
  },
  {
   "cell_type": "markdown",
   "metadata": {},
   "source": [
    "<b>Hint</b>: The orders of points are not always equal to the order of the group, which makes our cryptosystem weaker. It is reasonable to choose our group in such a way that there are just a few prime factors in the group order.\n"
   ]
  },
  {
   "cell_type": "code",
   "execution_count": 45,
   "metadata": {},
   "outputs": [
    {
     "data": {
      "text/plain": [
       "[False,\n",
       " True,\n",
       " False,\n",
       " True,\n",
       " False,\n",
       " False,\n",
       " False,\n",
       " False,\n",
       " True,\n",
       " True,\n",
       " False,\n",
       " False,\n",
       " False,\n",
       " True,\n",
       " False,\n",
       " True,\n",
       " False,\n",
       " True,\n",
       " False,\n",
       " False,\n",
       " True,\n",
       " True,\n",
       " False,\n",
       " False,\n",
       " True,\n",
       " True]"
      ]
     },
     "execution_count": 45,
     "metadata": {},
     "output_type": "execute_result"
    }
   ],
   "source": [
    "pp=[(EncodePoint(EE,x)) for x in alphabet]\n",
    "[x.order()==EE.order() for x in pp]"
   ]
  },
  {
   "cell_type": "markdown",
   "metadata": {},
   "source": [
    "# Elliptic ElGamal cryptosystem\n",
    "\n",
    "Public key: selected elliptic curve $E:y^2=x^3+ax+b$, fixed point $P$ and point $B$ which is an $s$-multiple of $P$.\n",
    "        \n",
    "Private key: integer $s$.\n",
    "\n",
    "Alice sends a message $M$ to Bob and encodes it as a sequence of symbols. For simplicity we assume that $\\tilde{m}$ represents a single letter (why this is bad, explain). Symbol $\\tilde{m}$ is encoded as a point on the elliptic curve $E$."
   ]
  },
  {
   "cell_type": "code",
   "execution_count": 46,
   "metadata": {},
   "outputs": [],
   "source": [
    "def EncodeElGamal(char,public_key):\n",
    "    E,P,B=public_key\n",
    "    m=EncodePoint(E,char)\n",
    "    k=randint(1,10^10)\n",
    "    M1=k*P\n",
    "    M2=m+k*B\n",
    "    return (M1,M2)"
   ]
  },
  {
   "cell_type": "markdown",
   "metadata": {},
   "source": [
    "Bob generates his private key s and a public key for Alice."
   ]
  },
  {
   "cell_type": "code",
   "execution_count": 48,
   "metadata": {},
   "outputs": [],
   "source": [
    "s=2020; #this is secret (better to choose randomly)\n",
    "E=EllipticCurve([GF(160174168162444816244821958911111)(1),3])\n",
    "P=E.gens()[0] #this is one of the large order generators\n",
    "BobPublicKey=(E,P,s*P) #generating a public key is fast"
   ]
  },
  {
   "cell_type": "code",
   "execution_count": 49,
   "metadata": {},
   "outputs": [
    {
     "name": "stdout",
     "output_type": "stream",
     "text": [
      "1000 loops, best of 3: 696 µs per loop\n"
     ]
    }
   ],
   "source": [
    "%timeit BobPublicKey=(E,P,s*P)"
   ]
  },
  {
   "cell_type": "markdown",
   "metadata": {},
   "source": [
    "Now, we only need to write a decryption procedure of the ElGamal protocol."
   ]
  },
  {
   "cell_type": "code",
   "execution_count": 50,
   "metadata": {},
   "outputs": [],
   "source": [
    "def DecodeElGamal(encoded_message,secret):\n",
    "    M1,M2=encoded_message\n",
    "    m=M2-secret*M1\n",
    "    return DecodePoint(m)"
   ]
  },
  {
   "cell_type": "markdown",
   "metadata": {},
   "source": [
    "## Testing:"
   ]
  },
  {
   "cell_type": "code",
   "execution_count": 51,
   "metadata": {},
   "outputs": [
    {
     "name": "stdout",
     "output_type": "stream",
     "text": [
      "Cryptogram:\n",
      "((133383931880786219793674923743411 : 134099150139626582176451473826987 : 1), (2564428787381749704048423157449 : 55030316571076707898368168964870 : 1))\n"
     ]
    }
   ],
   "source": [
    "encrypted_char=EncodeElGamal(\"a\",BobPublicKey)\n",
    "print(\"Cryptogram:\")\n",
    "print(encrypted_char)"
   ]
  },
  {
   "cell_type": "code",
   "execution_count": 53,
   "metadata": {},
   "outputs": [
    {
     "name": "stdout",
     "output_type": "stream",
     "text": [
      "Plain text\n",
      "a\n"
     ]
    }
   ],
   "source": [
    "decoded_char=DecodeElGamal(encrypted_char,s);\n",
    "print(\"Plain text\")\n",
    "print(decoded_char)"
   ]
  },
  {
   "cell_type": "markdown",
   "metadata": {},
   "source": [
    "## Sending a longer message"
   ]
  },
  {
   "cell_type": "code",
   "execution_count": 54,
   "metadata": {},
   "outputs": [],
   "source": [
    "#secret message\n",
    "message=\"Santa Claus is coming to town!\";"
   ]
  },
  {
   "cell_type": "markdown",
   "metadata": {},
   "source": [
    "Preparing a message"
   ]
  },
  {
   "cell_type": "code",
   "execution_count": 55,
   "metadata": {},
   "outputs": [],
   "source": [
    "#secret computation on Alice's computer\n",
    "cipher=[];\n",
    "for i in [0..len(message)-1]:\n",
    "    cipher.append(EncodeElGamal(message[i],BobPublicKey))"
   ]
  },
  {
   "cell_type": "markdown",
   "metadata": {},
   "source": [
    "Our ciphertext looks complicated enough"
   ]
  },
  {
   "cell_type": "code",
   "execution_count": 56,
   "metadata": {
    "scrolled": true
   },
   "outputs": [
    {
     "name": "stdout",
     "output_type": "stream",
     "text": [
      "[((14132705556334431680761941110726 : 77320659951762150521827460340460 : 1), (2564831799005801545927062120964 : 145470655782571136804270900956141 : 1)), ((9331444413030074282522930723029 : 28515237105276136198925521231126 : 1), (94270808769653222649546349443185 : 6968998331059861763163204283383 : 1)), ((1510366906613463424932101316179 : 74383950846419854464903191012436 : 1), (33207632288535007640416446032396 : 157011724040381235215889473838645 : 1)), ((116529027617008692725946813431971 : 108506615088573879108122566534114 : 1), (47962969080825261517542671430616 : 62921089135360218387992378056085 : 1)), ((79648026742559481536679751654853 : 80583208739896649098849246368221 : 1), (36424428948635394700528120513331 : 155471446352486592796336204538064 : 1)), ((157889292088311381370466774392856 : 115307156526318243389962397409460 : 1), (86942706919283680462689201405939 : 65749198933562169264967815972029 : 1)), ((95133270475775545636252316463531 : 44400977803625420808890761942009 : 1), (96101799464402233692199354919668 : 77948118617274023289285955438795 : 1)), ((113421023089842529224265798787418 : 88835216229687975443851433747816 : 1), (158308793135990769571779629608770 : 152841872494950998105920569494111 : 1)), ((97672868758930594481838030426166 : 15508067995026216633267484908123 : 1), (29031201826480835532376501751501 : 129662867166850283625461279117521 : 1)), ((55857877596975174738237395588800 : 1670962863697529991714401809800 : 1), (24426454566615511171448281277853 : 119401118369101896163680942914596 : 1)), ((148365723127228355657721009359662 : 126569341113850083539966465798562 : 1), (5479782580123004097961275277410 : 142179864756911791211573329310683 : 1)), ((83024466273857139070686360388553 : 68889477250710143975500718566614 : 1), (140309237673768686517795843781088 : 39088946849296018293823178637968 : 1)), ((149281968344799740000516224311803 : 51525344245091690167914629399952 : 1), (91827371001734691277040197512496 : 14873671589511069052791005487728 : 1)), ((7560571438268504624044649272498 : 106690103023580612892860596110192 : 1), (4107058325204432610501718102490 : 59022520974931859170520235707656 : 1)), ((138842318078076476760735953105736 : 34114312189173823105178350695556 : 1), (86277232713779165257132585073212 : 57939228822537852397120447276973 : 1)), ((3900086734040594159010539246300 : 50870987123191078792023983324055 : 1), (65151392252886139469846884117494 : 159550426121562844086052005798719 : 1)), ((148550134475820036134835414244232 : 48788361217343960836161841808904 : 1), (12963654542621704122983195326651 : 19522398991116760894480109628018 : 1)), ((127565903025049249927759218103369 : 108548857329130871754276561967101 : 1), (18976476220687898058371244234117 : 30483336479991085226761965060717 : 1)), ((43300028732536451267992276128723 : 101844036337886984622136498635460 : 1), (90045037647613396684737362278455 : 16918839039141864316167426392488 : 1)), ((82742735775871528391155208233930 : 70236789121026433407206830481631 : 1), (72035501183506272884446606645827 : 41085583294600627162696738986915 : 1)), ((103942631300775821519918066137590 : 69879978634331422253033403546257 : 1), (20073135340396676893278231764518 : 11736424302258533181565025458000 : 1)), ((24334144085079237677361257153976 : 112584848740215545002418123694109 : 1), (76697101297770898229656303358083 : 147114185152886994057919309643371 : 1)), ((17265661784677216978255794049934 : 32444647308750134320246234340874 : 1), (155054421852934786517467802595097 : 149495596281708791345532356655202 : 1)), ((118873766931382890546635039875687 : 64691775245445001339268057778594 : 1), (40067048715172943097160633090717 : 45426388638490172055689391018660 : 1)), ((31699283990111757069901235154838 : 38702356630083703376904701402596 : 1), (53309584913081760314849652554237 : 48001643903312560442717104630425 : 1)), ((31806269245837044261207316449754 : 106352410272132427053019336373145 : 1), (73182797452814568168440506952760 : 32050023814822203469117559080064 : 1)), ((114064373586949391572957896820832 : 146609516362601688484676575961854 : 1), (120377965408603768723648377995206 : 58694241632106757094999104111964 : 1)), ((56746435648375851056167330876009 : 137398703603684397993180729818292 : 1), (49552555484728679551081351688829 : 45889609296889547978159161329579 : 1)), ((48041556064903026716259408585507 : 57732177815646654930751737021144 : 1), (103236415413003640091636507522703 : 60572089336640943791250610952498 : 1)), ((91271877553477709247117326338589 : 76121291151491347529397378104272 : 1), (71906557959190383300800542507266 : 121964321515679713091189944218139 : 1))]\n"
     ]
    }
   ],
   "source": [
    "print(cipher)"
   ]
  },
  {
   "cell_type": "markdown",
   "metadata": {},
   "source": [
    "We send our cipher through a public channel. If no one guessed our secret key $s$, it will be very hard to get your hands on the message (DLP type problem)."
   ]
  },
  {
   "cell_type": "markdown",
   "metadata": {},
   "source": [
    "Deciphering happens on Bob's computer with the help of the secret key $s$."
   ]
  },
  {
   "cell_type": "code",
   "execution_count": 57,
   "metadata": {},
   "outputs": [
    {
     "name": "stdout",
     "output_type": "stream",
     "text": [
      "Santa Claus is coming to town!\n"
     ]
    }
   ],
   "source": [
    "#Bob's deciphering procedure\n",
    "plain_text=[DecodeElGamal(char,s) for char in cipher]\n",
    "print(''.join(plain_text))"
   ]
  },
  {
   "cell_type": "markdown",
   "metadata": {},
   "source": [
    "Exercise: Why the encoding scheme: one symbol --> one point on the elliptic curve is not safe. How many unique points will appear in the cryptogram? Can you perform a statistical analysis on the ciphertext?\n",
    "\n",
    "Improve the scheme by changing how the letters are converted to points on the curves."
   ]
  },
  {
   "cell_type": "code",
   "execution_count": null,
   "metadata": {},
   "outputs": [],
   "source": []
  }
 ],
 "metadata": {
  "kernelspec": {
   "display_name": "SageMath 9.2",
   "language": "sage",
   "name": "sagemath"
  },
  "language_info": {
   "codemirror_mode": {
    "name": "ipython",
    "version": 3
   },
   "file_extension": ".py",
   "mimetype": "text/x-python",
   "name": "python",
   "nbconvert_exporter": "python",
   "pygments_lexer": "ipython3",
   "version": "3.7.7"
  }
 },
 "nbformat": 4,
 "nbformat_minor": 2
}
