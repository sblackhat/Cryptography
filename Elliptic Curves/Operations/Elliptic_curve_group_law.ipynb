{
 "cells": [
  {
   "cell_type": "markdown",
   "metadata": {},
   "source": [
    "# General addition formula on elliptic curves"
   ]
  },
  {
   "cell_type": "code",
   "execution_count": 1,
   "metadata": {},
   "outputs": [],
   "source": [
    "#some technical setup\n",
    "R.<x1,y1,x2,y2,a,b> = PolynomialRing(QQ, 'x1,y1,x2,y2,a,b')\n",
    "Ideal1 = ideal(y1^2-(x1^3+a*x1+b),y2^2-(x2^3+a*x2+b))\n",
    "Rquot.<X1,Y1,X2,Y2,A,B>=R.quotient_ring(Ideal1)\n",
    "Fquot=Rquot.fraction_field()\n",
    "E=EllipticCurve(Fquot,[A,B]);"
   ]
  },
  {
   "cell_type": "code",
   "execution_count": null,
   "metadata": {},
   "outputs": [],
   "source": [
    "#elliptic curve y^2=x^3+A*x+B\n",
    "E=EllipticCurve(Fquot,[A,B]);"
   ]
  },
  {
   "cell_type": "code",
   "execution_count": 7,
   "metadata": {},
   "outputs": [],
   "source": [
    "#two abstract points on the curve E\n",
    "P=E.point([X1,Y1])\n",
    "Q=E.point([X2,Y2])"
   ]
  },
  {
   "cell_type": "code",
   "execution_count": 8,
   "metadata": {},
   "outputs": [
    {
     "data": {
      "text/plain": [
       "(X1 : Y1 : 1)"
      ]
     },
     "execution_count": 8,
     "metadata": {},
     "output_type": "execute_result"
    }
   ],
   "source": [
    "P"
   ]
  },
  {
   "cell_type": "code",
   "execution_count": 9,
   "metadata": {},
   "outputs": [
    {
     "data": {
      "text/plain": [
       "(X2 : Y2 : 1)"
      ]
     },
     "execution_count": 9,
     "metadata": {},
     "output_type": "execute_result"
    }
   ],
   "source": [
    "Q"
   ]
  },
  {
   "cell_type": "code",
   "execution_count": 10,
   "metadata": {},
   "outputs": [
    {
     "data": {
      "text/html": [
       "<html><script type=\"math/tex; mode=display\">\\newcommand{\\Bold}[1]{\\mathbf{#1}}\\left(\\frac{\\verb|X1^2*X2|\\phantom{\\verb!x!}\\verb|+|\\phantom{\\verb!x!}\\verb|X1*X2^2|\\phantom{\\verb!x!}\\verb|-|\\phantom{\\verb!x!}\\verb|2*Y1*Y2|\\phantom{\\verb!x!}\\verb|+|\\phantom{\\verb!x!}\\verb|X1*A|\\phantom{\\verb!x!}\\verb|+|\\phantom{\\verb!x!}\\verb|X2*A|\\phantom{\\verb!x!}\\verb|+|\\phantom{\\verb!x!}\\verb|2*B|}{\\verb|X1^2|\\phantom{\\verb!x!}\\verb|-|\\phantom{\\verb!x!}\\verb|2*X1*X2|\\phantom{\\verb!x!}\\verb|+|\\phantom{\\verb!x!}\\verb|X2^2|} : \\frac{\\verb|-3*X1*Y1*X2^2|\\phantom{\\verb!x!}\\verb|+|\\phantom{\\verb!x!}\\verb|3*X1^2*X2*Y2|\\phantom{\\verb!x!}\\verb|+|\\phantom{\\verb!x!}\\verb|Y1^2*Y2|\\phantom{\\verb!x!}\\verb|-|\\phantom{\\verb!x!}\\verb|Y1*Y2^2|\\phantom{\\verb!x!}\\verb|-|\\phantom{\\verb!x!}\\verb|X1*Y1*A|\\phantom{\\verb!x!}\\verb|-|\\phantom{\\verb!x!}\\verb|2*Y1*X2*A|\\phantom{\\verb!x!}\\verb|+|\\phantom{\\verb!x!}\\verb|2*X1*Y2*A|\\phantom{\\verb!x!}\\verb|+|\\phantom{\\verb!x!}\\verb|X2*Y2*A|\\phantom{\\verb!x!}\\verb|-|\\phantom{\\verb!x!}\\verb|3*Y1*B|\\phantom{\\verb!x!}\\verb|+|\\phantom{\\verb!x!}\\verb|3*Y2*B|}{\\verb|-3*X1^2*X2|\\phantom{\\verb!x!}\\verb|+|\\phantom{\\verb!x!}\\verb|3*X1*X2^2|\\phantom{\\verb!x!}\\verb|+|\\phantom{\\verb!x!}\\verb|Y1^2|\\phantom{\\verb!x!}\\verb|-|\\phantom{\\verb!x!}\\verb|Y2^2|\\phantom{\\verb!x!}\\verb|-|\\phantom{\\verb!x!}\\verb|X1*A|\\phantom{\\verb!x!}\\verb|+|\\phantom{\\verb!x!}\\verb|X2*A|} : 1\\right)</script></html>"
      ],
      "text/plain": [
       "((X1^2*X2 + X1*X2^2 - 2*Y1*Y2 + X1*A + X2*A + 2*B)/(X1^2 - 2*X1*X2 + X2^2) : (-3*X1*Y1*X2^2 + 3*X1^2*X2*Y2 + Y1^2*Y2 - Y1*Y2^2 - X1*Y1*A - 2*Y1*X2*A + 2*X1*Y2*A + X2*Y2*A - 3*Y1*B + 3*Y2*B)/(-3*X1^2*X2 + 3*X1*X2^2 + Y1^2 - Y2^2 - X1*A + X2*A) : 1)"
      ]
     },
     "metadata": {},
     "output_type": "display_data"
    }
   ],
   "source": [
    "#addition of two distinct points\n",
    "pretty_print(P+Q)"
   ]
  },
  {
   "cell_type": "code",
   "execution_count": 11,
   "metadata": {},
   "outputs": [
    {
     "data": {
      "text/html": [
       "<html><script type=\"math/tex; mode=display\">\\newcommand{\\Bold}[1]{\\mathbf{#1}}\\left(\\frac{\\verb|X1*Y1^2|\\phantom{\\verb!x!}\\verb|-|\\phantom{\\verb!x!}\\verb|3*X1^2*A|\\phantom{\\verb!x!}\\verb|+|\\phantom{\\verb!x!}\\verb|A^2|\\phantom{\\verb!x!}\\verb|-|\\phantom{\\verb!x!}\\verb|9*X1*B|}{\\verb|4*Y1^2|} : \\frac{\\verb|Y1^4|\\phantom{\\verb!x!}\\verb|+|\\phantom{\\verb!x!}\\verb|3*X1*Y1^2*A|\\phantom{\\verb!x!}\\verb|-|\\phantom{\\verb!x!}\\verb|9*X1^2*A^2|\\phantom{\\verb!x!}\\verb|-|\\phantom{\\verb!x!}\\verb|A^3|\\phantom{\\verb!x!}\\verb|+|\\phantom{\\verb!x!}\\verb|18*Y1^2*B|\\phantom{\\verb!x!}\\verb|-|\\phantom{\\verb!x!}\\verb|27*X1*A*B|\\phantom{\\verb!x!}\\verb|-|\\phantom{\\verb!x!}\\verb|27*B^2|}{\\verb|8*Y1^3|} : 1\\right)</script></html>"
      ],
      "text/plain": [
       "((X1*Y1^2 - 3*X1^2*A + A^2 - 9*X1*B)/(4*Y1^2) : (Y1^4 + 3*X1*Y1^2*A - 9*X1^2*A^2 - A^3 + 18*Y1^2*B - 27*X1*A*B - 27*B^2)/(8*Y1^3) : 1)"
      ]
     },
     "metadata": {},
     "output_type": "display_data"
    }
   ],
   "source": [
    "#doubling formula for a point P\n",
    "pretty_print(2*P)"
   ]
  },
  {
   "cell_type": "code",
   "execution_count": 17,
   "metadata": {},
   "outputs": [
    {
     "data": {
      "text/html": [
       "<html><script type=\"math/tex; mode=display\">\\newcommand{\\Bold}[1]{\\mathbf{#1}}\\left(\\verb|X1| : \\verb|-Y1| : 1\\right)</script></html>"
      ],
      "text/plain": [
       "(X1 : -Y1 : 1)"
      ]
     },
     "metadata": {},
     "output_type": "display_data"
    }
   ],
   "source": [
    "#opposite of a point\n",
    "pretty_print(-P)"
   ]
  },
  {
   "cell_type": "code",
   "execution_count": 13,
   "metadata": {},
   "outputs": [
    {
     "data": {
      "text/html": [
       "<html><script type=\"math/tex; mode=display\">\\newcommand{\\Bold}[1]{\\mathbf{#1}}\\left(\\frac{\\verb|256*Y1^14|\\phantom{\\verb!x!}\\verb|-|\\phantom{\\verb!x!}\\verb|3840*X1*Y1^12*A|\\phantom{\\verb!x!}\\verb|+|\\phantom{\\verb!x!}\\verb|14592*X1^2*Y1^10*A^2|\\phantom{\\verb!x!}\\verb|-|\\phantom{\\verb!x!}\\verb|1792*Y1^10*A^3|\\phantom{\\verb!x!}\\verb|+|\\phantom{\\verb!x!}\\verb|4096*X1*Y1^8*A^4|\\phantom{\\verb!x!}\\verb|-|\\phantom{\\verb!x!}\\verb|25344*Y1^12*B|\\phantom{\\verb!x!}\\verb|+|\\phantom{\\verb!x!}\\verb|50688*X1*Y1^10*A*B|\\phantom{\\verb!x!}\\verb|-|\\phantom{\\verb!x!}\\verb|20736*X1^2*Y1^8*A^2*B|\\phantom{\\verb!x!}\\verb|+|\\phantom{\\verb!x!}\\verb|3840*Y1^8*A^3*B|\\phantom{\\verb!x!}\\verb|+|\\phantom{\\verb!x!}\\verb|62208*Y1^10*B^2|\\phantom{\\verb!x!}\\verb|-|\\phantom{\\verb!x!}\\verb|34560*X1*Y1^8*A*B^2|\\phantom{\\verb!x!}\\verb|-|\\phantom{\\verb!x!}\\verb|20736*Y1^8*B^3|}{\\verb|2304*X1^2*Y1^12|\\phantom{\\verb!x!}\\verb|+|\\phantom{\\verb!x!}\\verb|4608*Y1^12*A|\\phantom{\\verb!x!}\\verb|-|\\phantom{\\verb!x!}\\verb|3840*X1*Y1^10*A^2|\\phantom{\\verb!x!}\\verb|-|\\phantom{\\verb!x!}\\verb|3840*X1^2*Y1^8*A^3|\\phantom{\\verb!x!}\\verb|+|\\phantom{\\verb!x!}\\verb|13824*X1^2*Y1^10*B|\\phantom{\\verb!x!}\\verb|+|\\phantom{\\verb!x!}\\verb|256*Y1^8*A^4|\\phantom{\\verb!x!}\\verb|+|\\phantom{\\verb!x!}\\verb|9216*Y1^10*A*B|\\phantom{\\verb!x!}\\verb|-|\\phantom{\\verb!x!}\\verb|20736*X1*Y1^8*A^2*B|\\phantom{\\verb!x!}\\verb|+|\\phantom{\\verb!x!}\\verb|20736*X1^2*Y1^8*B^2|\\phantom{\\verb!x!}\\verb|-|\\phantom{\\verb!x!}\\verb|13824*Y1^8*A*B^2|} : \\frac{\\verb|-65536*Y1^25|\\phantom{\\verb!x!}\\verb|-|\\phantom{\\verb!x!}\\verb|1179648*X1*Y1^23*A|\\phantom{\\verb!x!}\\verb|+|\\phantom{\\verb!x!}\\verb|14745600*X1^2*Y1^21*A^2|\\phantom{\\verb!x!}\\verb|-|\\phantom{\\verb!x!}\\verb|19660800*Y1^21*A^3|\\phantom{\\verb!x!}\\verb|+|\\phantom{\\verb!x!}\\verb|37945344*X1*Y1^19*A^4|\\phantom{\\verb!x!}\\verb|-|\\phantom{\\verb!x!}\\verb|12386304*X1^2*Y1^17*A^5|\\phantom{\\verb!x!}\\verb|-|\\phantom{\\verb!x!}\\verb|14155776*Y1^23*B|\\phantom{\\verb!x!}\\verb|+|\\phantom{\\verb!x!}\\verb|81395712*X1*Y1^21*A*B|\\phantom{\\verb!x!}\\verb|-|\\phantom{\\verb!x!}\\verb|159252480*X1^2*Y1^19*A^2*B|\\phantom{\\verb!x!}\\verb|+|\\phantom{\\verb!x!}\\verb|196608*Y1^17*A^6|\\phantom{\\verb!x!}\\verb|+|\\phantom{\\verb!x!}\\verb|110886912*Y1^19*A^3*B|\\phantom{\\verb!x!}\\verb|-|\\phantom{\\verb!x!}\\verb|100859904*X1*Y1^17*A^4*B|\\phantom{\\verb!x!}\\verb|+|\\phantom{\\verb!x!}\\verb|159252480*Y1^21*B^2|\\phantom{\\verb!x!}\\verb|-|\\phantom{\\verb!x!}\\verb|329121792*X1*Y1^19*A*B^2|\\phantom{\\verb!x!}\\verb|+|\\phantom{\\verb!x!}\\verb|238878720*X1^2*Y1^17*A^2*B^2|\\phantom{\\verb!x!}\\verb|-|\\phantom{\\verb!x!}\\verb|84934656*Y1^17*A^3*B^2|\\phantom{\\verb!x!}\\verb|-|\\phantom{\\verb!x!}\\verb|254803968*Y1^19*B^3|\\phantom{\\verb!x!}\\verb|+|\\phantom{\\verb!x!}\\verb|286654464*X1*Y1^17*A*B^3|\\phantom{\\verb!x!}\\verb|+|\\phantom{\\verb!x!}\\verb|143327232*Y1^17*B^4|}{\\verb|-1769472*Y1^24|\\phantom{\\verb!x!}\\verb|-|\\phantom{\\verb!x!}\\verb|3538944*X1*Y1^22*A|\\phantom{\\verb!x!}\\verb|+|\\phantom{\\verb!x!}\\verb|1769472*X1^2*Y1^20*A^2|\\phantom{\\verb!x!}\\verb|+|\\phantom{\\verb!x!}\\verb|7077888*Y1^20*A^3|\\phantom{\\verb!x!}\\verb|-|\\phantom{\\verb!x!}\\verb|4128768*X1*Y1^18*A^4|\\phantom{\\verb!x!}\\verb|-|\\phantom{\\verb!x!}\\verb|4128768*X1^2*Y1^16*A^5|\\phantom{\\verb!x!}\\verb|-|\\phantom{\\verb!x!}\\verb|14155776*Y1^22*B|\\phantom{\\verb!x!}\\verb|-|\\phantom{\\verb!x!}\\verb|10616832*X1*Y1^20*A*B|\\phantom{\\verb!x!}\\verb|+|\\phantom{\\verb!x!}\\verb|31850496*X1^2*Y1^18*A^2*B|\\phantom{\\verb!x!}\\verb|+|\\phantom{\\verb!x!}\\verb|65536*Y1^16*A^6|\\phantom{\\verb!x!}\\verb|+|\\phantom{\\verb!x!}\\verb|21233664*Y1^18*A^3*B|\\phantom{\\verb!x!}\\verb|-|\\phantom{\\verb!x!}\\verb|33619968*X1*Y1^16*A^4*B|\\phantom{\\verb!x!}\\verb|-|\\phantom{\\verb!x!}\\verb|31850496*Y1^20*B^2|\\phantom{\\verb!x!}\\verb|+|\\phantom{\\verb!x!}\\verb|31850496*X1*Y1^18*A*B^2|\\phantom{\\verb!x!}\\verb|+|\\phantom{\\verb!x!}\\verb|79626240*X1^2*Y1^16*A^2*B^2|\\phantom{\\verb!x!}\\verb|-|\\phantom{\\verb!x!}\\verb|28311552*Y1^16*A^3*B^2|\\phantom{\\verb!x!}\\verb|+|\\phantom{\\verb!x!}\\verb|95551488*X1*Y1^16*A*B^3|\\phantom{\\verb!x!}\\verb|+|\\phantom{\\verb!x!}\\verb|47775744*Y1^16*B^4|} : 1\\right)</script></html>"
      ],
      "text/plain": [
       "((256*Y1^14 - 3840*X1*Y1^12*A + 14592*X1^2*Y1^10*A^2 - 1792*Y1^10*A^3 + 4096*X1*Y1^8*A^4 - 25344*Y1^12*B + 50688*X1*Y1^10*A*B - 20736*X1^2*Y1^8*A^2*B + 3840*Y1^8*A^3*B + 62208*Y1^10*B^2 - 34560*X1*Y1^8*A*B^2 - 20736*Y1^8*B^3)/(2304*X1^2*Y1^12 + 4608*Y1^12*A - 3840*X1*Y1^10*A^2 - 3840*X1^2*Y1^8*A^3 + 13824*X1^2*Y1^10*B + 256*Y1^8*A^4 + 9216*Y1^10*A*B - 20736*X1*Y1^8*A^2*B + 20736*X1^2*Y1^8*B^2 - 13824*Y1^8*A*B^2) : (-65536*Y1^25 - 1179648*X1*Y1^23*A + 14745600*X1^2*Y1^21*A^2 - 19660800*Y1^21*A^3 + 37945344*X1*Y1^19*A^4 - 12386304*X1^2*Y1^17*A^5 - 14155776*Y1^23*B + 81395712*X1*Y1^21*A*B - 159252480*X1^2*Y1^19*A^2*B + 196608*Y1^17*A^6 + 110886912*Y1^19*A^3*B - 100859904*X1*Y1^17*A^4*B + 159252480*Y1^21*B^2 - 329121792*X1*Y1^19*A*B^2 + 238878720*X1^2*Y1^17*A^2*B^2 - 84934656*Y1^17*A^3*B^2 - 254803968*Y1^19*B^3 + 286654464*X1*Y1^17*A*B^3 + 143327232*Y1^17*B^4)/(-1769472*Y1^24 - 3538944*X1*Y1^22*A + 1769472*X1^2*Y1^20*A^2 + 7077888*Y1^20*A^3 - 4128768*X1*Y1^18*A^4 - 4128768*X1^2*Y1^16*A^5 - 14155776*Y1^22*B - 10616832*X1*Y1^20*A*B + 31850496*X1^2*Y1^18*A^2*B + 65536*Y1^16*A^6 + 21233664*Y1^18*A^3*B - 33619968*X1*Y1^16*A^4*B - 31850496*Y1^20*B^2 + 31850496*X1*Y1^18*A*B^2 + 79626240*X1^2*Y1^16*A^2*B^2 - 28311552*Y1^16*A^3*B^2 + 95551488*X1*Y1^16*A*B^3 + 47775744*Y1^16*B^4) : 1)"
      ]
     },
     "metadata": {},
     "output_type": "display_data"
    }
   ],
   "source": [
    "#triplication formula of a point P\n",
    "pretty_print(3*P)"
   ]
  }
 ],
 "metadata": {
  "kernelspec": {
   "display_name": "SageMath 9.2",
   "language": "sage",
   "name": "sagemath"
  },
  "language_info": {
   "codemirror_mode": {
    "name": "ipython",
    "version": 3
   },
   "file_extension": ".py",
   "mimetype": "text/x-python",
   "name": "python",
   "nbconvert_exporter": "python",
   "pygments_lexer": "ipython3",
   "version": "3.7.7"
  }
 },
 "nbformat": 4,
 "nbformat_minor": 2
}
