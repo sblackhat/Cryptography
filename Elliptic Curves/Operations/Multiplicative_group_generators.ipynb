{
 "cells": [
  {
   "cell_type": "markdown",
   "metadata": {},
   "source": [
    "# Multiplicative group $(\\mathbb{Z}/n)^{\\times}$\n",
    "\n",
    " $(\\mathbb{Z}/n)^{\\times} = \\{[a]_{n}: 1\\leq a\\leq n-1, GCD(a,n)=1\\}$\n",
    " \n",
    " Theorem:\n",
    " \n",
    "$|(\\mathbb{Z}/n)^{\\times}| = \\phi(n)$\n",
    "\n",
    "\n",
    "Totient function:\n",
    "$\\phi:\\mathbb{N}\\rightarrow\\mathbb{N}$\n",
    "\n",
    "1. For all $a,b\\in N$ such that $GCD(a,b)=1$, we have $\\phi(a\\cdot b)=\\phi(a)\\cdot\\phi(b)$\n",
    "2. For all $p,e\\in N$ such that $p$ is a prime and $e\\geq 0$, we have $\\phi(p^e)=p^{e-1}\\cdot(p-1) = p^{e}(1-\\frac{1}{p})$\n",
    "\n",
    "\n",
    "Corollary:\n",
    "\n",
    "$\\phi(n) = n\\cdot \\prod_{p\\mid n} (1-\\frac{1}{p})$, where the product runs over all primes $p$ dividing $n$."
   ]
  },
  {
   "cell_type": "markdown",
   "metadata": {},
   "source": [
    "## Task 1: implement this totient function"
   ]
  },
  {
   "cell_type": "code",
   "execution_count": 1,
   "metadata": {},
   "outputs": [],
   "source": [
    "def Totient(n):\n",
    "    tot=n\n",
    "    i=2\n",
    "    while (i*i <= n): #this part is applicable if power p exponent in n is greater than 1\n",
    "        if (n % i == 0):#notice here that the loop will enter this part when i is a prime number\n",
    "            while (n % i ==0):\n",
    "                n//=i\n",
    "            tot-=tot//i #phi(n) = n*(1-1/p_1)*...*(1-1/p_k) where p_i are primes dividing n\n",
    "        i+=1\n",
    "    #return tot this will work for number like 2^2 or 5^3*7^3 etc.\n",
    "    if n>1: #now n is prime\n",
    "        tot-=tot//n\n",
    "    return tot"
   ]
  },
  {
   "cell_type": "code",
   "execution_count": 2,
   "metadata": {},
   "outputs": [
    {
     "data": {
      "text/plain": [
       "400"
      ]
     },
     "execution_count": 2,
     "metadata": {},
     "output_type": "execute_result"
    }
   ],
   "source": [
    "Totient(1000)"
   ]
  },
  {
   "cell_type": "code",
   "execution_count": 11,
   "metadata": {},
   "outputs": [],
   "source": [
    "def ElementsOfMultGroup(n): #n>1\n",
    "    return [a for a in range(1,n) if gcd(a,n)==1]"
   ]
  },
  {
   "cell_type": "markdown",
   "metadata": {},
   "source": [
    "Numerical verification:\n",
    "\n",
    "Theorem:\n",
    " \n",
    "$|(\\mathbb{Z}/n)^{\\times}| = \\phi(n)$\n",
    "\n"
   ]
  },
  {
   "cell_type": "code",
   "execution_count": 10,
   "metadata": {},
   "outputs": [
    {
     "data": {
      "text/plain": [
       "True"
      ]
     },
     "execution_count": 10,
     "metadata": {},
     "output_type": "execute_result"
    }
   ],
   "source": [
    "all([len(ElementsOfMultGroup(n))==Totient(n) for n in range(2,1000)]) #numerical verification"
   ]
  },
  {
   "cell_type": "markdown",
   "metadata": {},
   "source": [
    "## Task 2: compute generators of the group $(\\mathbb{Z}/n)^{\\times}$"
   ]
  },
  {
   "cell_type": "markdown",
   "metadata": {},
   "source": [
    "### First algorithm:\n",
    "Simply apply a brute force"
   ]
  },
  {
   "cell_type": "markdown",
   "metadata": {},
   "source": [
    "Even in the brute force algorithm improve the speed of exponentiation!!"
   ]
  },
  {
   "cell_type": "code",
   "execution_count": 24,
   "metadata": {},
   "outputs": [],
   "source": [
    "def power_fast(x, n):\n",
    "    if n < 0:\n",
    "        x = x^(-1)\n",
    "        n = -n\n",
    "    if n == 0:\n",
    "        return x*(x^(-1))\n",
    "    y = 1\n",
    "    while n > 1:\n",
    "        if n % 2 == 0:\n",
    "            x = x * x #square the number if the exponent is even\n",
    "            n = n // 2; #divide by 2\n",
    "        else:\n",
    "            y = x * y; #otherwise multiply by x\n",
    "            x = x * x; #square\n",
    "            n = (n - 1) / 2 #modify the exponent\n",
    "    return x * y"
   ]
  },
  {
   "cell_type": "code",
   "execution_count": 13,
   "metadata": {},
   "outputs": [],
   "source": [
    "x=var('x')"
   ]
  },
  {
   "cell_type": "code",
   "execution_count": 16,
   "metadata": {},
   "outputs": [
    {
     "data": {
      "text/plain": [
       "x^17"
      ]
     },
     "execution_count": 16,
     "metadata": {},
     "output_type": "execute_result"
    }
   ],
   "source": [
    "x^17"
   ]
  },
  {
   "cell_type": "code",
   "execution_count": 18,
   "metadata": {},
   "outputs": [
    {
     "data": {
      "text/plain": [
       "x^17 == x^17"
      ]
     },
     "execution_count": 18,
     "metadata": {},
     "output_type": "execute_result"
    }
   ],
   "source": [
    "((((x^2)^2)^2)^2)*x==x^17 #logarithmic scale improvement!"
   ]
  },
  {
   "cell_type": "code",
   "execution_count": 19,
   "metadata": {},
   "outputs": [],
   "source": [
    "#Comment is that in Sage power_mod"
   ]
  },
  {
   "cell_type": "markdown",
   "metadata": {},
   "source": [
    "Why the brute force would work? So why taking high powers of all element would eventually reveal a generator (if it exists?)"
   ]
  },
  {
   "cell_type": "markdown",
   "metadata": {},
   "source": [
    "**Theorem (Euler):**\n",
    "Let $a$ be an integer and $n$ an integer such that $GCD(a,n)=1$. It follows that\n",
    "$$a^{\\phi(n)}\\equiv 1\\textrm{ mod }n.$$\n",
    "\n",
    "\n",
    "**Corollary**\n",
    "Eventualy every sequence of number $a, a^2, .... (\\textrm{ mod }n)$ eventually repeats!"
   ]
  },
  {
   "cell_type": "code",
   "execution_count": 31,
   "metadata": {},
   "outputs": [],
   "source": [
    "def PowersOfElement(a,n): #assume that GCD(a,n)==1\n",
    "    if gcd(a,n)==1:\n",
    "        return sorted(list(set([power_mod(a,k,n) for k in range(0,Totient(n)+1)])))\n",
    "    else:\n",
    "        print(\"GCD({},{})={}\".format(a,n,gcd(a,n)))"
   ]
  },
  {
   "cell_type": "code",
   "execution_count": 32,
   "metadata": {},
   "outputs": [
    {
     "data": {
      "text/plain": [
       "[1, 2, 4, 8, 9, 13, 15, 16]"
      ]
     },
     "execution_count": 32,
     "metadata": {},
     "output_type": "execute_result"
    }
   ],
   "source": [
    "PowersOfElement(2,17) #hence 2 is not a generator of (Z/17)^x"
   ]
  },
  {
   "cell_type": "code",
   "execution_count": 35,
   "metadata": {},
   "outputs": [
    {
     "data": {
      "text/plain": [
       "True"
      ]
     },
     "execution_count": 35,
     "metadata": {},
     "output_type": "execute_result"
    }
   ],
   "source": [
    "PowersOfElement(3,17)==range(1,17) #hence [3]_{17} is a class which generates the group (Z/17)^x"
   ]
  },
  {
   "cell_type": "markdown",
   "metadata": {},
   "source": [
    "Let's compute ALL the generating elements of the group $(\\mathbb{Z}/n)^{\\times}$\n",
    "\n",
    "Approach: BRUTE FORCE (look through them all!)"
   ]
  },
  {
   "cell_type": "code",
   "execution_count": 70,
   "metadata": {},
   "outputs": [],
   "source": [
    "def GeneratorsOfMultGroup(n):\n",
    "    if n==2:\n",
    "        yield 1\n",
    "    for a in range(2,n):\n",
    "        if gcd(a,n)==1:\n",
    "            if len(PowersOfElement(a,n))==Totient(n):\n",
    "                yield a #like a return but we will not return all elements!"
   ]
  },
  {
   "cell_type": "code",
   "execution_count": 71,
   "metadata": {},
   "outputs": [],
   "source": [
    "def GeneratorsOfMultGroupList(n):\n",
    "    if n==2:\n",
    "        return [1]\n",
    "    gens=[]\n",
    "    for a in range(2,n):\n",
    "        if gcd(a,n)==1:\n",
    "            if len(PowersOfElement(a,n))==Totient(n):\n",
    "                gens.append(a)\n",
    "    return gens"
   ]
  },
  {
   "cell_type": "code",
   "execution_count": 72,
   "metadata": {},
   "outputs": [],
   "source": [
    "def FindAGeneratorMultGroup(n):\n",
    "    if n==2:\n",
    "        return 1\n",
    "    for a in range(2,n):\n",
    "        if gcd(a,n)==1:\n",
    "            if len(PowersOfElement(a,n))==Totient(n):\n",
    "                return a\n",
    "    return -1"
   ]
  },
  {
   "cell_type": "code",
   "execution_count": 73,
   "metadata": {},
   "outputs": [],
   "source": [
    "g=GeneratorsOfMultGroup(7)"
   ]
  },
  {
   "cell_type": "code",
   "execution_count": 74,
   "metadata": {},
   "outputs": [
    {
     "data": {
      "text/plain": [
       "3"
      ]
     },
     "execution_count": 74,
     "metadata": {},
     "output_type": "execute_result"
    }
   ],
   "source": [
    "next(g)"
   ]
  },
  {
   "cell_type": "code",
   "execution_count": 75,
   "metadata": {},
   "outputs": [
    {
     "data": {
      "text/plain": [
       "5"
      ]
     },
     "execution_count": 75,
     "metadata": {},
     "output_type": "execute_result"
    }
   ],
   "source": [
    "next(g)"
   ]
  },
  {
   "cell_type": "code",
   "execution_count": 76,
   "metadata": {},
   "outputs": [
    {
     "ename": "StopIteration",
     "evalue": "",
     "output_type": "error",
     "traceback": [
      "\u001b[0;31m---------------------------------------------------------------------------\u001b[0m",
      "\u001b[0;31mStopIteration\u001b[0m                             Traceback (most recent call last)",
      "\u001b[0;32m<ipython-input-76-e734f8aca5ac>\u001b[0m in \u001b[0;36m<module>\u001b[0;34m()\u001b[0m\n\u001b[0;32m----> 1\u001b[0;31m \u001b[0mnext\u001b[0m\u001b[0;34m(\u001b[0m\u001b[0mg\u001b[0m\u001b[0;34m)\u001b[0m\u001b[0;34m\u001b[0m\u001b[0m\n\u001b[0m",
      "\u001b[0;31mStopIteration\u001b[0m: "
     ]
    }
   ],
   "source": [
    "next(g)"
   ]
  },
  {
   "cell_type": "code",
   "execution_count": 77,
   "metadata": {},
   "outputs": [
    {
     "data": {
      "text/plain": [
       "[3, 5]"
      ]
     },
     "execution_count": 77,
     "metadata": {},
     "output_type": "execute_result"
    }
   ],
   "source": [
    "GeneratorsOfMultGroupList(7)"
   ]
  },
  {
   "cell_type": "code",
   "execution_count": 78,
   "metadata": {},
   "outputs": [
    {
     "data": {
      "text/plain": [
       "[3, 5, 6, 7, 10, 11, 12, 14]"
      ]
     },
     "execution_count": 78,
     "metadata": {},
     "output_type": "execute_result"
    }
   ],
   "source": [
    "GeneratorsOfMultGroupList(17) #here we see that (Z/17)^x is cyclic!"
   ]
  },
  {
   "cell_type": "code",
   "execution_count": 79,
   "metadata": {},
   "outputs": [
    {
     "data": {
      "text/plain": [
       "[]"
      ]
     },
     "execution_count": 79,
     "metadata": {},
     "output_type": "execute_result"
    }
   ],
   "source": [
    "GeneratorsOfMultGroupList(1000) #this means that the group (Z/1000)^x is not cyclic!!!!"
   ]
  },
  {
   "cell_type": "code",
   "execution_count": 80,
   "metadata": {},
   "outputs": [
    {
     "data": {
      "text/plain": [
       "[2, 6, 7, 8]"
      ]
     },
     "execution_count": 80,
     "metadata": {},
     "output_type": "execute_result"
    }
   ],
   "source": [
    "GeneratorsOfMultGroupList(11)"
   ]
  },
  {
   "cell_type": "code",
   "execution_count": 81,
   "metadata": {},
   "outputs": [
    {
     "data": {
      "text/plain": [
       "48"
      ]
     },
     "execution_count": 81,
     "metadata": {},
     "output_type": "execute_result"
    }
   ],
   "source": [
    "len(GeneratorsOfMultGroupList(131))"
   ]
  },
  {
   "cell_type": "code",
   "execution_count": 82,
   "metadata": {},
   "outputs": [
    {
     "data": {
      "text/plain": [
       "0"
      ]
     },
     "execution_count": 82,
     "metadata": {},
     "output_type": "execute_result"
    }
   ],
   "source": [
    "len(GeneratorsOfMultGroupList(15)) #(Z/15)^x is not cyclic"
   ]
  },
  {
   "cell_type": "markdown",
   "metadata": {},
   "source": [
    "Conjecture 1:\n",
    "The group $(\\mathbb{Z}/p)^{\\times}$ is cyclic if the number $p$ is prime."
   ]
  },
  {
   "cell_type": "markdown",
   "metadata": {},
   "source": [
    "Verification (numerical):"
   ]
  },
  {
   "cell_type": "code",
   "execution_count": 63,
   "metadata": {},
   "outputs": [
    {
     "data": {
      "text/plain": [
       "31"
      ]
     },
     "execution_count": 63,
     "metadata": {},
     "output_type": "execute_result"
    }
   ],
   "source": [
    "Primes()[10] #Sage has a lazy list of primes, use it!"
   ]
  },
  {
   "cell_type": "code",
   "execution_count": 86,
   "metadata": {},
   "outputs": [
    {
     "data": {
      "text/plain": [
       "True"
      ]
     },
     "execution_count": 86,
     "metadata": {},
     "output_type": "execute_result"
    }
   ],
   "source": [
    "all([FindAGeneratorMultGroup(Primes()[k])>0  for k in range(0,1000)])"
   ]
  },
  {
   "cell_type": "markdown",
   "metadata": {},
   "source": [
    "Theorem:\n",
    "The group $(\\mathbb{Z}/p^e)^{\\times}$ is cyclic if the number the following cases are considered:\n",
    "1. $p$ is prime and $p>2$ and $e\\geq 1$\n",
    "2. $p=2$ and $e=1,2$ then this is the case\n",
    "\n",
    "And otherwise it it not cyclic ($p=2, e\\geq 3$)."
   ]
  },
  {
   "cell_type": "code",
   "execution_count": 99,
   "metadata": {},
   "outputs": [
    {
     "data": {
      "text/plain": [
       "[]"
      ]
     },
     "execution_count": 99,
     "metadata": {},
     "output_type": "execute_result"
    }
   ],
   "source": [
    "GeneratorsOfMultGroupList(2**3) #what is going on???"
   ]
  },
  {
   "cell_type": "markdown",
   "metadata": {},
   "source": [
    "To find out why for the composite $n$ some group $(\\mathbb{Z}/n)^{\\times}$ have no generator, we have to use the theorem above and the Chinese Remainder Theorem."
   ]
  },
  {
   "cell_type": "markdown",
   "metadata": {},
   "source": [
    "Theorem (Chinese Remainder Theorem):\n",
    "Suppose we have a system of congruences:\n",
    "\n",
    "$x\\equiv a_1\\textrm{ mod }m_1$\n",
    "\n",
    "$x\\equiv a_2\\textrm{ mod }m_2$\n",
    "\n",
    "$\\ldots$\n",
    "\n",
    "$x\\equiv a_k\\textrm{ mod }m_k$\n",
    "\n",
    "Then, a solution $x$ exists if $m_i$ are pairwise coprime, and there is a unique solution in the range $0$ and $m_1\\cdot m_2\\cdot\\ldots m_k$.\n",
    "\n",
    "Remark:notice that $a_i$ are arbitrary numbers!"
   ]
  },
  {
   "cell_type": "markdown",
   "metadata": {},
   "source": [
    "Example 1:\n",
    "\n",
    "\n",
    "$x\\equiv 1\\textrm{ mod }3$\n",
    "\n",
    "$x\\equiv 1\\textrm{ mod }5$\n",
    "\n",
    "\n",
    "Can we find an integer $0\\leq x\\leq 15$ such that these two congruences hold? \n",
    "\n",
    "YES, by Chinese Remainder Theorem!"
   ]
  },
  {
   "cell_type": "code",
   "execution_count": 102,
   "metadata": {},
   "outputs": [],
   "source": [
    "def CRM(alist,mlist):\n",
    "    if not(len(alist)==len(mlist)):\n",
    "        print(\"Wrong length of lists\")\n",
    "    if gcd(mlist)==1:\n",
    "        m=1\n",
    "        for el in mlist:\n",
    "            m*=el\n",
    "        for x in range(0,m+1):\n",
    "            if all([(x-alist[i])%mlist[i]==0 for i in range(0,len(alist)) ]):\n",
    "                return x\n",
    "    else:\n",
    "        print(\"GCD not 1\")"
   ]
  },
  {
   "cell_type": "code",
   "execution_count": 104,
   "metadata": {},
   "outputs": [
    {
     "data": {
      "text/plain": [
       "1"
      ]
     },
     "execution_count": 104,
     "metadata": {},
     "output_type": "execute_result"
    }
   ],
   "source": [
    "CRM([1,1],[3,5])"
   ]
  },
  {
   "cell_type": "code",
   "execution_count": 105,
   "metadata": {},
   "outputs": [
    {
     "data": {
      "text/plain": [
       "14"
      ]
     },
     "execution_count": 105,
     "metadata": {},
     "output_type": "execute_result"
    }
   ],
   "source": [
    "CRM([2,4],[3,5])"
   ]
  },
  {
   "cell_type": "code",
   "execution_count": 106,
   "metadata": {},
   "outputs": [
    {
     "data": {
      "text/plain": [
       "2"
      ]
     },
     "execution_count": 106,
     "metadata": {},
     "output_type": "execute_result"
    }
   ],
   "source": [
    "14%3"
   ]
  },
  {
   "cell_type": "code",
   "execution_count": 107,
   "metadata": {},
   "outputs": [
    {
     "data": {
      "text/plain": [
       "4"
      ]
     },
     "execution_count": 107,
     "metadata": {},
     "output_type": "execute_result"
    }
   ],
   "source": [
    "14%5"
   ]
  },
  {
   "cell_type": "markdown",
   "metadata": {},
   "source": [
    "Using the CRM and the fact that every integer $n>1$ factors into prime powers\n",
    "\n",
    "$$n=p_1^{e_1}\\cdot\\ldots \\cdot p_k^{e_k}$$\n",
    "\n",
    "We can write that the multiplicative group $(\\mathbb{Z}/n)^{\\times}$ is a product (Cartesian product) of groups coming from the prime powers:\n",
    "\n",
    "$$(\\mathbb{Z}/n)^{\\times}  \\cong (\\mathbb{Z}/p_1^{e_1})^{\\times} \\times\\ldots\\times \n",
    "(\\mathbb{Z}/p_k^{e_k})^{\\times}$$\n",
    "\n",
    "\n",
    "Remark: $\\phi(n) = \\phi(p_1^{e_1})\\cdot\\ldots\\cdot\\phi(p_k^{e_k})$"
   ]
  },
  {
   "cell_type": "markdown",
   "metadata": {},
   "source": [
    "Example 2: $n= 500 = 2^2\\cdot 5^3$\n",
    "\n",
    "\n",
    "$$(\\mathbb{Z}/500)^{\\times}  \\cong (\\mathbb{Z}/2^{2})^{\\times} \\times (\\mathbb{Z}/5^{3})^{\\times}$$\n",
    "\n",
    "\n",
    "$(\\mathbb{Z}/2^{2})^{\\times}$ has order $\\phi(2^2) = 2^2-2^1 = 2$ and we know that this group is cyclic!\n",
    "\n",
    "$(\\mathbb{Z}/5^{3})^{\\times}$ has order $\\phi(5^3) = 5^3-5^2 = 100$ and we know that this group is cyclic!"
   ]
  },
  {
   "cell_type": "markdown",
   "metadata": {},
   "source": [
    "$(\\mathbb{Z}/2^{2})^{\\times}=\\langle g_1\\rangle$\n",
    "\n",
    "$(\\mathbb{Z}/5^{3})^{\\times}=\\langle g_2\\rangle$\n",
    "\n",
    "A candidate for the generator of $(\\mathbb{Z}/1000)^{\\times}$ could be an $x$.\n",
    "\n",
    "$x\\equiv g_1\\textrm{ mod }2^2$\n",
    "\n",
    "$x\\equiv g_2\\textrm{ mod }5^3$\n",
    "\n",
    "This would be a good candidate for the generator!\n",
    "\n",
    "But we have a problem, because $GCD(4,100)=4$ !"
   ]
  },
  {
   "cell_type": "code",
   "execution_count": 110,
   "metadata": {},
   "outputs": [
    {
     "data": {
      "text/plain": [
       "3"
      ]
     },
     "execution_count": 110,
     "metadata": {},
     "output_type": "execute_result"
    }
   ],
   "source": [
    "FindAGeneratorMultGroup(2^2)"
   ]
  },
  {
   "cell_type": "code",
   "execution_count": 111,
   "metadata": {},
   "outputs": [
    {
     "data": {
      "text/plain": [
       "2"
      ]
     },
     "execution_count": 111,
     "metadata": {},
     "output_type": "execute_result"
    }
   ],
   "source": [
    "FindAGeneratorMultGroup(5^3)"
   ]
  },
  {
   "cell_type": "code",
   "execution_count": 112,
   "metadata": {},
   "outputs": [
    {
     "data": {
      "text/plain": [
       "127"
      ]
     },
     "execution_count": 112,
     "metadata": {},
     "output_type": "execute_result"
    }
   ],
   "source": [
    "CRM([3,2],[2^2,5^3])"
   ]
  },
  {
   "cell_type": "code",
   "execution_count": 115,
   "metadata": {},
   "outputs": [
    {
     "data": {
      "text/plain": [
       "100"
      ]
     },
     "execution_count": 115,
     "metadata": {},
     "output_type": "execute_result"
    }
   ],
   "source": [
    "len({power_mod(127,k,500) for k in range(0,Totient(500))})"
   ]
  },
  {
   "cell_type": "markdown",
   "metadata": {},
   "source": [
    "Example 3: n = 2\\cdot 7\n",
    "\n",
    "$\\phi(2) = 1$\n",
    "\n",
    "$\\phi(7) = 6$\n",
    "\n",
    "Hence GCD(1,6) = 1, so there is a chance that $(\\mathbb{Z}/10)^{\\times}$ is cyclic!\n",
    "\n",
    "$x\\equiv 1\\textrm{ mod }2$\n",
    "\n",
    "$x\\equiv 3\\textrm{ mod }7$\n",
    "\n",
    "and we find a number: x=3"
   ]
  },
  {
   "cell_type": "code",
   "execution_count": 130,
   "metadata": {},
   "outputs": [
    {
     "data": {
      "text/plain": [
       "[1, 3, 9, 7]"
      ]
     },
     "execution_count": 130,
     "metadata": {},
     "output_type": "execute_result"
    }
   ],
   "source": [
    "[power_mod(3,k,10) for k in range(0,Totient(10))] #indeed, 3 is a generator of this group !"
   ]
  },
  {
   "cell_type": "code",
   "execution_count": 131,
   "metadata": {},
   "outputs": [
    {
     "data": {
      "text/plain": [
       "4"
      ]
     },
     "execution_count": 131,
     "metadata": {},
     "output_type": "execute_result"
    }
   ],
   "source": [
    "Totient(10)"
   ]
  },
  {
   "cell_type": "code",
   "execution_count": null,
   "metadata": {},
   "outputs": [],
   "source": []
  }
 ],
 "metadata": {
  "kernelspec": {
   "display_name": "SageMath 8.9",
   "language": "sage",
   "name": "sagemath"
  },
  "language_info": {
   "codemirror_mode": {
    "name": "ipython",
    "version": 2
   },
   "file_extension": ".py",
   "mimetype": "text/x-python",
   "name": "python",
   "nbconvert_exporter": "python",
   "pygments_lexer": "ipython2",
   "version": "2.7.15"
  }
 },
 "nbformat": 4,
 "nbformat_minor": 2
}
